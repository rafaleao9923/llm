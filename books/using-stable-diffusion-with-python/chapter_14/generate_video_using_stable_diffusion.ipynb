{
 "cells": [
  {
   "cell_type": "markdown",
   "metadata": {},
   "source": [
    "# Chapter 14 Generate Video Using Stable Diffusion"
   ]
  },
  {
   "cell_type": "markdown",
   "metadata": {},
   "source": [
    "## 1. Technical requirements"
   ]
  },
  {
   "cell_type": "code",
   "execution_count": 5,
   "metadata": {},
   "outputs": [
    {
     "name": "stdout",
     "output_type": "stream",
     "text": [
      "Looking in indexes: https://pypi.org/simple, https://pypi.ngc.nvidia.com\n",
      "Collecting diffusers==0.27.0\n",
      "  Downloading diffusers-0.27.0-py3-none-any.whl.metadata (18 kB)\n",
      "Requirement already satisfied: importlib-metadata in /home/andrewzhu/storage_1t_1/az_git_folder/Using-Stable-Diffusion-with-Python/sd_book_prd_p310_venv/lib/python3.10/site-packages (from diffusers==0.27.0) (7.1.0)\n",
      "Requirement already satisfied: filelock in /home/andrewzhu/storage_1t_1/az_git_folder/Using-Stable-Diffusion-with-Python/sd_book_prd_p310_venv/lib/python3.10/site-packages (from diffusers==0.27.0) (3.14.0)\n",
      "Requirement already satisfied: huggingface-hub>=0.20.2 in /home/andrewzhu/storage_1t_1/az_git_folder/Using-Stable-Diffusion-with-Python/sd_book_prd_p310_venv/lib/python3.10/site-packages (from diffusers==0.27.0) (0.23.0)\n",
      "Requirement already satisfied: numpy in /home/andrewzhu/storage_1t_1/az_git_folder/Using-Stable-Diffusion-with-Python/sd_book_prd_p310_venv/lib/python3.10/site-packages (from diffusers==0.27.0) (1.23.3)\n",
      "Requirement already satisfied: regex!=2019.12.17 in /home/andrewzhu/storage_1t_1/az_git_folder/Using-Stable-Diffusion-with-Python/sd_book_prd_p310_venv/lib/python3.10/site-packages (from diffusers==0.27.0) (2024.4.28)\n",
      "Requirement already satisfied: requests in /home/andrewzhu/storage_1t_1/az_git_folder/Using-Stable-Diffusion-with-Python/sd_book_prd_p310_venv/lib/python3.10/site-packages (from diffusers==0.27.0) (2.31.0)\n",
      "Requirement already satisfied: safetensors>=0.3.1 in /home/andrewzhu/storage_1t_1/az_git_folder/Using-Stable-Diffusion-with-Python/sd_book_prd_p310_venv/lib/python3.10/site-packages (from diffusers==0.27.0) (0.4.3)\n",
      "Requirement already satisfied: Pillow in /home/andrewzhu/storage_1t_1/az_git_folder/Using-Stable-Diffusion-with-Python/sd_book_prd_p310_venv/lib/python3.10/site-packages (from diffusers==0.27.0) (10.3.0)\n",
      "Requirement already satisfied: fsspec>=2023.5.0 in /home/andrewzhu/storage_1t_1/az_git_folder/Using-Stable-Diffusion-with-Python/sd_book_prd_p310_venv/lib/python3.10/site-packages (from huggingface-hub>=0.20.2->diffusers==0.27.0) (2024.3.1)\n",
      "Requirement already satisfied: packaging>=20.9 in /home/andrewzhu/storage_1t_1/az_git_folder/Using-Stable-Diffusion-with-Python/sd_book_prd_p310_venv/lib/python3.10/site-packages (from huggingface-hub>=0.20.2->diffusers==0.27.0) (24.0)\n",
      "Requirement already satisfied: pyyaml>=5.1 in /home/andrewzhu/storage_1t_1/az_git_folder/Using-Stable-Diffusion-with-Python/sd_book_prd_p310_venv/lib/python3.10/site-packages (from huggingface-hub>=0.20.2->diffusers==0.27.0) (6.0.1)\n",
      "Requirement already satisfied: tqdm>=4.42.1 in /home/andrewzhu/storage_1t_1/az_git_folder/Using-Stable-Diffusion-with-Python/sd_book_prd_p310_venv/lib/python3.10/site-packages (from huggingface-hub>=0.20.2->diffusers==0.27.0) (4.66.4)\n",
      "Requirement already satisfied: typing-extensions>=3.7.4.3 in /home/andrewzhu/storage_1t_1/az_git_folder/Using-Stable-Diffusion-with-Python/sd_book_prd_p310_venv/lib/python3.10/site-packages (from huggingface-hub>=0.20.2->diffusers==0.27.0) (4.11.0)\n",
      "Requirement already satisfied: zipp>=0.5 in /home/andrewzhu/storage_1t_1/az_git_folder/Using-Stable-Diffusion-with-Python/sd_book_prd_p310_venv/lib/python3.10/site-packages (from importlib-metadata->diffusers==0.27.0) (3.18.1)\n",
      "Requirement already satisfied: charset-normalizer<4,>=2 in /home/andrewzhu/storage_1t_1/az_git_folder/Using-Stable-Diffusion-with-Python/sd_book_prd_p310_venv/lib/python3.10/site-packages (from requests->diffusers==0.27.0) (3.3.2)\n",
      "Requirement already satisfied: idna<4,>=2.5 in /home/andrewzhu/storage_1t_1/az_git_folder/Using-Stable-Diffusion-with-Python/sd_book_prd_p310_venv/lib/python3.10/site-packages (from requests->diffusers==0.27.0) (3.7)\n",
      "Requirement already satisfied: urllib3<3,>=1.21.1 in /home/andrewzhu/storage_1t_1/az_git_folder/Using-Stable-Diffusion-with-Python/sd_book_prd_p310_venv/lib/python3.10/site-packages (from requests->diffusers==0.27.0) (2.2.1)\n",
      "Requirement already satisfied: certifi>=2017.4.17 in /home/andrewzhu/storage_1t_1/az_git_folder/Using-Stable-Diffusion-with-Python/sd_book_prd_p310_venv/lib/python3.10/site-packages (from requests->diffusers==0.27.0) (2024.2.2)\n",
      "Downloading diffusers-0.27.0-py3-none-any.whl (2.0 MB)\n",
      "\u001b[2K   \u001b[90m━━━━━━━━━━━━━━━━━━━━━━━━━━━━━━━━━━━━━━━━\u001b[0m \u001b[32m2.0/2.0 MB\u001b[0m \u001b[31m1.8 MB/s\u001b[0m eta \u001b[36m0:00:00\u001b[0ma \u001b[36m0:00:01\u001b[0m\n",
      "\u001b[?25hInstalling collected packages: diffusers\n",
      "  Attempting uninstall: diffusers\n",
      "    Found existing installation: diffusers 0.23.1\n",
      "    Uninstalling diffusers-0.23.1:\n",
      "      Successfully uninstalled diffusers-0.23.1\n",
      "Successfully installed diffusers-0.27.0\n",
      "Note: you may need to restart the kernel to use updated packages.\n",
      "Looking in indexes: https://pypi.org/simple, https://pypi.ngc.nvidia.com\n",
      "Requirement already satisfied: peft==0.6.2 in /home/andrewzhu/storage_1t_1/az_git_folder/Using-Stable-Diffusion-with-Python/sd_book_prd_p310_venv/lib/python3.10/site-packages (0.6.2)\n",
      "Requirement already satisfied: numpy>=1.17 in /home/andrewzhu/storage_1t_1/az_git_folder/Using-Stable-Diffusion-with-Python/sd_book_prd_p310_venv/lib/python3.10/site-packages (from peft==0.6.2) (1.23.3)\n",
      "Requirement already satisfied: packaging>=20.0 in /home/andrewzhu/storage_1t_1/az_git_folder/Using-Stable-Diffusion-with-Python/sd_book_prd_p310_venv/lib/python3.10/site-packages (from peft==0.6.2) (24.0)\n",
      "Requirement already satisfied: psutil in /home/andrewzhu/storage_1t_1/az_git_folder/Using-Stable-Diffusion-with-Python/sd_book_prd_p310_venv/lib/python3.10/site-packages (from peft==0.6.2) (5.9.8)\n",
      "Requirement already satisfied: pyyaml in /home/andrewzhu/storage_1t_1/az_git_folder/Using-Stable-Diffusion-with-Python/sd_book_prd_p310_venv/lib/python3.10/site-packages (from peft==0.6.2) (6.0.1)\n",
      "Requirement already satisfied: torch>=1.13.0 in /home/andrewzhu/storage_1t_1/az_git_folder/Using-Stable-Diffusion-with-Python/sd_book_prd_p310_venv/lib/python3.10/site-packages (from peft==0.6.2) (2.3.0)\n",
      "Requirement already satisfied: transformers in /home/andrewzhu/storage_1t_1/az_git_folder/Using-Stable-Diffusion-with-Python/sd_book_prd_p310_venv/lib/python3.10/site-packages (from peft==0.6.2) (4.40.1)\n",
      "Requirement already satisfied: tqdm in /home/andrewzhu/storage_1t_1/az_git_folder/Using-Stable-Diffusion-with-Python/sd_book_prd_p310_venv/lib/python3.10/site-packages (from peft==0.6.2) (4.66.4)\n",
      "Requirement already satisfied: accelerate>=0.21.0 in /home/andrewzhu/storage_1t_1/az_git_folder/Using-Stable-Diffusion-with-Python/sd_book_prd_p310_venv/lib/python3.10/site-packages (from peft==0.6.2) (0.30.0)\n",
      "Requirement already satisfied: safetensors in /home/andrewzhu/storage_1t_1/az_git_folder/Using-Stable-Diffusion-with-Python/sd_book_prd_p310_venv/lib/python3.10/site-packages (from peft==0.6.2) (0.4.3)\n",
      "Requirement already satisfied: huggingface-hub in /home/andrewzhu/storage_1t_1/az_git_folder/Using-Stable-Diffusion-with-Python/sd_book_prd_p310_venv/lib/python3.10/site-packages (from accelerate>=0.21.0->peft==0.6.2) (0.23.0)\n",
      "Requirement already satisfied: filelock in /home/andrewzhu/storage_1t_1/az_git_folder/Using-Stable-Diffusion-with-Python/sd_book_prd_p310_venv/lib/python3.10/site-packages (from torch>=1.13.0->peft==0.6.2) (3.14.0)\n",
      "Requirement already satisfied: typing-extensions>=4.8.0 in /home/andrewzhu/storage_1t_1/az_git_folder/Using-Stable-Diffusion-with-Python/sd_book_prd_p310_venv/lib/python3.10/site-packages (from torch>=1.13.0->peft==0.6.2) (4.11.0)\n",
      "Requirement already satisfied: sympy in /home/andrewzhu/storage_1t_1/az_git_folder/Using-Stable-Diffusion-with-Python/sd_book_prd_p310_venv/lib/python3.10/site-packages (from torch>=1.13.0->peft==0.6.2) (1.12)\n",
      "Requirement already satisfied: networkx in /home/andrewzhu/storage_1t_1/az_git_folder/Using-Stable-Diffusion-with-Python/sd_book_prd_p310_venv/lib/python3.10/site-packages (from torch>=1.13.0->peft==0.6.2) (3.3)\n",
      "Requirement already satisfied: jinja2 in /home/andrewzhu/storage_1t_1/az_git_folder/Using-Stable-Diffusion-with-Python/sd_book_prd_p310_venv/lib/python3.10/site-packages (from torch>=1.13.0->peft==0.6.2) (3.1.3)\n",
      "Requirement already satisfied: fsspec in /home/andrewzhu/storage_1t_1/az_git_folder/Using-Stable-Diffusion-with-Python/sd_book_prd_p310_venv/lib/python3.10/site-packages (from torch>=1.13.0->peft==0.6.2) (2024.3.1)\n",
      "Requirement already satisfied: nvidia-cuda-nvrtc-cu12==12.1.105 in /home/andrewzhu/storage_1t_1/az_git_folder/Using-Stable-Diffusion-with-Python/sd_book_prd_p310_venv/lib/python3.10/site-packages (from torch>=1.13.0->peft==0.6.2) (12.1.105)\n",
      "Requirement already satisfied: nvidia-cuda-runtime-cu12==12.1.105 in /home/andrewzhu/storage_1t_1/az_git_folder/Using-Stable-Diffusion-with-Python/sd_book_prd_p310_venv/lib/python3.10/site-packages (from torch>=1.13.0->peft==0.6.2) (12.1.105)\n",
      "Requirement already satisfied: nvidia-cuda-cupti-cu12==12.1.105 in /home/andrewzhu/storage_1t_1/az_git_folder/Using-Stable-Diffusion-with-Python/sd_book_prd_p310_venv/lib/python3.10/site-packages (from torch>=1.13.0->peft==0.6.2) (12.1.105)\n",
      "Requirement already satisfied: nvidia-cudnn-cu12==8.9.2.26 in /home/andrewzhu/storage_1t_1/az_git_folder/Using-Stable-Diffusion-with-Python/sd_book_prd_p310_venv/lib/python3.10/site-packages (from torch>=1.13.0->peft==0.6.2) (8.9.2.26)\n",
      "Requirement already satisfied: nvidia-cublas-cu12==12.1.3.1 in /home/andrewzhu/storage_1t_1/az_git_folder/Using-Stable-Diffusion-with-Python/sd_book_prd_p310_venv/lib/python3.10/site-packages (from torch>=1.13.0->peft==0.6.2) (12.1.3.1)\n",
      "Requirement already satisfied: nvidia-cufft-cu12==11.0.2.54 in /home/andrewzhu/storage_1t_1/az_git_folder/Using-Stable-Diffusion-with-Python/sd_book_prd_p310_venv/lib/python3.10/site-packages (from torch>=1.13.0->peft==0.6.2) (11.0.2.54)\n",
      "Requirement already satisfied: nvidia-curand-cu12==10.3.2.106 in /home/andrewzhu/storage_1t_1/az_git_folder/Using-Stable-Diffusion-with-Python/sd_book_prd_p310_venv/lib/python3.10/site-packages (from torch>=1.13.0->peft==0.6.2) (10.3.2.106)\n",
      "Requirement already satisfied: nvidia-cusolver-cu12==11.4.5.107 in /home/andrewzhu/storage_1t_1/az_git_folder/Using-Stable-Diffusion-with-Python/sd_book_prd_p310_venv/lib/python3.10/site-packages (from torch>=1.13.0->peft==0.6.2) (11.4.5.107)\n",
      "Requirement already satisfied: nvidia-cusparse-cu12==12.1.0.106 in /home/andrewzhu/storage_1t_1/az_git_folder/Using-Stable-Diffusion-with-Python/sd_book_prd_p310_venv/lib/python3.10/site-packages (from torch>=1.13.0->peft==0.6.2) (12.1.0.106)\n",
      "Requirement already satisfied: nvidia-nccl-cu12==2.20.5 in /home/andrewzhu/storage_1t_1/az_git_folder/Using-Stable-Diffusion-with-Python/sd_book_prd_p310_venv/lib/python3.10/site-packages (from torch>=1.13.0->peft==0.6.2) (2.20.5)\n",
      "Requirement already satisfied: nvidia-nvtx-cu12==12.1.105 in /home/andrewzhu/storage_1t_1/az_git_folder/Using-Stable-Diffusion-with-Python/sd_book_prd_p310_venv/lib/python3.10/site-packages (from torch>=1.13.0->peft==0.6.2) (12.1.105)\n",
      "Requirement already satisfied: triton==2.3.0 in /home/andrewzhu/storage_1t_1/az_git_folder/Using-Stable-Diffusion-with-Python/sd_book_prd_p310_venv/lib/python3.10/site-packages (from torch>=1.13.0->peft==0.6.2) (2.3.0)\n",
      "Requirement already satisfied: nvidia-nvjitlink-cu12 in /home/andrewzhu/storage_1t_1/az_git_folder/Using-Stable-Diffusion-with-Python/sd_book_prd_p310_venv/lib/python3.10/site-packages (from nvidia-cusolver-cu12==11.4.5.107->torch>=1.13.0->peft==0.6.2) (12.4.127)\n",
      "Requirement already satisfied: regex!=2019.12.17 in /home/andrewzhu/storage_1t_1/az_git_folder/Using-Stable-Diffusion-with-Python/sd_book_prd_p310_venv/lib/python3.10/site-packages (from transformers->peft==0.6.2) (2024.4.28)\n",
      "Requirement already satisfied: requests in /home/andrewzhu/storage_1t_1/az_git_folder/Using-Stable-Diffusion-with-Python/sd_book_prd_p310_venv/lib/python3.10/site-packages (from transformers->peft==0.6.2) (2.31.0)\n",
      "Requirement already satisfied: tokenizers<0.20,>=0.19 in /home/andrewzhu/storage_1t_1/az_git_folder/Using-Stable-Diffusion-with-Python/sd_book_prd_p310_venv/lib/python3.10/site-packages (from transformers->peft==0.6.2) (0.19.1)\n",
      "Requirement already satisfied: MarkupSafe>=2.0 in /home/andrewzhu/storage_1t_1/az_git_folder/Using-Stable-Diffusion-with-Python/sd_book_prd_p310_venv/lib/python3.10/site-packages (from jinja2->torch>=1.13.0->peft==0.6.2) (2.1.5)\n",
      "Requirement already satisfied: charset-normalizer<4,>=2 in /home/andrewzhu/storage_1t_1/az_git_folder/Using-Stable-Diffusion-with-Python/sd_book_prd_p310_venv/lib/python3.10/site-packages (from requests->transformers->peft==0.6.2) (3.3.2)\n",
      "Requirement already satisfied: idna<4,>=2.5 in /home/andrewzhu/storage_1t_1/az_git_folder/Using-Stable-Diffusion-with-Python/sd_book_prd_p310_venv/lib/python3.10/site-packages (from requests->transformers->peft==0.6.2) (3.7)\n",
      "Requirement already satisfied: urllib3<3,>=1.21.1 in /home/andrewzhu/storage_1t_1/az_git_folder/Using-Stable-Diffusion-with-Python/sd_book_prd_p310_venv/lib/python3.10/site-packages (from requests->transformers->peft==0.6.2) (2.2.1)\n",
      "Requirement already satisfied: certifi>=2017.4.17 in /home/andrewzhu/storage_1t_1/az_git_folder/Using-Stable-Diffusion-with-Python/sd_book_prd_p310_venv/lib/python3.10/site-packages (from requests->transformers->peft==0.6.2) (2024.2.2)\n",
      "Requirement already satisfied: mpmath>=0.19 in /home/andrewzhu/storage_1t_1/az_git_folder/Using-Stable-Diffusion-with-Python/sd_book_prd_p310_venv/lib/python3.10/site-packages (from sympy->torch>=1.13.0->peft==0.6.2) (1.3.0)\n",
      "Note: you may need to restart the kernel to use updated packages.\n"
     ]
    }
   ],
   "source": [
    "%pip install -U diffusers==0.27.0\n",
    "%pip install peft==0.6.2"
   ]
  },
  {
   "cell_type": "markdown",
   "metadata": {},
   "source": [
    "## 3. Practical applications of AnimateDiff"
   ]
  },
  {
   "cell_type": "markdown",
   "metadata": {},
   "source": [
    "### 3.1. Load the AnimateDiff motion module"
   ]
  },
  {
   "cell_type": "code",
   "execution_count": 1,
   "metadata": {},
   "outputs": [
    {
     "name": "stderr",
     "output_type": "stream",
     "text": [
      "/home/andrewzhu/storage_1t_1/az_git_folder/Using-Stable-Diffusion-with-Python/sd_book_prd_p310_venv/lib/python3.10/site-packages/huggingface_hub/file_download.py:1132: FutureWarning: `resume_download` is deprecated and will be removed in version 1.0.0. Downloads always resume when possible. If you want to force a new download, use `force_download=True`.\n",
      "  warnings.warn(\n",
      "The config attributes {'motion_activation_fn': 'geglu', 'motion_attention_bias': False, 'motion_cross_attention_dim': None} were passed to MotionAdapter, but are not expected and will be ignored. Please verify your config.json configuration file.\n"
     ]
    }
   ],
   "source": [
    "from diffusers import MotionAdapter\n",
    "import torch\n",
    "\n",
    "adapter = MotionAdapter.from_pretrained(\n",
    "    \"guoyww/animatediff-motion-adapter-v1-5-2\"\n",
    ")"
   ]
  },
  {
   "cell_type": "markdown",
   "metadata": {},
   "source": [
    "### 3.2. Load up a AnimateDiff pipeline from a Stable Diffusion v1.5 checkpoint model"
   ]
  },
  {
   "cell_type": "code",
   "execution_count": 2,
   "metadata": {},
   "outputs": [
    {
     "name": "stderr",
     "output_type": "stream",
     "text": [
      "Keyword arguments {'safety_checker': None} are not expected by AnimateDiffPipeline and will be ignored.\n"
     ]
    },
    {
     "data": {
      "application/vnd.jupyter.widget-view+json": {
       "model_id": "c7817fca3dd147ceb644a618462d6036",
       "version_major": 2,
       "version_minor": 0
      },
      "text/plain": [
       "Loading pipeline components...:   0%|          | 0/6 [00:00<?, ?it/s]"
      ]
     },
     "metadata": {},
     "output_type": "display_data"
    },
    {
     "name": "stderr",
     "output_type": "stream",
     "text": [
      "/home/andrewzhu/storage_1t_1/az_git_folder/Using-Stable-Diffusion-with-Python/sd_book_prd_p310_venv/lib/python3.10/site-packages/transformers/models/clip/feature_extraction_clip.py:28: FutureWarning: The class CLIPFeatureExtractor is deprecated and will be removed in version 5 of Transformers. Please use CLIPImageProcessor instead.\n",
      "  warnings.warn(\n",
      "The config attributes {'center_input_sample': False, 'flip_sin_to_cos': True, 'freq_shift': 0, 'mid_block_type': 'UNetMidBlock2DCrossAttn', 'only_cross_attention': False, 'dropout': 0.0, 'transformer_layers_per_block': 1, 'attention_head_dim': 8, 'dual_cross_attention': False, 'class_embed_type': None, 'addition_embed_type': None, 'addition_time_embed_dim': None, 'num_class_embeds': None, 'upcast_attention': None, 'resnet_time_scale_shift': 'default', 'resnet_skip_time_act': False, 'resnet_out_scale_factor': 1.0, 'time_embedding_type': 'positional', 'time_embedding_dim': None, 'time_embedding_act_fn': None, 'timestep_post_act': None, 'conv_in_kernel': 3, 'conv_out_kernel': 3, 'projection_class_embeddings_input_dim': None, 'attention_type': 'default', 'class_embeddings_concat': False, 'mid_block_only_cross_attention': None, 'cross_attention_norm': None, 'addition_embed_type_num_heads': 64} were passed to UNetMotionModel, but are not expected and will be ignored. Please verify your config.json configuration file.\n"
     ]
    }
   ],
   "source": [
    "from diffusers import AnimateDiffPipeline\n",
    "\n",
    "# Use the model from Hugging Face repository directly\n",
    "# model_path = \"stablediffusionapi/majicmixrealistic-v6\"\n",
    "\n",
    "# use the model from local storage\n",
    "model_path = \"/home/andrewzhu/storage_1t_1/sd15_models/majicmixRealistic_v6\"\n",
    "pipe = AnimateDiffPipeline.from_pretrained(\n",
    "    model_path\n",
    "    , motion_adapter    = adapter\n",
    "    , safety_checker    = None\n",
    ")"
   ]
  },
  {
   "cell_type": "markdown",
   "metadata": {},
   "source": [
    "### 3.3. Prepare the scheduler"
   ]
  },
  {
   "cell_type": "code",
   "execution_count": 3,
   "metadata": {},
   "outputs": [],
   "source": [
    "from diffusers import EulerAncestralDiscreteScheduler\n",
    "scheduler = EulerAncestralDiscreteScheduler.from_pretrained(\n",
    "    model_path\n",
    "    , subfolder         = \"scheduler\"\n",
    "    , clip_sample       = False\n",
    "    , timestep_spacing  = \"linspace\"\n",
    "    , steps_offset      = 1\n",
    ")\n",
    "pipe.scheduler = scheduler\n",
    "#pipe.enable_model_cpu_offload()\n",
    "pipe.enable_vae_slicing()\n",
    "pipe.enable_vae_tiling()"
   ]
  },
  {
   "cell_type": "markdown",
   "metadata": {},
   "source": [
    "### 3.4. Generating a video clip"
   ]
  },
  {
   "cell_type": "code",
   "execution_count": 4,
   "metadata": {},
   "outputs": [
    {
     "data": {
      "application/vnd.jupyter.widget-view+json": {
       "model_id": "d68ee7f937d24e55b31e143ae1e66ade",
       "version_major": 2,
       "version_minor": 0
      },
      "text/plain": [
       "  0%|          | 0/30 [00:00<?, ?it/s]"
      ]
     },
     "metadata": {},
     "output_type": "display_data"
    },
    {
     "data": {
      "text/plain": [
       "'animation_origin_256_wo_lora.mp4'"
      ]
     },
     "execution_count": 4,
     "metadata": {},
     "output_type": "execute_result"
    }
   ],
   "source": [
    "import torch \n",
    "from diffusers.utils import export_to_gif, export_to_video\n",
    "\n",
    "prompt = \"\"\"photorealistic, 1girl, dramatic lighting\"\"\"\n",
    "\n",
    "neg_prompt = \"\"\"worst quality, low quality, normal quality, lowres, bad anatomy, bad hands, monochrome, grayscale watermark, moles\"\"\"\n",
    "pipe.to(\"cuda:0\")\n",
    "\n",
    "output = pipe(\n",
    "    prompt                  = prompt\n",
    "    , negative_prompt       = neg_prompt\n",
    "    , height                = 256\n",
    "    , width                 = 256\n",
    "    , num_frames            = 16\n",
    "    , num_inference_steps   = 30\n",
    "    , guidance_scale        = 8.5\n",
    "    , generator             = torch.Generator(\"cuda\").manual_seed(7)\n",
    ")\n",
    "frames = output.frames[0]\n",
    "torch.cuda.empty_cache()\n",
    "\n",
    "export_to_gif(frames, \"animation_origin_256_wo_lora.gif\")\n",
    "export_to_video(frames, \"animation_origin_256_wo_lora.mp4\")"
   ]
  },
  {
   "cell_type": "code",
   "execution_count": 5,
   "metadata": {},
   "outputs": [
    {
     "data": {
      "application/vnd.jupyter.widget-view+json": {
       "model_id": "61bdc40d04c445ada28b3bb7752a906c",
       "version_major": 2,
       "version_minor": 0
      },
      "text/plain": [
       "diffusion_pytorch_model.safetensors:   0%|          | 0.00/77.4M [00:00<?, ?B/s]"
      ]
     },
     "metadata": {},
     "output_type": "display_data"
    },
    {
     "data": {
      "application/vnd.jupyter.widget-view+json": {
       "model_id": "b444e9d5f04d4b118ed2f132b92fd0ee",
       "version_major": 2,
       "version_minor": 0
      },
      "text/plain": [
       "diffusion_pytorch_model.safetensors:   0%|          | 0.00/77.4M [00:00<?, ?B/s]"
      ]
     },
     "metadata": {},
     "output_type": "display_data"
    },
    {
     "data": {
      "application/vnd.jupyter.widget-view+json": {
       "model_id": "b3434805237d4fc0aa80c7d6a2b8110d",
       "version_major": 2,
       "version_minor": 0
      },
      "text/plain": [
       "diffusion_pytorch_model.safetensors:   0%|          | 0.00/77.4M [00:00<?, ?B/s]"
      ]
     },
     "metadata": {},
     "output_type": "display_data"
    },
    {
     "data": {
      "application/vnd.jupyter.widget-view+json": {
       "model_id": "83391f1f3122435782fe8c298e862e73",
       "version_major": 2,
       "version_minor": 0
      },
      "text/plain": [
       "diffusion_pytorch_model.safetensors:   0%|          | 0.00/77.4M [00:00<?, ?B/s]"
      ]
     },
     "metadata": {},
     "output_type": "display_data"
    },
    {
     "data": {
      "application/vnd.jupyter.widget-view+json": {
       "model_id": "b79a7de026a34d979fd34cbd642c63c5",
       "version_major": 2,
       "version_minor": 0
      },
      "text/plain": [
       "diffusion_pytorch_model.safetensors:   0%|          | 0.00/77.4M [00:00<?, ?B/s]"
      ]
     },
     "metadata": {},
     "output_type": "display_data"
    }
   ],
   "source": [
    "pipe.load_lora_weights(\"guoyww/animatediff-motion-lora-zoom-in\", adapter_name=\"zoom-in\")\n",
    "\n",
    "pipe.load_lora_weights(\"guoyww/animatediff-motion-lora-zoom-out\", adapter_name=\"zoom-out\")\n",
    "\n",
    "pipe.load_lora_weights(\"guoyww/animatediff-motion-lora-rolling-clockwise\", adapter_name=\"rolling-clockwise\")\n",
    "\n",
    "pipe.load_lora_weights(\"guoyww/animatediff-motion-lora-tilt-up\", adapter_name=\"tilt-up\")\n",
    "\n",
    "pipe.load_lora_weights(\"guoyww/animatediff-motion-lora-pan-left\", adapter_name=\"pan-left\")"
   ]
  },
  {
   "cell_type": "code",
   "execution_count": 6,
   "metadata": {},
   "outputs": [
    {
     "data": {
      "application/vnd.jupyter.widget-view+json": {
       "model_id": "3b3b6f744eef4fdc94d75b1da26a5933",
       "version_major": 2,
       "version_minor": 0
      },
      "text/plain": [
       "  0%|          | 0/30 [00:00<?, ?it/s]"
      ]
     },
     "metadata": {},
     "output_type": "display_data"
    },
    {
     "data": {
      "text/plain": [
       "'animation_origin_256_w_lora_zoom_in.mp4'"
      ]
     },
     "execution_count": 6,
     "metadata": {},
     "output_type": "execute_result"
    }
   ],
   "source": [
    "import torch \n",
    "from diffusers.utils import export_to_gif, export_to_video\n",
    "\n",
    "pipe.to(\"cuda:0\")\n",
    "prompt = \"\"\"\n",
    "photorealistic, 1girl, shape, highres, dramatic lighting\n",
    "\"\"\"\n",
    "\n",
    "neg_prompt = \"\"\"\n",
    "worst quality, low quality, normal quality, lowres, bad anatomy, bad hands\n",
    ", monochrome, grayscale watermark, watermark, url, site, names, moles, blur\n",
    "\"\"\"\n",
    "\n",
    "pipe.set_adapters(\n",
    "    [\"zoom-in\", \"zoom-out\",\"rolling-clockwise\",\"tilt-up\",\"pan-left\"]\n",
    "    , adapter_weights = [\n",
    "        1.0, 0.0, 0.0, 0.0, 0.0\n",
    "    ]\n",
    ")\n",
    "\n",
    "output = pipe(\n",
    "    prompt                  = prompt\n",
    "    , negative_prompt       = neg_prompt\n",
    "    , height                = 256\n",
    "    , width                 = 256\n",
    "    , num_frames            = 20\n",
    "    , num_inference_steps   = 30\n",
    "    , guidance_scale        = 8.5\n",
    "    , generator             = torch.Generator(\"cuda\").manual_seed(123)\n",
    ")\n",
    "frames = output.frames[0]\n",
    "pipe.to(\"cpu\")\n",
    "torch.cuda.empty_cache()\n",
    "\n",
    "export_to_gif(frames, \"animation_origin_256_w_lora_zoom_in.gif\")\n",
    "export_to_video(frames, \"animation_origin_256_w_lora_zoom_in.mp4\")"
   ]
  }
 ],
 "metadata": {
  "kernelspec": {
   "display_name": "azcode_venv_p310",
   "language": "python",
   "name": "python3"
  },
  "language_info": {
   "codemirror_mode": {
    "name": "ipython",
    "version": 3
   },
   "file_extension": ".py",
   "mimetype": "text/x-python",
   "name": "python",
   "nbconvert_exporter": "python",
   "pygments_lexer": "ipython3",
   "version": "3.10.12"
  }
 },
 "nbformat": 4,
 "nbformat_minor": 2
}
