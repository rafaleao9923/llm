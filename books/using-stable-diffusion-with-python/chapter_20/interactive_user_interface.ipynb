{
 "cells": [
  {
   "cell_type": "markdown",
   "metadata": {},
   "source": [
    "# Interactive User Interface"
   ]
  },
  {
   "cell_type": "markdown",
   "metadata": {},
   "source": [
    "## Get Started with Gradio"
   ]
  },
  {
   "cell_type": "code",
   "execution_count": 1,
   "metadata": {},
   "outputs": [
    {
     "name": "stdout",
     "output_type": "stream",
     "text": [
      "Requirement already satisfied: gradio in d:\\az_git_folder\\azcode\\azcode_venv_win_p310_2\\lib\\site-packages (3.32.0)\n",
      "Requirement already satisfied: aiofiles in d:\\az_git_folder\\azcode\\azcode_venv_win_p310_2\\lib\\site-packages (from gradio) (22.1.0)\n",
      "Requirement already satisfied: aiohttp in d:\\az_git_folder\\azcode\\azcode_venv_win_p310_2\\lib\\site-packages (from gradio) (3.8.4)\n",
      "Requirement already satisfied: altair>=4.2.0 in d:\\az_git_folder\\azcode\\azcode_venv_win_p310_2\\lib\\site-packages (from gradio) (5.0.1)\n",
      "Requirement already satisfied: fastapi in d:\\az_git_folder\\azcode\\azcode_venv_win_p310_2\\lib\\site-packages (from gradio) (0.94.0)\n",
      "Requirement already satisfied: ffmpy in d:\\az_git_folder\\azcode\\azcode_venv_win_p310_2\\lib\\site-packages (from gradio) (0.3.0)\n",
      "Requirement already satisfied: gradio-client>=0.2.4 in d:\\az_git_folder\\azcode\\azcode_venv_win_p310_2\\lib\\site-packages (from gradio) (0.2.7)\n",
      "Requirement already satisfied: httpx in d:\\az_git_folder\\azcode\\azcode_venv_win_p310_2\\lib\\site-packages (from gradio) (0.24.1)\n",
      "Requirement already satisfied: huggingface-hub>=0.13.0 in d:\\az_git_folder\\azcode\\azcode_venv_win_p310_2\\lib\\site-packages (from gradio) (0.14.1)\n",
      "Requirement already satisfied: jinja2 in d:\\az_git_folder\\azcode\\azcode_venv_win_p310_2\\lib\\site-packages (from gradio) (3.1.2)\n",
      "Requirement already satisfied: markdown-it-py[linkify]>=2.0.0 in d:\\az_git_folder\\azcode\\azcode_venv_win_p310_2\\lib\\site-packages (from gradio) (2.2.0)\n",
      "Requirement already satisfied: markupsafe in d:\\az_git_folder\\azcode\\azcode_venv_win_p310_2\\lib\\site-packages (from gradio) (2.1.2)\n",
      "Requirement already satisfied: matplotlib in d:\\az_git_folder\\azcode\\azcode_venv_win_p310_2\\lib\\site-packages (from gradio) (3.7.2)\n",
      "Requirement already satisfied: mdit-py-plugins<=0.3.3 in d:\\az_git_folder\\azcode\\azcode_venv_win_p310_2\\lib\\site-packages (from gradio) (0.3.3)\n",
      "Requirement already satisfied: numpy in d:\\az_git_folder\\azcode\\azcode_venv_win_p310_2\\lib\\site-packages (from gradio) (1.23.5)\n",
      "Requirement already satisfied: orjson in d:\\az_git_folder\\azcode\\azcode_venv_win_p310_2\\lib\\site-packages (from gradio) (3.9.2)\n",
      "Requirement already satisfied: pandas in d:\\az_git_folder\\azcode\\azcode_venv_win_p310_2\\lib\\site-packages (from gradio) (2.0.3)\n",
      "Requirement already satisfied: pillow in d:\\az_git_folder\\azcode\\azcode_venv_win_p310_2\\lib\\site-packages (from gradio) (9.5.0)\n",
      "Requirement already satisfied: pydantic in d:\\az_git_folder\\azcode\\azcode_venv_win_p310_2\\lib\\site-packages (from gradio) (1.10.11)\n",
      "Requirement already satisfied: pydub in d:\\az_git_folder\\azcode\\azcode_venv_win_p310_2\\lib\\site-packages (from gradio) (0.25.1)\n",
      "Requirement already satisfied: pygments>=2.12.0 in d:\\az_git_folder\\azcode\\azcode_venv_win_p310_2\\lib\\site-packages (from gradio) (2.15.1)\n",
      "Requirement already satisfied: python-multipart in d:\\az_git_folder\\azcode\\azcode_venv_win_p310_2\\lib\\site-packages (from gradio) (0.0.6)\n",
      "Requirement already satisfied: pyyaml in d:\\az_git_folder\\azcode\\azcode_venv_win_p310_2\\lib\\site-packages (from gradio) (6.0)\n",
      "Requirement already satisfied: requests in d:\\az_git_folder\\azcode\\azcode_venv_win_p310_2\\lib\\site-packages (from gradio) (2.30.0)\n",
      "Requirement already satisfied: semantic-version in d:\\az_git_folder\\azcode\\azcode_venv_win_p310_2\\lib\\site-packages (from gradio) (2.10.0)\n",
      "Requirement already satisfied: typing-extensions in d:\\az_git_folder\\azcode\\azcode_venv_win_p310_2\\lib\\site-packages (from gradio) (4.5.0)\n",
      "Requirement already satisfied: uvicorn>=0.14.0 in d:\\az_git_folder\\azcode\\azcode_venv_win_p310_2\\lib\\site-packages (from gradio) (0.22.0)\n",
      "Requirement already satisfied: websockets>=10.0 in d:\\az_git_folder\\azcode\\azcode_venv_win_p310_2\\lib\\site-packages (from gradio) (10.4)\n",
      "Requirement already satisfied: jsonschema>=3.0 in d:\\az_git_folder\\azcode\\azcode_venv_win_p310_2\\lib\\site-packages (from altair>=4.2.0->gradio) (4.17.3)\n",
      "Requirement already satisfied: toolz in d:\\az_git_folder\\azcode\\azcode_venv_win_p310_2\\lib\\site-packages (from altair>=4.2.0->gradio) (0.12.0)\n",
      "Requirement already satisfied: fsspec in d:\\az_git_folder\\azcode\\azcode_venv_win_p310_2\\lib\\site-packages (from gradio-client>=0.2.4->gradio) (2023.5.0)\n",
      "Requirement already satisfied: packaging in d:\\az_git_folder\\azcode\\azcode_venv_win_p310_2\\lib\\site-packages (from gradio-client>=0.2.4->gradio) (23.1)\n",
      "Requirement already satisfied: filelock in d:\\az_git_folder\\azcode\\azcode_venv_win_p310_2\\lib\\site-packages (from huggingface-hub>=0.13.0->gradio) (3.12.0)\n",
      "Requirement already satisfied: tqdm>=4.42.1 in d:\\az_git_folder\\azcode\\azcode_venv_win_p310_2\\lib\\site-packages (from huggingface-hub>=0.13.0->gradio) (4.65.0)\n",
      "Requirement already satisfied: mdurl~=0.1 in d:\\az_git_folder\\azcode\\azcode_venv_win_p310_2\\lib\\site-packages (from markdown-it-py[linkify]>=2.0.0->gradio) (0.1.2)\n",
      "Requirement already satisfied: linkify-it-py<3,>=1 in d:\\az_git_folder\\azcode\\azcode_venv_win_p310_2\\lib\\site-packages (from markdown-it-py[linkify]>=2.0.0->gradio) (2.0.2)\n",
      "Requirement already satisfied: python-dateutil>=2.8.2 in d:\\az_git_folder\\azcode\\azcode_venv_win_p310_2\\lib\\site-packages (from pandas->gradio) (2.8.2)\n",
      "Requirement already satisfied: pytz>=2020.1 in d:\\az_git_folder\\azcode\\azcode_venv_win_p310_2\\lib\\site-packages (from pandas->gradio) (2023.3)\n",
      "Requirement already satisfied: tzdata>=2022.1 in d:\\az_git_folder\\azcode\\azcode_venv_win_p310_2\\lib\\site-packages (from pandas->gradio) (2023.3)\n",
      "Requirement already satisfied: click>=7.0 in d:\\az_git_folder\\azcode\\azcode_venv_win_p310_2\\lib\\site-packages (from uvicorn>=0.14.0->gradio) (8.1.4)\n",
      "Requirement already satisfied: h11>=0.8 in d:\\az_git_folder\\azcode\\azcode_venv_win_p310_2\\lib\\site-packages (from uvicorn>=0.14.0->gradio) (0.12.0)\n",
      "Requirement already satisfied: attrs>=17.3.0 in d:\\az_git_folder\\azcode\\azcode_venv_win_p310_2\\lib\\site-packages (from aiohttp->gradio) (23.1.0)\n",
      "Requirement already satisfied: charset-normalizer<4.0,>=2.0 in d:\\az_git_folder\\azcode\\azcode_venv_win_p310_2\\lib\\site-packages (from aiohttp->gradio) (3.1.0)\n",
      "Requirement already satisfied: multidict<7.0,>=4.5 in d:\\az_git_folder\\azcode\\azcode_venv_win_p310_2\\lib\\site-packages (from aiohttp->gradio) (6.0.4)\n",
      "Requirement already satisfied: async-timeout<5.0,>=4.0.0a3 in d:\\az_git_folder\\azcode\\azcode_venv_win_p310_2\\lib\\site-packages (from aiohttp->gradio) (4.0.2)\n",
      "Requirement already satisfied: yarl<2.0,>=1.0 in d:\\az_git_folder\\azcode\\azcode_venv_win_p310_2\\lib\\site-packages (from aiohttp->gradio) (1.9.2)\n",
      "Requirement already satisfied: frozenlist>=1.1.1 in d:\\az_git_folder\\azcode\\azcode_venv_win_p310_2\\lib\\site-packages (from aiohttp->gradio) (1.3.3)\n",
      "Requirement already satisfied: aiosignal>=1.1.2 in d:\\az_git_folder\\azcode\\azcode_venv_win_p310_2\\lib\\site-packages (from aiohttp->gradio) (1.3.1)\n",
      "Requirement already satisfied: starlette<0.27.0,>=0.26.0 in d:\\az_git_folder\\azcode\\azcode_venv_win_p310_2\\lib\\site-packages (from fastapi->gradio) (0.26.1)\n",
      "Requirement already satisfied: certifi in d:\\az_git_folder\\azcode\\azcode_venv_win_p310_2\\lib\\site-packages (from httpx->gradio) (2023.5.7)\n",
      "Requirement already satisfied: httpcore<0.18.0,>=0.15.0 in d:\\az_git_folder\\azcode\\azcode_venv_win_p310_2\\lib\\site-packages (from httpx->gradio) (0.15.0)\n",
      "Requirement already satisfied: idna in d:\\az_git_folder\\azcode\\azcode_venv_win_p310_2\\lib\\site-packages (from httpx->gradio) (3.4)\n",
      "Requirement already satisfied: sniffio in d:\\az_git_folder\\azcode\\azcode_venv_win_p310_2\\lib\\site-packages (from httpx->gradio) (1.3.0)\n",
      "Requirement already satisfied: contourpy>=1.0.1 in d:\\az_git_folder\\azcode\\azcode_venv_win_p310_2\\lib\\site-packages (from matplotlib->gradio) (1.1.0)\n",
      "Requirement already satisfied: cycler>=0.10 in d:\\az_git_folder\\azcode\\azcode_venv_win_p310_2\\lib\\site-packages (from matplotlib->gradio) (0.11.0)\n",
      "Requirement already satisfied: fonttools>=4.22.0 in d:\\az_git_folder\\azcode\\azcode_venv_win_p310_2\\lib\\site-packages (from matplotlib->gradio) (4.40.0)\n",
      "Requirement already satisfied: kiwisolver>=1.0.1 in d:\\az_git_folder\\azcode\\azcode_venv_win_p310_2\\lib\\site-packages (from matplotlib->gradio) (1.4.4)\n",
      "Requirement already satisfied: pyparsing<3.1,>=2.3.1 in d:\\az_git_folder\\azcode\\azcode_venv_win_p310_2\\lib\\site-packages (from matplotlib->gradio) (3.0.9)\n",
      "Requirement already satisfied: urllib3<3,>=1.21.1 in d:\\az_git_folder\\azcode\\azcode_venv_win_p310_2\\lib\\site-packages (from requests->gradio) (1.26.16)\n",
      "Requirement already satisfied: colorama in d:\\az_git_folder\\azcode\\azcode_venv_win_p310_2\\lib\\site-packages (from click>=7.0->uvicorn>=0.14.0->gradio) (0.4.6)\n",
      "Requirement already satisfied: anyio==3.* in d:\\az_git_folder\\azcode\\azcode_venv_win_p310_2\\lib\\site-packages (from httpcore<0.18.0,>=0.15.0->httpx->gradio) (3.6.2)\n",
      "Requirement already satisfied: pyrsistent!=0.17.0,!=0.17.1,!=0.17.2,>=0.14.0 in d:\\az_git_folder\\azcode\\azcode_venv_win_p310_2\\lib\\site-packages (from jsonschema>=3.0->altair>=4.2.0->gradio) (0.19.3)\n",
      "Requirement already satisfied: uc-micro-py in d:\\az_git_folder\\azcode\\azcode_venv_win_p310_2\\lib\\site-packages (from linkify-it-py<3,>=1->markdown-it-py[linkify]>=2.0.0->gradio) (1.0.2)\n",
      "Requirement already satisfied: six>=1.5 in d:\\az_git_folder\\azcode\\azcode_venv_win_p310_2\\lib\\site-packages (from python-dateutil>=2.8.2->pandas->gradio) (1.16.0)\n",
      "Note: you may need to restart the kernel to use updated packages.\n"
     ]
    },
    {
     "name": "stderr",
     "output_type": "stream",
     "text": [
      "\n",
      "[notice] A new release of pip is available: 23.1.2 -> 23.2.1\n",
      "[notice] To update, run: python.exe -m pip install --upgrade pip\n"
     ]
    },
    {
     "name": "stdout",
     "output_type": "stream",
     "text": [
      "Requirement already satisfied: click in d:\\az_git_folder\\azcode\\azcode_venv_win_p310_2\\lib\\site-packages (8.1.4)\n",
      "Collecting click\n",
      "  Downloading click-8.1.7-py3-none-any.whl (97 kB)\n",
      "                                              0.0/97.9 kB ? eta -:--:--\n",
      "     ---------------------------------------- 97.9/97.9 kB 5.5 MB/s eta 0:00:00\n",
      "Requirement already satisfied: colorama in d:\\az_git_folder\\azcode\\azcode_venv_win_p310_2\\lib\\site-packages (from click) (0.4.6)\n",
      "Installing collected packages: click\n",
      "  Attempting uninstall: click\n",
      "    Found existing installation: click 8.1.4\n",
      "    Uninstalling click-8.1.4:\n",
      "      Successfully uninstalled click-8.1.4\n",
      "Successfully installed click-8.1.7\n",
      "Note: you may need to restart the kernel to use updated packages.\n"
     ]
    },
    {
     "name": "stderr",
     "output_type": "stream",
     "text": [
      "\n",
      "[notice] A new release of pip is available: 23.1.2 -> 23.2.1\n",
      "[notice] To update, run: python.exe -m pip install --upgrade pip\n"
     ]
    },
    {
     "name": "stdout",
     "output_type": "stream",
     "text": [
      "Requirement already satisfied: uvicorn in d:\\az_git_folder\\azcode\\azcode_venv_win_p310_2\\lib\\site-packages (0.22.0)\n",
      "Collecting uvicorn\n",
      "  Downloading uvicorn-0.23.2-py3-none-any.whl (59 kB)\n",
      "                                              0.0/59.5 kB ? eta -:--:--\n",
      "     ---------------------------------------- 59.5/59.5 kB 3.1 MB/s eta 0:00:00\n",
      "Requirement already satisfied: click>=7.0 in d:\\az_git_folder\\azcode\\azcode_venv_win_p310_2\\lib\\site-packages (from uvicorn) (8.1.7)\n",
      "Requirement already satisfied: h11>=0.8 in d:\\az_git_folder\\azcode\\azcode_venv_win_p310_2\\lib\\site-packages (from uvicorn) (0.12.0)\n",
      "Requirement already satisfied: typing-extensions>=4.0 in d:\\az_git_folder\\azcode\\azcode_venv_win_p310_2\\lib\\site-packages (from uvicorn) (4.5.0)\n",
      "Requirement already satisfied: colorama in d:\\az_git_folder\\azcode\\azcode_venv_win_p310_2\\lib\\site-packages (from click>=7.0->uvicorn) (0.4.6)\n",
      "Installing collected packages: uvicorn\n",
      "  Attempting uninstall: uvicorn\n",
      "    Found existing installation: uvicorn 0.22.0\n",
      "    Uninstalling uvicorn-0.22.0:\n",
      "      Successfully uninstalled uvicorn-0.22.0\n",
      "Successfully installed uvicorn-0.23.2\n",
      "Note: you may need to restart the kernel to use updated packages.\n"
     ]
    },
    {
     "name": "stderr",
     "output_type": "stream",
     "text": [
      "\n",
      "[notice] A new release of pip is available: 23.1.2 -> 23.2.1\n",
      "[notice] To update, run: python.exe -m pip install --upgrade pip\n"
     ]
    }
   ],
   "source": [
    "# Install Gradio using pip\n",
    "%pip install gradio\n",
    "%pip install -U click\n",
    "%pip install -U uvicorn"
   ]
  },
  {
   "cell_type": "code",
   "execution_count": 2,
   "metadata": {},
   "outputs": [
    {
     "name": "stderr",
     "output_type": "stream",
     "text": [
      "d:\\az_git_folder\\azcode\\azcode_venv_win_p310_2\\lib\\site-packages\\tqdm\\auto.py:21: TqdmWarning: IProgress not found. Please update jupyter and ipywidgets. See https://ipywidgets.readthedocs.io/en/stable/user_install.html\n",
      "  from .autonotebook import tqdm as notebook_tqdm\n"
     ]
    },
    {
     "name": "stdout",
     "output_type": "stream",
     "text": [
      "Running on local URL:  http://127.0.0.1:7861\n",
      "\n",
      "To create a public link, set `share=True` in `launch()`.\n"
     ]
    },
    {
     "data": {
      "text/html": [
       "<div><iframe src=\"http://127.0.0.1:7861/\" width=\"100%\" height=\"500\" allow=\"autoplay; camera; microphone; clipboard-read; clipboard-write;\" frameborder=\"0\" allowfullscreen></iframe></div>"
      ],
      "text/plain": [
       "<IPython.core.display.HTML object>"
      ]
     },
     "metadata": {},
     "output_type": "display_data"
    },
    {
     "data": {
      "text/plain": []
     },
     "execution_count": 2,
     "metadata": {},
     "output_type": "execute_result"
    }
   ],
   "source": [
    "# Start a Gradio Hello World application\n",
    "import gradio\n",
    "\n",
    "def greet(name):\n",
    "    return \"Hello \" + name + \"!\"\n",
    "\n",
    "demo = gradio.Interface(\n",
    "    fn = greet\n",
    "    , inputs = \"text\"\n",
    "    , outputs = \"text\"\n",
    ")\n",
    "\n",
    "demo.launch()\n"
   ]
  },
  {
   "cell_type": "code",
   "execution_count": 4,
   "metadata": {},
   "outputs": [
    {
     "name": "stdout",
     "output_type": "stream",
     "text": [
      "Closing server running on port: 7861\n",
      "Running on local URL:  http://127.0.0.1:7861\n",
      "\n",
      "To create a public link, set `share=True` in `launch()`.\n"
     ]
    },
    {
     "data": {
      "text/html": [
       "<div><iframe src=\"http://127.0.0.1:7861/\" width=\"100%\" height=\"500\" allow=\"autoplay; camera; microphone; clipboard-read; clipboard-write;\" frameborder=\"0\" allowfullscreen></iframe></div>"
      ],
      "text/plain": [
       "<IPython.core.display.HTML object>"
      ]
     },
     "metadata": {},
     "output_type": "display_data"
    },
    {
     "data": {
      "text/plain": []
     },
     "execution_count": 4,
     "metadata": {},
     "output_type": "execute_result"
    }
   ],
   "source": [
    "# use gradio.close_all() to close active ports\n",
    "import gradio\n",
    "\n",
    "def greet(name):\n",
    "    return \"Hello \" + name + \"!\"\n",
    "\n",
    "demo = gradio.Interface(\n",
    "    fn = greet\n",
    "    , inputs = \"text\"\n",
    "    , outputs = \"text\"\n",
    ")\n",
    "\n",
    "gradio.close_all()\n",
    "\n",
    "demo.launch(\n",
    "    server_port = 7860\n",
    ")"
   ]
  },
  {
   "cell_type": "code",
   "execution_count": 3,
   "metadata": {},
   "outputs": [
    {
     "name": "stdout",
     "output_type": "stream",
     "text": [
      "Running on local URL:  http://127.0.0.1:7862\n",
      "\n",
      "To create a public link, set `share=True` in `launch()`.\n"
     ]
    },
    {
     "data": {
      "text/html": [
       "<div><iframe src=\"http://127.0.0.1:7862/\" width=\"100%\" height=\"500\" allow=\"autoplay; camera; microphone; clipboard-read; clipboard-write;\" frameborder=\"0\" allowfullscreen></iframe></div>"
      ],
      "text/plain": [
       "<IPython.core.display.HTML object>"
      ]
     },
     "metadata": {},
     "output_type": "display_data"
    },
    {
     "data": {
      "text/plain": []
     },
     "execution_count": 3,
     "metadata": {},
     "output_type": "execute_result"
    }
   ],
   "source": [
    "# Use Blocks\n",
    "import gradio \n",
    "gradio.close_all()\n",
    "\n",
    "def greet(name):\n",
    "    return f\"hello {name} !\"\n",
    "\n",
    "with gradio.Blocks() as demo:\n",
    "    name_input      = gradio.Textbox(label = \"Name\")\n",
    "    output          = gradio.Textbox(label = \"output box\")\n",
    "    diffusion_btn   = gradio.Button(\"Generate\")\n",
    "    diffusion_btn.click(\n",
    "        fn          = greet\n",
    "        , inputs    = name_input\n",
    "        , outputs   = output\n",
    "    )\n",
    "\n",
    "#demo.launch(server_port = 7860)\n",
    "demo.launch()"
   ]
  },
  {
   "cell_type": "code",
   "execution_count": 5,
   "metadata": {},
   "outputs": [
    {
     "name": "stdout",
     "output_type": "stream",
     "text": [
      "Running on local URL:  http://127.0.0.1:7863\n",
      "\n",
      "To create a public link, set `share=True` in `launch()`.\n"
     ]
    },
    {
     "data": {
      "text/html": [
       "<div><iframe src=\"http://127.0.0.1:7863/\" width=\"100%\" height=\"500\" allow=\"autoplay; camera; microphone; clipboard-read; clipboard-write;\" frameborder=\"0\" allowfullscreen></iframe></div>"
      ],
      "text/plain": [
       "<IPython.core.display.HTML object>"
      ]
     },
     "metadata": {},
     "output_type": "display_data"
    },
    {
     "data": {
      "text/plain": []
     },
     "execution_count": 5,
     "metadata": {},
     "output_type": "execute_result"
    }
   ],
   "source": [
    "# Inputs and outputs\n",
    "import gradio \n",
    "gradio.close_all()\n",
    "\n",
    "def greet(name, age):\n",
    "    return f\"hello {name} !\", f\"You age is {age}\"\n",
    "\n",
    "with gradio.Blocks() as demo:\n",
    "    name_input    = gradio.Textbox(label = \"Name\")\n",
    "    age_input     = gradio.Slider(minimum =0,maximum =100, label =\"age slider\")\n",
    "    name_output   = gradio.Textbox(label = \"name output box\")\n",
    "    age_output    = gradio.Textbox(label = \"age output\")\n",
    "    diffusion_btn = gradio.Button(\"Generate\")\n",
    "    diffusion_btn.click(\n",
    "        fn          = greet\n",
    "        , inputs    = [name_input, age_input]\n",
    "        , outputs   = [name_output, age_output]\n",
    "    )\n",
    "\n",
    "#demo.launch(server_port = 7860)\n",
    "demo.launch()"
   ]
  },
  {
   "cell_type": "code",
   "execution_count": 6,
   "metadata": {},
   "outputs": [
    {
     "name": "stdout",
     "output_type": "stream",
     "text": [
      "Running on local URL:  http://127.0.0.1:7864\n",
      "\n",
      "To create a public link, set `share=True` in `launch()`.\n"
     ]
    },
    {
     "data": {
      "text/html": [
       "<div><iframe src=\"http://127.0.0.1:7864/\" width=\"100%\" height=\"500\" allow=\"autoplay; camera; microphone; clipboard-read; clipboard-write;\" frameborder=\"0\" allowfullscreen></iframe></div>"
      ],
      "text/plain": [
       "<IPython.core.display.HTML object>"
      ]
     },
     "metadata": {},
     "output_type": "display_data"
    },
    {
     "data": {
      "text/plain": []
     },
     "execution_count": 6,
     "metadata": {},
     "output_type": "execute_result"
    }
   ],
   "source": [
    "# Progress bar\n",
    "import gradio, time\n",
    "gradio.close_all()\n",
    "\n",
    "def my_function(text, progress=gradio.Progress()):\n",
    "    for i in range(10):\n",
    "        time.sleep(1)\n",
    "        progress(i/10, desc=f\"{i}\")\n",
    "    return text\n",
    "\n",
    "with gradio.Blocks() as demo:\n",
    "    input = gradio.Textbox()\n",
    "    output = gradio.Textbox()\n",
    "    btn = gradio.Button()\n",
    "    btn.click(\n",
    "        fn = my_function\n",
    "        , inputs = input\n",
    "        , outputs = output\n",
    "    )\n",
    "\n",
    "#demo.queue().launch(server_port=7860)\n",
    "demo.queue().launch()"
   ]
  },
  {
   "cell_type": "code",
   "execution_count": 7,
   "metadata": {},
   "outputs": [
    {
     "name": "stderr",
     "output_type": "stream",
     "text": [
      "WARNING[XFORMERS]: xFormers can't load C++/CUDA extensions. xFormers was built for:\n",
      "    PyTorch 2.0.1+cu118 with CUDA 1108 (you have 2.1.0.dev20230701+cu121)\n",
      "    Python  3.10.11 (you have 3.10.11)\n",
      "  Please reinstall xformers (see https://github.com/facebookresearch/xformers#installing-xformers)\n",
      "  Memory-efficient attention, SwiGLU, sparse and more won't be available.\n",
      "  Set XFORMERS_MORE_DETAILS=1 for more details\n",
      "A matching Triton is not available, some optimizations will not be enabled.\n",
      "Error caught was: No module named 'triton'\n",
      "text_encoder\\model.safetensors not found\n",
      "You have disabled the safety checker for <class 'diffusers.pipelines.stable_diffusion.pipeline_stable_diffusion.StableDiffusionPipeline'> by passing `safety_checker=None`. Ensure that you abide to the conditions of the Stable Diffusion license and do not expose unfiltered results in services or applications open to the public. Both the diffusers team and Hugging Face strongly recommend to keep the safety filter enabled in all public facing circumstances, disabling it only for use-cases that involve analyzing network behavior or auditing its results. For more information, please have a look at https://github.com/huggingface/diffusers/pull/254 .\n"
     ]
    },
    {
     "name": "stdout",
     "output_type": "stream",
     "text": [
      "Running on local URL:  http://127.0.0.1:7865\n",
      "\n",
      "To create a public link, set `share=True` in `launch()`.\n"
     ]
    },
    {
     "data": {
      "text/html": [
       "<div><iframe src=\"http://127.0.0.1:7865/\" width=\"100%\" height=\"500\" allow=\"autoplay; camera; microphone; clipboard-read; clipboard-write;\" frameborder=\"0\" allowfullscreen></iframe></div>"
      ],
      "text/plain": [
       "<IPython.core.display.HTML object>"
      ]
     },
     "metadata": {},
     "output_type": "display_data"
    },
    {
     "data": {
      "text/plain": []
     },
     "execution_count": 7,
     "metadata": {},
     "output_type": "execute_result"
    },
    {
     "name": "stderr",
     "output_type": "stream",
     "text": [
      "100%|██████████| 50/50 [00:05<00:00,  8.53it/s]\n"
     ]
    }
   ],
   "source": [
    "import gradio \n",
    "gradio.close_all(verbose = True)\n",
    "\n",
    "import torch\n",
    "from diffusers import StableDiffusionPipeline\n",
    "\n",
    "text2img_pipe = StableDiffusionPipeline.from_pretrained(\n",
    "    \"stablediffusionapi/deliberate-v2\"\n",
    "    , torch_dtype = torch.float16\n",
    "    , safety_checker = None\n",
    ").to(\"cuda:0\")\n",
    "\n",
    "def text2img(\n",
    "    prompt:str\n",
    "    , neg_prompt:str\n",
    "    , progress_bar = gradio.Progress()\n",
    "):\n",
    "    return text2img_pipe(\n",
    "        prompt = prompt\n",
    "        , negative_prompt = neg_prompt\n",
    "        , callback = (\n",
    "            lambda step, timestep, latents: \n",
    "                progress_bar(step/50, desc=\"denoising\") \n",
    "        )\n",
    "    ).images[0]\n",
    "\n",
    "with gradio.Blocks(\n",
    "    theme = gradio.themes.Monochrome()\n",
    ") as sd_app:\n",
    "    gradio.Markdown(\"# Stable Diffusion in Gradio\")\n",
    "    prompt          = gradio.Textbox(label=\"Prompt\", lines = 4)\n",
    "    neg_prompt      = gradio.Textbox(label=\"Negative Prompt\", lines = 2)\n",
    "    sd_gen_btn      = gradio.Button(\"Generate Image\")\n",
    "    output_image    = gradio.Image()\n",
    "    \n",
    "    sd_gen_btn.click(\n",
    "        fn = text2img\n",
    "        , inputs = [prompt, neg_prompt]\n",
    "        , outputs = output_image\n",
    "    )\n",
    "    \n",
    "#sd_app.queue().launch(server_port = 7861)\n",
    "sd_app.queue().launch()"
   ]
  }
 ],
 "metadata": {
  "kernelspec": {
   "display_name": "azcode_venv_win_p310",
   "language": "python",
   "name": "python3"
  },
  "language_info": {
   "codemirror_mode": {
    "name": "ipython",
    "version": 3
   },
   "file_extension": ".py",
   "mimetype": "text/x-python",
   "name": "python",
   "nbconvert_exporter": "python",
   "pygments_lexer": "ipython3",
   "version": "3.10.11"
  },
  "orig_nbformat": 4
 },
 "nbformat": 4,
 "nbformat_minor": 2
}
