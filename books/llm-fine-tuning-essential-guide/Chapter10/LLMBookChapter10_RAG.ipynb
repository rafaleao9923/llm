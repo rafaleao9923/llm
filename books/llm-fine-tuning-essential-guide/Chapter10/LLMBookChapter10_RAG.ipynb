{
  "nbformat": 4,
  "nbformat_minor": 0,
  "metadata": {
    "colab": {
      "provenance": [],
      "gpuType": "T4"
    },
    "kernelspec": {
      "name": "python3",
      "display_name": "Python 3"
    },
    "language_info": {
      "name": "python"
    },
    "accelerator": "GPU"
  },
  "cells": [
    {
      "cell_type": "code",
      "execution_count": null,
      "metadata": {
        "colab": {
          "base_uri": "https://localhost:8080/"
        },
        "id": "uVehGld9c3mq",
        "outputId": "c69883c7-f345-4f26-c7e1-0964b11ca8e4"
      },
      "outputs": [
        {
          "output_type": "stream",
          "name": "stdout",
          "text": [
            "\u001b[?25l   \u001b[90m━━━━━━━━━━━━━━━━━━━━━━━━━━━━━━━━━━━━━━━━\u001b[0m \u001b[32m0.0/1.1 MB\u001b[0m \u001b[31m?\u001b[0m eta \u001b[36m-:--:--\u001b[0m\r\u001b[2K   \u001b[91m━━━━━━━━━━━━━━━━━━\u001b[0m\u001b[91m╸\u001b[0m\u001b[90m━━━━━━━━━━━━━━━━━━━━━\u001b[0m \u001b[32m0.5/1.1 MB\u001b[0m \u001b[31m14.8 MB/s\u001b[0m eta \u001b[36m0:00:01\u001b[0m\r\u001b[2K   \u001b[90m━━━━━━━━━━━━━━━━━━━━━━━━━━━━━━━━━━━━━━━━\u001b[0m \u001b[32m1.1/1.1 MB\u001b[0m \u001b[31m18.6 MB/s\u001b[0m eta \u001b[36m0:00:00\u001b[0m\n",
            "\u001b[?25h"
          ]
        }
      ],
      "source": [
        "!pip install langchain langchain-community tiktoken chromadb openai pypdf sentence-transformers --quiet\n"
      ]
    },
    {
      "cell_type": "code",
      "source": [
        "!wget https://constitutioncenter.org/media/files/constitution.pdf"
      ],
      "metadata": {
        "colab": {
          "base_uri": "https://localhost:8080/"
        },
        "id": "vYzVYv-WeHU1",
        "outputId": "0001cf79-0f7c-45d8-df0c-65469bbb6c7d"
      },
      "execution_count": null,
      "outputs": [
        {
          "output_type": "stream",
          "name": "stdout",
          "text": [
            "--2024-09-20 03:32:39--  https://constitutioncenter.org/media/files/constitution.pdf\n",
            "Resolving constitutioncenter.org (constitutioncenter.org)... 104.22.22.181, 172.67.42.106, 104.22.23.181, ...\n",
            "Connecting to constitutioncenter.org (constitutioncenter.org)|104.22.22.181|:443... connected.\n",
            "HTTP request sent, awaiting response... 200 OK\n",
            "Length: 413949 (404K) [application/pdf]\n",
            "Saving to: ‘constitution.pdf’\n",
            "\n",
            "\rconstitution.pdf      0%[                    ]       0  --.-KB/s               \rconstitution.pdf    100%[===================>] 404.25K  --.-KB/s    in 0.02s   \n",
            "\n",
            "2024-09-20 03:32:40 (16.0 MB/s) - ‘constitution.pdf’ saved [413949/413949]\n",
            "\n"
          ]
        }
      ]
    },
    {
      "cell_type": "code",
      "source": [
        "from langchain.document_loaders import PyPDFLoader\n",
        "from langchain.text_splitter import RecursiveCharacterTextSplitter\n",
        "from langchain.embeddings import OpenAIEmbeddings\n",
        "from langchain.vectorstores import Chroma\n",
        "from langchain.chains import RetrievalQA\n",
        "from langchain.llms import OpenAI\n",
        "import os\n",
        "\n",
        "# Set your OpenAI API key\n",
        "os.environ[\"OPENAI_API_KEY\"] = '<YOUR API KEY HERE>'\n",
        "\n",
        "# Step 1: Load the PDF and split it into manageable chunks\n",
        "def load_and_split_pdf(pdf_file_path):\n",
        "    loader = PyPDFLoader(pdf_file_path)\n",
        "    documents = loader.load()\n",
        "\n",
        "    # Split the document into smaller chunks for better processing\n",
        "    text_splitter = RecursiveCharacterTextSplitter(chunk_size=1000, chunk_overlap=100)\n",
        "    texts = text_splitter.split_documents(documents)\n",
        "    return texts\n",
        "\n",
        "# Step 2: Store embeddings in ChromaDB\n",
        "def store_embeddings_in_chromadb(documents):\n",
        "    embeddings = OpenAIEmbeddings()  # You can also use SentenceTransformer embeddings if preferred\n",
        "    vectorstore = Chroma.from_documents(documents, embeddings)\n",
        "    return vectorstore\n",
        "\n",
        "# Step 3: Setup a retriever and chain for querying and context retrieval\n",
        "def create_retrieval_chain(vectorstore):\n",
        "    llm = OpenAI(model=\"gpt-3.5-turbo-instruct\",openai_api_key=os.environ[\"OPENAI_API_KEY\"])\n",
        "    retrieval_qa = RetrievalQA.from_chain_type(\n",
        "        llm=llm,\n",
        "        chain_type=\"stuff\",  # Optionally use \"map_reduce\" or others for more advanced chaining\n",
        "        retriever=vectorstore.as_retriever()\n",
        "    )\n",
        "    return retrieval_qa\n",
        "\n",
        "# Main Program\n",
        "if __name__ == \"__main__\":\n",
        "    # Sample PDF file path\n",
        "    pdf_file_path = 'constitution.pdf'\n",
        "\n",
        "    # Step 1: Load and split the PDF into chunks\n",
        "    print(\"Loading and splitting PDF...\")\n",
        "    documents = load_and_split_pdf(pdf_file_path)\n",
        "\n",
        "    # Step 2: Store document embeddings in ChromaDB\n",
        "    print(\"Storing embeddings in ChromaDB...\")\n",
        "    vectorstore = store_embeddings_in_chromadb(documents)\n",
        "\n",
        "    # Step 3: Create a retrieval-based chain with LLM\n",
        "    retrieval_qa = create_retrieval_chain(vectorstore)\n",
        "\n",
        "    # Step 4: User query input\n",
        "    user_query = input(\"Enter your query: \")\n",
        "\n",
        "    # Step 5: Retrieve context and generate answer using LLM\n",
        "    answer = retrieval_qa.run(user_query)\n",
        "    print(f\"LLM Response: {answer}\")\n"
      ],
      "metadata": {
        "colab": {
          "base_uri": "https://localhost:8080/"
        },
        "id": "tDtUcRwSc4KN",
        "outputId": "092afd4f-1827-4f5c-b0e1-e40ef5ecf9b9"
      },
      "execution_count": null,
      "outputs": [
        {
          "output_type": "stream",
          "name": "stdout",
          "text": [
            "Loading and splitting PDF...\n",
            "Storing embeddings in ChromaDB...\n",
            "Enter your query: What amendment protects the right to bear arms?\n",
            "LLM Response:  Amendment II.\n"
          ]
        }
      ]
    }
  ]
}