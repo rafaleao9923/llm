{
  "cells": [
    {
      "cell_type": "markdown",
      "metadata": {
        "id": "b_QjF04i9neT"
      },
      "source": [
        "#Semantic Role Labeling with ChatGPT\n",
        "Copyright 2023 Denis Rothman, MIT License\n",
        "\n",
        "This notebook shows how to use GPT-3.5(ChatGPT) with the OpenAI API to perform SRL tasks:\n",
        "\n",
        "1. Installing openai and your API key<br>\n",
        "2. Semantic Role Labeling as exaplained in *Tranformers for NLP, 2nd Edition, Chapter 10, Semantic Role Labeling.*\n",
        "\n",
        "To get the best out of this notebook:\n",
        "*   read Transformers for NLP, *Chapter 7, The Rise of Suprahuman Transformers with GPT-3 Engines* to understand the architecture of GPT engines. ChatGPT is GPT-3.5 turbo, a GPT model trained a large dataset. A GPT-3.5 turbo engine is a variant of a GPT Model.\n",
        "\n",
        "*  go through the notebooks in the [BONUS directory](https://github.com/Denis2054/Transformers-for-NLP-2nd-Edition/tree/main/Bonus#readme) to learn how to implement GPT-3.5 turbo(ChatGPT).\n",
        "\n",
        "*  once you have understood the theory of GPT transformers and explored the BONUS notebooks, try different sentences you find on social media that you would like to analyze in this notebook.\n",
        "\n",
        "\n"
      ]
    },
    {
      "cell_type": "markdown",
      "source": [
        "# December 6,2023 OpenAI API update\n",
        "\n",
        "[This notebook has been updated. See README \"Getting Started with OpenAI API\" section before running this notebook](https://github.com/Denis2054/Transformers-for-NLP-2nd-Edition/blob/main/README.md#getting-started-with-openai-api)\n"
      ],
      "metadata": {
        "id": "5xsgA4XZ5cad"
      }
    },
    {
      "cell_type": "code",
      "execution_count": 1,
      "metadata": {
        "colab": {
          "base_uri": "https://localhost:8080/"
        },
        "id": "lUn5YJeQvy-F",
        "outputId": "33f0b482-3226-429c-e4a6-0425facf0d9d"
      },
      "outputs": [
        {
          "output_type": "stream",
          "name": "stdout",
          "text": [
            "Requirement already satisfied: pip in /usr/local/lib/python3.10/dist-packages (23.1.2)\n",
            "Collecting pip\n",
            "  Downloading pip-23.3.1-py3-none-any.whl (2.1 MB)\n",
            "\u001b[2K     \u001b[90m━━━━━━━━━━━━━━━━━━━━━━━━━━━━━━━━━━━━━━━━\u001b[0m \u001b[32m2.1/2.1 MB\u001b[0m \u001b[31m21.3 MB/s\u001b[0m eta \u001b[36m0:00:00\u001b[0m\n",
            "\u001b[?25hInstalling collected packages: pip\n",
            "  Attempting uninstall: pip\n",
            "    Found existing installation: pip 23.1.2\n",
            "    Uninstalling pip-23.1.2:\n",
            "      Successfully uninstalled pip-23.1.2\n",
            "Successfully installed pip-23.3.1\n"
          ]
        }
      ],
      "source": [
        "!pip install --upgrade pip"
      ]
    },
    {
      "cell_type": "code",
      "source": [
        "# December 4,2023 update : Tiktoken required to install OpenAI on Google Colab\n",
        "# Tiktoken is a fast BPE tokenizer\n",
        "!pip install tiktoken\n",
        "\n",
        "# December 4,2023 update : Cohere required to install OpenAI to implement language AI.\n",
        "# Cohere platform: https://dashboard.cohere.com/\n",
        "!pip install --upgrade cohere"
      ],
      "metadata": {
        "id": "l6cfB5XV5jQT",
        "colab": {
          "base_uri": "https://localhost:8080/"
        },
        "outputId": "9a1f9418-4f07-4435-aabe-398bd8b99f54"
      },
      "execution_count": 2,
      "outputs": [
        {
          "output_type": "stream",
          "name": "stdout",
          "text": [
            "Collecting tiktoken\n",
            "  Downloading tiktoken-0.5.2-cp310-cp310-manylinux_2_17_x86_64.manylinux2014_x86_64.whl.metadata (6.6 kB)\n",
            "Requirement already satisfied: regex>=2022.1.18 in /usr/local/lib/python3.10/dist-packages (from tiktoken) (2023.6.3)\n",
            "Requirement already satisfied: requests>=2.26.0 in /usr/local/lib/python3.10/dist-packages (from tiktoken) (2.31.0)\n",
            "Requirement already satisfied: charset-normalizer<4,>=2 in /usr/local/lib/python3.10/dist-packages (from requests>=2.26.0->tiktoken) (3.3.2)\n",
            "Requirement already satisfied: idna<4,>=2.5 in /usr/local/lib/python3.10/dist-packages (from requests>=2.26.0->tiktoken) (3.6)\n",
            "Requirement already satisfied: urllib3<3,>=1.21.1 in /usr/local/lib/python3.10/dist-packages (from requests>=2.26.0->tiktoken) (2.0.7)\n",
            "Requirement already satisfied: certifi>=2017.4.17 in /usr/local/lib/python3.10/dist-packages (from requests>=2.26.0->tiktoken) (2023.11.17)\n",
            "Downloading tiktoken-0.5.2-cp310-cp310-manylinux_2_17_x86_64.manylinux2014_x86_64.whl (2.0 MB)\n",
            "\u001b[2K   \u001b[90m━━━━━━━━━━━━━━━━━━━━━━━━━━━━━━━━━━━━━━━━\u001b[0m \u001b[32m2.0/2.0 MB\u001b[0m \u001b[31m6.8 MB/s\u001b[0m eta \u001b[36m0:00:00\u001b[0m\n",
            "\u001b[?25hInstalling collected packages: tiktoken\n",
            "\u001b[31mERROR: pip's dependency resolver does not currently take into account all the packages that are installed. This behaviour is the source of the following dependency conflicts.\n",
            "llmx 0.0.15a0 requires cohere, which is not installed.\n",
            "llmx 0.0.15a0 requires openai, which is not installed.\u001b[0m\u001b[31m\n",
            "\u001b[0mSuccessfully installed tiktoken-0.5.2\n",
            "\u001b[33mWARNING: Running pip as the 'root' user can result in broken permissions and conflicting behaviour with the system package manager. It is recommended to use a virtual environment instead: https://pip.pypa.io/warnings/venv\u001b[0m\u001b[33m\n",
            "\u001b[0mCollecting cohere\n",
            "  Downloading cohere-4.37-py3-none-any.whl.metadata (5.4 kB)\n",
            "Requirement already satisfied: aiohttp<4.0,>=3.0 in /usr/local/lib/python3.10/dist-packages (from cohere) (3.9.1)\n",
            "Collecting backoff<3.0,>=2.0 (from cohere)\n",
            "  Downloading backoff-2.2.1-py3-none-any.whl (15 kB)\n",
            "Collecting fastavro<2.0,>=1.8 (from cohere)\n",
            "  Downloading fastavro-1.9.0-cp310-cp310-manylinux_2_17_x86_64.manylinux2014_x86_64.whl.metadata (5.5 kB)\n",
            "Requirement already satisfied: importlib_metadata<7.0,>=6.0 in /usr/local/lib/python3.10/dist-packages (from cohere) (6.8.0)\n",
            "Requirement already satisfied: requests<3.0.0,>=2.25.0 in /usr/local/lib/python3.10/dist-packages (from cohere) (2.31.0)\n",
            "Requirement already satisfied: urllib3<3,>=1.26 in /usr/local/lib/python3.10/dist-packages (from cohere) (2.0.7)\n",
            "Requirement already satisfied: attrs>=17.3.0 in /usr/local/lib/python3.10/dist-packages (from aiohttp<4.0,>=3.0->cohere) (23.1.0)\n",
            "Requirement already satisfied: multidict<7.0,>=4.5 in /usr/local/lib/python3.10/dist-packages (from aiohttp<4.0,>=3.0->cohere) (6.0.4)\n",
            "Requirement already satisfied: yarl<2.0,>=1.0 in /usr/local/lib/python3.10/dist-packages (from aiohttp<4.0,>=3.0->cohere) (1.9.3)\n",
            "Requirement already satisfied: frozenlist>=1.1.1 in /usr/local/lib/python3.10/dist-packages (from aiohttp<4.0,>=3.0->cohere) (1.4.0)\n",
            "Requirement already satisfied: aiosignal>=1.1.2 in /usr/local/lib/python3.10/dist-packages (from aiohttp<4.0,>=3.0->cohere) (1.3.1)\n",
            "Requirement already satisfied: async-timeout<5.0,>=4.0 in /usr/local/lib/python3.10/dist-packages (from aiohttp<4.0,>=3.0->cohere) (4.0.3)\n",
            "Requirement already satisfied: zipp>=0.5 in /usr/local/lib/python3.10/dist-packages (from importlib_metadata<7.0,>=6.0->cohere) (3.17.0)\n",
            "Requirement already satisfied: charset-normalizer<4,>=2 in /usr/local/lib/python3.10/dist-packages (from requests<3.0.0,>=2.25.0->cohere) (3.3.2)\n",
            "Requirement already satisfied: idna<4,>=2.5 in /usr/local/lib/python3.10/dist-packages (from requests<3.0.0,>=2.25.0->cohere) (3.6)\n",
            "Requirement already satisfied: certifi>=2017.4.17 in /usr/local/lib/python3.10/dist-packages (from requests<3.0.0,>=2.25.0->cohere) (2023.11.17)\n",
            "Downloading cohere-4.37-py3-none-any.whl (48 kB)\n",
            "\u001b[2K   \u001b[90m━━━━━━━━━━━━━━━━━━━━━━━━━━━━━━━━━━━━━━━━\u001b[0m \u001b[32m48.9/48.9 kB\u001b[0m \u001b[31m1.5 MB/s\u001b[0m eta \u001b[36m0:00:00\u001b[0m\n",
            "\u001b[?25hDownloading fastavro-1.9.0-cp310-cp310-manylinux_2_17_x86_64.manylinux2014_x86_64.whl (3.1 MB)\n",
            "\u001b[2K   \u001b[90m━━━━━━━━━━━━━━━━━━━━━━━━━━━━━━━━━━━━━━━━\u001b[0m \u001b[32m3.1/3.1 MB\u001b[0m \u001b[31m9.3 MB/s\u001b[0m eta \u001b[36m0:00:00\u001b[0m\n",
            "\u001b[?25hInstalling collected packages: fastavro, backoff, cohere\n",
            "\u001b[31mERROR: pip's dependency resolver does not currently take into account all the packages that are installed. This behaviour is the source of the following dependency conflicts.\n",
            "llmx 0.0.15a0 requires openai, which is not installed.\u001b[0m\u001b[31m\n",
            "\u001b[0mSuccessfully installed backoff-2.2.1 cohere-4.37 fastavro-1.9.0\n",
            "\u001b[33mWARNING: Running pip as the 'root' user can result in broken permissions and conflicting behaviour with the system package manager. It is recommended to use a virtual environment instead: https://pip.pypa.io/warnings/venv\u001b[0m\u001b[33m\n",
            "\u001b[0m"
          ]
        }
      ]
    },
    {
      "cell_type": "markdown",
      "metadata": {
        "id": "Y-crABM8l3Xi"
      },
      "source": [
        "#1.Installing openai\n"
      ]
    },
    {
      "cell_type": "markdown",
      "metadata": {
        "id": "ygFUriSCvTNb"
      },
      "source": [
        "## installing and importing openai"
      ]
    },
    {
      "cell_type": "code",
      "execution_count": 3,
      "metadata": {
        "colab": {
          "base_uri": "https://localhost:8080/"
        },
        "id": "9G79pIy_Mg5Y",
        "outputId": "c5606389-d355-4a45-dd64-c7a5d338b710"
      },
      "outputs": [
        {
          "output_type": "stream",
          "name": "stdout",
          "text": [
            "Collecting openai\n",
            "  Downloading openai-1.3.7-py3-none-any.whl.metadata (17 kB)\n",
            "Requirement already satisfied: anyio<4,>=3.5.0 in /usr/local/lib/python3.10/dist-packages (from openai) (3.7.1)\n",
            "Requirement already satisfied: distro<2,>=1.7.0 in /usr/lib/python3/dist-packages (from openai) (1.7.0)\n",
            "Collecting httpx<1,>=0.23.0 (from openai)\n",
            "  Downloading httpx-0.25.2-py3-none-any.whl.metadata (6.9 kB)\n",
            "Requirement already satisfied: pydantic<3,>=1.9.0 in /usr/local/lib/python3.10/dist-packages (from openai) (1.10.13)\n",
            "Requirement already satisfied: sniffio in /usr/local/lib/python3.10/dist-packages (from openai) (1.3.0)\n",
            "Requirement already satisfied: tqdm>4 in /usr/local/lib/python3.10/dist-packages (from openai) (4.66.1)\n",
            "Requirement already satisfied: typing-extensions<5,>=4.5 in /usr/local/lib/python3.10/dist-packages (from openai) (4.5.0)\n",
            "Requirement already satisfied: idna>=2.8 in /usr/local/lib/python3.10/dist-packages (from anyio<4,>=3.5.0->openai) (3.6)\n",
            "Requirement already satisfied: exceptiongroup in /usr/local/lib/python3.10/dist-packages (from anyio<4,>=3.5.0->openai) (1.2.0)\n",
            "Requirement already satisfied: certifi in /usr/local/lib/python3.10/dist-packages (from httpx<1,>=0.23.0->openai) (2023.11.17)\n",
            "Collecting httpcore==1.* (from httpx<1,>=0.23.0->openai)\n",
            "  Downloading httpcore-1.0.2-py3-none-any.whl.metadata (20 kB)\n",
            "Collecting h11<0.15,>=0.13 (from httpcore==1.*->httpx<1,>=0.23.0->openai)\n",
            "  Downloading h11-0.14.0-py3-none-any.whl (58 kB)\n",
            "\u001b[2K     \u001b[90m━━━━━━━━━━━━━━━━━━━━━━━━━━━━━━━━━━━━━━━━\u001b[0m \u001b[32m58.3/58.3 kB\u001b[0m \u001b[31m2.8 MB/s\u001b[0m eta \u001b[36m0:00:00\u001b[0m\n",
            "\u001b[?25hDownloading openai-1.3.7-py3-none-any.whl (221 kB)\n",
            "\u001b[2K   \u001b[90m━━━━━━━━━━━━━━━━━━━━━━━━━━━━━━━━━━━━━━━━\u001b[0m \u001b[32m221.4/221.4 kB\u001b[0m \u001b[31m8.5 MB/s\u001b[0m eta \u001b[36m0:00:00\u001b[0m\n",
            "\u001b[?25hDownloading httpx-0.25.2-py3-none-any.whl (74 kB)\n",
            "\u001b[2K   \u001b[90m━━━━━━━━━━━━━━━━━━━━━━━━━━━━━━━━━━━━━━━━\u001b[0m \u001b[32m75.0/75.0 kB\u001b[0m \u001b[31m4.4 MB/s\u001b[0m eta \u001b[36m0:00:00\u001b[0m\n",
            "\u001b[?25hDownloading httpcore-1.0.2-py3-none-any.whl (76 kB)\n",
            "\u001b[2K   \u001b[90m━━━━━━━━━━━━━━━━━━━━━━━━━━━━━━━━━━━━━━━━\u001b[0m \u001b[32m76.9/76.9 kB\u001b[0m \u001b[31m5.1 MB/s\u001b[0m eta \u001b[36m0:00:00\u001b[0m\n",
            "\u001b[?25hInstalling collected packages: h11, httpcore, httpx, openai\n",
            "Successfully installed h11-0.14.0 httpcore-1.0.2 httpx-0.25.2 openai-1.3.7\n",
            "\u001b[33mWARNING: Running pip as the 'root' user can result in broken permissions and conflicting behaviour with the system package manager. It is recommended to use a virtual environment instead: https://pip.pypa.io/warnings/venv\u001b[0m\u001b[33m\n",
            "\u001b[0m"
          ]
        }
      ],
      "source": [
        "#Importing openai\n",
        "try:\n",
        "  import openai\n",
        "except:\n",
        "  !pip install openai\n",
        "  import openai"
      ]
    },
    {
      "cell_type": "markdown",
      "metadata": {
        "id": "R7YHxHaLmAEi"
      },
      "source": [
        "##API Key"
      ]
    },
    {
      "cell_type": "code",
      "execution_count": 4,
      "metadata": {
        "colab": {
          "base_uri": "https://localhost:8080/"
        },
        "id": "Eb6gFplQqU5v",
        "outputId": "16cf9041-d05c-4b2a-f315-88f0d1020f09"
      },
      "outputs": [
        {
          "output_type": "stream",
          "name": "stdout",
          "text": [
            "Mounted at /content/drive\n"
          ]
        }
      ],
      "source": [
        "#2.API Key\n",
        "#Store you key in a file and read it(you can type it directly in the notebook but it will be visible for somebody next to you)\n",
        "from google.colab import drive\n",
        "drive.mount('/content/drive')\n",
        "f = open(\"drive/MyDrive/files/api_key.txt\", \"r\")\n",
        "API_KEY=f.readline()\n",
        "f.close()\n",
        "\n",
        "#The OpenAI Key\n",
        "import os\n",
        "os.environ['OPENAI_API_KEY'] =API_KEY\n",
        "openai.api_key = os.getenv(\"OPENAI_API_KEY\")\n"
      ]
    },
    {
      "cell_type": "code",
      "source": [
        "# December 6,2023\n",
        "from openai import OpenAI\n",
        "client = OpenAI(\n",
        "    # This is the default and can be omitted\n",
        "    api_key=os.environ.get(\"OPENAI_API_KEY\"),\n",
        ")"
      ],
      "metadata": {
        "id": "icW3ANupXWpF"
      },
      "execution_count": 5,
      "outputs": []
    },
    {
      "cell_type": "markdown",
      "metadata": {
        "id": "U03EQHLtmZLl"
      },
      "source": [
        "#2.ChatGPT dialog function"
      ]
    },
    {
      "cell_type": "markdown",
      "metadata": {
        "id": "1moBmYTVp-ih"
      },
      "source": [
        "preparing the NLP message"
      ]
    },
    {
      "cell_type": "code",
      "execution_count": 6,
      "metadata": {
        "id": "wl_ih8tPqebL"
      },
      "outputs": [],
      "source": [
        " def dialog(uinput):\n",
        "   #preparing the prompt for OpenAI\n",
        "   role=\"user\"\n",
        "\n",
        "   #prompt=\"Where is Tahiti located?\" #maintenance or if you do not want to use a microphone\n",
        "   line = {\"role\": role, \"content\": uinput}\n",
        "\n",
        "   #creating the mesage\n",
        "   assert1={\"role\": \"system\", \"content\": \"You are a Natural Language Processing Assistant.\"}\n",
        "   assert2={\"role\": \"assistant\", \"content\": \"You are helping viewers analyze social medial better.\"}\n",
        "   assert3=line\n",
        "   iprompt = []\n",
        "   iprompt.append(assert1)\n",
        "   iprompt.append(assert2)\n",
        "   iprompt.append(assert3)\n",
        "\n",
        "   #sending the message to ChatGPT\n",
        "   response = client.chat.completions.create(model=\"gpt-4\",messages=iprompt) #ChatGPT dialog\n",
        "   text=response.choices[0].message.content\n",
        "\n",
        "   return text"
      ]
    },
    {
      "cell_type": "markdown",
      "metadata": {
        "id": "wk9lev33wDdA"
      },
      "source": [
        "# 5.Semantic Role Labeling(SRL)"
      ]
    },
    {
      "cell_type": "markdown",
      "metadata": {
        "id": "DmuWMj1b55od"
      },
      "source": [
        "The 3 **basic** text samples are relatively easy. <br>\n",
        "The 4 **difficult** text samples are challenging.\n",
        "\n",
        "**Basic**\n",
        "\n",
        "Sample1:\n",
        "\"Did Bob really think he could prepare a meal for 50 people in only a few hours?\"\n",
        "\n",
        "Sample 2:\n",
        "\"Mrs. and Mr. Tomaso went to Europe for vacation and visited Paris and first went to visit the Eiffel Tower.\"\n",
        "\n",
        "Sample 3:\n",
        "\"John wanted to drink tea, Mary likes to drink coffee but Karim drank some cool water and Faiza would like to drink tomato juice.\"\n",
        "\n",
        "**Difficult**\n",
        "\n",
        "Sample 4 :ambiguous subject<br>\n",
        "\"Alice, whose husband went jogging every Sunday, liked to go to a dancing class in the meantime.\"\n",
        "\n",
        "Sample 5: *round* can be a verb, a noun, preposition, etc.In this sentence, it is a verb<br>\n",
        "\"The bright sun, the blue sky, the warm sand, the palm trees, everything round off.\"\n",
        "\n",
        "Sample 6: *ice* can be a noun or verb in Hockey<br>\n",
        "\"Now, ice pucks guys!\"\n",
        "\n",
        "Sample 7:confusing sentence with mixed descriptions<br>\n",
        "\"Though the customer seemed unhappy, she was, in fact satisfied but thinking of something else at the time, which gave a false impression?\"\""
      ]
    },
    {
      "cell_type": "markdown",
      "metadata": {
        "id": "LCGc67ca2K8p"
      },
      "source": [
        "##Semantic Role Labeling(SRL) label list provided by ChatGPT"
      ]
    },
    {
      "cell_type": "code",
      "execution_count": 7,
      "metadata": {
        "colab": {
          "base_uri": "https://localhost:8080/"
        },
        "id": "D82yoEG1wnXk",
        "outputId": "5eb1525f-401c-45d2-f6af-16b98a56e906"
      },
      "outputs": [
        {
          "output_type": "stream",
          "name": "stdout",
          "text": [
            "Viewer request Provide the list of labels for Semantic Role Labeling\n",
            "ChatGPT Sentiment Analysis: Semantic Role Labeling (SRL) aims at understanding the predicate-argument structure of a sentence. Here are some typical labels used in SRL:\n",
            "\n",
            "1. Agent: The one who performs the action.\n",
            "2. Patient: The entity that the action is performed upon.\n",
            "3. Instrument: The object or the entities with the help of which the action is performed.\n",
            "4. Location: The place where the action is performed.\n",
            "5. Destination: The endpoint of the action or movement.\n",
            "6. Source: The starting point of the action or movement.\n",
            "7. Beneficiary: The one who benefits from the action.\n",
            "8. Manner: It describes how the action is performed.\n",
            "9. Purpose: It describes the reason or purpose behind the action.\n",
            "10. Cause: The reason why the action happened.\n",
            "11. Time: When the action is performed.\n",
            "12. Theme: The entity that is moved or transformed.\n",
            "13. Experiencer: The one who perceives or feels.\n",
            "\n",
            "Remember, different systems may use different labels. Always refer to your system documentation for specific labels.\n"
          ]
        }
      ],
      "source": [
        "uinput=\"Provide the list of labels for Semantic Role Labeling\"\n",
        "text=dialog(uinput) #preparing the messages for ChatGPT\n",
        "print(\"Viewer request\",uinput)\n",
        "print(\"ChatGPT Sentiment Analysis:\",text)"
      ]
    },
    {
      "cell_type": "markdown",
      "metadata": {
        "id": "6oGNrDUg52Jm"
      },
      "source": [
        "## Basic samples"
      ]
    },
    {
      "cell_type": "markdown",
      "metadata": {
        "id": "h8na1xlR1GKA"
      },
      "source": [
        "Sample1:<br>\"Did Bob really think he could prepare a meal for 50 people in only a few hours?\""
      ]
    },
    {
      "cell_type": "code",
      "execution_count": 8,
      "metadata": {
        "colab": {
          "base_uri": "https://localhost:8080/"
        },
        "id": "ofo_ailR2TDg",
        "outputId": "3e9f3559-9e0f-4c11-e85a-c1b9824eb985"
      },
      "outputs": [
        {
          "output_type": "stream",
          "name": "stdout",
          "text": [
            "Viewer request Perform Semantic Role Labeling on the following sentence:Did Bob really think he could prepare a meal for 50 people in only a few hours?\n",
            "ChatGPT Sentiment Analysis: In Semantic Role Labeling (SRL), we try to identify the verbs in a sentence and then link other words or phrases to these verbs based on their role. In the given sentence, \"think\" and \"prepare\" are the two verbs.\n",
            "\n",
            "For the verb \"think\":\n",
            "1. Arguer (ARG0): Bob\n",
            "2. Proposition (ARG1): he could prepare a meal for 50 people in only a few hours\n",
            "\n",
            "For the verb \"prepare\":\n",
            "1. Agent (ARG0): He (referring to Bob)\n",
            "2. Beneficiary (ARG1): a meal for 50 people\n",
            "3. Temporal (AM-TMP): in only a few hours\n",
            "\n",
            "It's important to note that different SRL models might label these roles using different conventions. For instance, some might label \"Bob\" as ARG0 or ARG1 based on different interpretations.\n"
          ]
        }
      ],
      "source": [
        "uinput=\"Perform Semantic Role Labeling on the following sentence:Did Bob really think he could prepare a meal for 50 people in only a few hours?\"\n",
        "text=dialog(uinput) #preparing the messages for ChatGPT\n",
        "print(\"Viewer request\",uinput)\n",
        "print(\"ChatGPT Sentiment Analysis:\",text)"
      ]
    },
    {
      "cell_type": "markdown",
      "metadata": {
        "id": "j7SBUpJx1QKP"
      },
      "source": [
        "Sample 2:<br>\"Mrs. and Mr. Tomaso went to Europe for vacation and visited Paris and first went to visit the Eiffel Tower.\""
      ]
    },
    {
      "cell_type": "code",
      "execution_count": 9,
      "metadata": {
        "colab": {
          "base_uri": "https://localhost:8080/"
        },
        "id": "ZVvAd_DB08wF",
        "outputId": "14dfab0c-d571-40d5-e1c0-31d2a212db36"
      },
      "outputs": [
        {
          "output_type": "stream",
          "name": "stdout",
          "text": [
            "Viewer request Perform Semantic Role Labeling on the following sentence:Mrs. and Mr. Tomaso went to Europe for vacation and visited Paris and first went to visit the Eiffel Tower.\n",
            "ChatGPT Sentiment Analysis: In Semantic Role Labeling (SRL), the aim is to assign labels to words or phrases in a sentence that indicate their semantic role in the sentence. The semantic roles we usually look for are: Agent, Patient, Theme, Instrument, Location, Time, Cause, etc. \n",
            "\n",
            "Here's how these roles could be applied to the sentence \"Mrs. and Mr. Tomaso went to Europe for vacation and visited Paris and first went to visit the Eiffel Tower.\":\n",
            "\n",
            "- Mrs. and Mr. Tomaso (Agent) went (Predicate) to Europe (Goal) for a vacation (Purpose). \n",
            "\n",
            "- They (Agent) visited (Predicate) Paris (Theme).\n",
            "\n",
            "- They (Agent) first went to visit (Predicate) the Eiffel Tower (Theme).\n"
          ]
        }
      ],
      "source": [
        "uinput=\"Perform Semantic Role Labeling on the following sentence:Mrs. and Mr. Tomaso went to Europe for vacation and visited Paris and first went to visit the Eiffel Tower.\"\n",
        "text=dialog(uinput) #preparing the messages for ChatGPT\n",
        "print(\"Viewer request\",uinput)\n",
        "print(\"ChatGPT Sentiment Analysis:\",text)"
      ]
    },
    {
      "cell_type": "markdown",
      "metadata": {
        "id": "vMKLCFaD1VJA"
      },
      "source": [
        "Sample 3: <br>\n",
        "\"John wanted to drink tea, Mary likes to drink coffee but Karim drank some cool water and Faiza would like to drink tomato juice.\""
      ]
    },
    {
      "cell_type": "code",
      "execution_count": 10,
      "metadata": {
        "colab": {
          "base_uri": "https://localhost:8080/"
        },
        "id": "waNIZTR309aG",
        "outputId": "120cd3db-3d12-4103-cda6-ff42ef8c68ac"
      },
      "outputs": [
        {
          "output_type": "stream",
          "name": "stdout",
          "text": [
            "Viewer request Perform Semantic Role Labeling on the following sentence:John wanted to drink tea, Mary likes to drink coffee but Karim drank some cool water and Faiza would like to drink tomato juice.\n",
            "ChatGPT Sentiment Analysis: Here is the semantic role labeling for the sentence:\n",
            "\n",
            "Sentence: \"John wanted to drink tea, Mary likes to drink coffee but Karim drank some cool water and Faiza would like to drink tomato juice.\"\n",
            "\n",
            "1. John wanted to drink tea\n",
            "   - Agent: John\n",
            "   - Verb: wanted\n",
            "   - Action: to drink\n",
            "   - Object: tea\n",
            "\n",
            "2. Mary likes to drink coffee\n",
            "   - Agent: Mary\n",
            "   - Verb: likes\n",
            "   - Action: to drink\n",
            "   - Object: coffee\n",
            "\n",
            "3. Karim drank some cool water\n",
            "   - Agent: Karim\n",
            "   - Verb: drank\n",
            "   - Object: some cool water\n",
            "\n",
            "4. Faiza would like to drink tomato juice\n",
            "   - Agent: Faiza\n",
            "   - Mode: would like\n",
            "   - Action: to drink\n",
            "   - Object: tomato juice\n",
            "\n",
            "The semantic roles - agent, verb and object - show who is doing what to whom. The verb or action is what is being performed by the agent and the object is what is being acted upon. The mode shows the modality of the action being performed. In the provided sentence, the action is primarily 'to drink' done by various agents - John, Mary, Karim and Faiza on various objects - tea, coffee, water and tomato juice respectively, with different modal desires expressed by verbs - wanted, likes, drank and would like respectively.\n",
            "\n"
          ]
        }
      ],
      "source": [
        "uinput=\"Perform Semantic Role Labeling on the following sentence:John wanted to drink tea, Mary likes to drink coffee but Karim drank some cool water and Faiza would like to drink tomato juice.\"\n",
        "text=dialog(uinput) #preparing the messages for ChatGPT\n",
        "print(\"Viewer request\",uinput)\n",
        "print(\"ChatGPT Sentiment Analysis:\",text)"
      ]
    },
    {
      "cell_type": "markdown",
      "metadata": {
        "id": "dVMBJwp657Z6"
      },
      "source": [
        "## Difficult samples"
      ]
    },
    {
      "cell_type": "markdown",
      "metadata": {
        "id": "XuPnvjx_1Zkq"
      },
      "source": [
        "Sample 4 :ambiguous subject<br>\n",
        "\"Alice, whose husband went jogging every Sunday, liked to go to a dancing class in the meantime.\""
      ]
    },
    {
      "cell_type": "code",
      "execution_count": 11,
      "metadata": {
        "colab": {
          "base_uri": "https://localhost:8080/"
        },
        "id": "eyVLcVj6091_",
        "outputId": "730abde3-582f-4703-b2af-187b3818a15a"
      },
      "outputs": [
        {
          "output_type": "stream",
          "name": "stdout",
          "text": [
            "Viewer request Perform Semantic Role Labeling on the following sentence:Alice, whose husband went jogging every Sunday, liked to go to a dancing class in the meantime.\n",
            "ChatGPT Sentiment Analysis: Semantic Role Labeling (SRL) aims to give a computational description of the predicate-argument structure of a sentence, and it associates semantic roles to the different constituents of the sentence. Here's the SRL for your sentence:\n",
            "\n",
            "Sentence: Alice, whose husband went jogging every Sunday, liked to go to a dancing class in the meantime.\n",
            "\n",
            "- Alice: Arguer (the one performing the action)\n",
            "- Liked to go: Predicate (the main action or state described in the sentence)\n",
            "- Whose husband went jogging every Sunday: Relative clause providing additional information about 'Alice'\n",
            "  -- Husband: Arguer in the inner clause\n",
            "  -- Went jogging: Predicate of the inner clause\n",
            "  -- Every Sunday: Temporal argument of the inner clause\n",
            "- To a dancing class: Arg2 (the destination of the action)\n",
            "- In the meantime: Temporal argument (the time frame of the action)\n"
          ]
        }
      ],
      "source": [
        "uinput=\"Perform Semantic Role Labeling on the following sentence:Alice, whose husband went jogging every Sunday, liked to go to a dancing class in the meantime.\"\n",
        "text=dialog(uinput) #preparing the messages for ChatGPT\n",
        "print(\"Viewer request\",uinput)\n",
        "print(\"ChatGPT Sentiment Analysis:\",text)"
      ]
    },
    {
      "cell_type": "markdown",
      "metadata": {
        "id": "utY0S4Sl1aDh"
      },
      "source": [
        "Sample 5: *round* can be a verb, a noun, preposition, etc.In this sentence, it is a verb<br>\n",
        "\"The bright sun, the blue sky, the warm sand, the palm trees, everything round off.\""
      ]
    },
    {
      "cell_type": "code",
      "execution_count": 12,
      "metadata": {
        "colab": {
          "base_uri": "https://localhost:8080/"
        },
        "id": "bHhHHddC0-L5",
        "outputId": "ed653082-3027-4cf9-df60-86387fa604aa"
      },
      "outputs": [
        {
          "output_type": "stream",
          "name": "stdout",
          "text": [
            "Viewer request Perform Semantic Role Labeling on the following sentence:The bright sun, the blue sky, the warm sand, the palm trees, everything round off.\n",
            "ChatGPT Sentiment Analysis: Semantic Role Labeling (SRL) deals with understanding the predicate-argument structure of a sentence and provides a representation (semantic roles) that answer: who did what to whom, what happened to who, and what is what. \n",
            "\n",
            "Here is the SRL of the sentence: \n",
            "\n",
            "\"The bright sun, the blue sky, the warm sand, the palm trees, everything round off.\"\n",
            "\n",
            "Now let's break this down:\n",
            "\n",
            "1. \"The bright sun, the blue sky, the warm sand, the palm trees, everything\" - This phrase can be considered as 'Agent'. It refers to \"who\" or \"what\" performs the action.\n",
            "\n",
            "2. \"round off\" - This is the 'Predicate' that refers to the action performed by the agent.\n",
            "\n",
            "Please note: This sentence is a bit abstract. \"Round off\" is usually used in the context of numbers, meaning \"to simplify a number by making it a little bit larger or smaller\". However, in this context, it seems to imply some sort of completion or perfecting of a scene or situation by the aforementioned elements, which is a fairly poetic usage.\n"
          ]
        }
      ],
      "source": [
        "uinput=\"Perform Semantic Role Labeling on the following sentence:The bright sun, the blue sky, the warm sand, the palm trees, everything round off.\"\n",
        "text=dialog(uinput) #preparing the messages for ChatGPT\n",
        "print(\"Viewer request\",uinput)\n",
        "print(\"ChatGPT Sentiment Analysis:\",text)"
      ]
    },
    {
      "cell_type": "markdown",
      "metadata": {
        "id": "PP1-XWe21aw1"
      },
      "source": [
        "Sample 6: *ice* can be a noun or verb in Hockey<br>\n",
        "This sentence seems to difficult for ChatGPT. The model isn't good at neing hockey coach!<br>\n",
        "\"Now, ice pucks guys!\""
      ]
    },
    {
      "cell_type": "code",
      "execution_count": 13,
      "metadata": {
        "colab": {
          "base_uri": "https://localhost:8080/"
        },
        "id": "nD56SRycwLe-",
        "outputId": "5b4b7487-b53f-41e3-90c1-91beb090ae06"
      },
      "outputs": [
        {
          "output_type": "stream",
          "name": "stdout",
          "text": [
            "Viewer request Perform Semantic Role Labeling on the following sentence:Now, ice pucks guys!\n",
            "ChatGPT Sentiment Analysis: Semantic Role Labeling (SRL) involves the process of identifying the predicate-argument structure of a sentence, and is often explained in terms of traditional school grammar.\n",
            "\n",
            "In your sentence \"Now, ice pucks guys!\", it is a bit ambiguous without clear context and it may lead to different analysis. But let's try to break it down in two possibilities:\n",
            "\n",
            "Possibility 1:\n",
            "- The verb or predicate of this sentence could be \"ice pucks\" if \"ice pucks\" is being used as a verb phrase (though this would be unusual). \n",
            "- \"guys\" could then be the argument, or the entity that the action is being performed on.\n",
            "This kind of interpretation would imply that \"guys\" are being told to \"ice pucks\" right now.\n",
            "\n",
            "Possibility 2:\n",
            "- \"Ice pucks\" could be considered a noun phrase, and \"guys\" could be someone to whom the speaker is addressing.\n",
            "- There's no clear verb or predicate in this case.\n",
            "This interpretation could be possible if \"ice pucks\" is a name of a team and the speaker is cheering them on.\n",
            "\n",
            "As semantic role labeling requires a clear understanding of semantic relationships within a sentence, a more definite or grammatically standard sentence would lead to a more accurate analysis.\n"
          ]
        }
      ],
      "source": [
        "uinput=\"Perform Semantic Role Labeling on the following sentence:Now, ice pucks guys!\"\n",
        "text=dialog(uinput) #preparing the messages for ChatGPT\n",
        "print(\"Viewer request\",uinput)\n",
        "print(\"ChatGPT Sentiment Analysis:\",text)"
      ]
    },
    {
      "cell_type": "markdown",
      "metadata": {
        "id": "v6KxyIIt1bX-"
      },
      "source": [
        "Sample 7:confusing sentence with mixed descriptions<br>\n",
        "\"Though the customer seemed unhappy, she was, in fact satisfied but thinking of something else at the time, which gave a false impression?\""
      ]
    },
    {
      "cell_type": "code",
      "execution_count": 14,
      "metadata": {
        "colab": {
          "base_uri": "https://localhost:8080/"
        },
        "id": "FM3Bn0cNwYae",
        "outputId": "8b6d7ac2-878e-4294-8212-4e8271d913a2"
      },
      "outputs": [
        {
          "output_type": "stream",
          "name": "stdout",
          "text": [
            "Viewer request Perform Semantic Role Labeling on the following sentence:Though the customer seemed unhappy, she was, in fact satisfied but thinking of something else at the time, which gave a false impression?\n",
            "ChatGPT Sentiment Analysis: Semantic Role Labeling (SRL) is a process that assigns labels to words or phrases in a sentence that indicate semantic roles such as agent, goal, etc. Here's the SRL for your sentence:\n",
            "\n",
            "\"Though the customer seemed unhappy, she was, in fact satisfied but thinking of something else at the time, which gave a false impression.\"\n",
            "\n",
            "- Arg0 (Agent): the customer\n",
            "- Predicate: seemed\n",
            "- Arg1 (State): unhappy\n",
            "\n",
            "In the second part of the sentence:\n",
            "\n",
            "- Arg0 (Agent): she (refers back to the customer)\n",
            "- Predicate: was\n",
            "- Arg1 (State): satisfied\n",
            "\n",
            "In the third part of the sentence:\n",
            "\n",
            "- Arg0 (Agent): she (refers back to the customer)\n",
            "- Predicate: thinking\n",
            "- Arg1: of something else\n",
            "- ArgM-TMP (Temporal): at the time \n",
            "\n",
            "In the final part of the sentence:\n",
            "\n",
            "- Arg0 (Cause): which (refers back to the entire situation of seeming unhappy while being satisfied)\n",
            "- Predicate: gave\n",
            "- Arg1 (Result): a false impression\n",
            "\n"
          ]
        }
      ],
      "source": [
        "uinput=\"Perform Semantic Role Labeling on the following sentence:Though the customer seemed unhappy, she was, in fact satisfied but thinking of something else at the time, which gave a false impression?\"\n",
        "text=dialog(uinput) #preparing the messages for ChatGPT\n",
        "print(\"Viewer request\",uinput)\n",
        "print(\"ChatGPT Sentiment Analysis:\",text)"
      ]
    }
  ],
  "metadata": {
    "colab": {
      "provenance": [],
      "toc_visible": true
    },
    "kernelspec": {
      "display_name": "Python 3",
      "name": "python3"
    },
    "language_info": {
      "name": "python"
    }
  },
  "nbformat": 4,
  "nbformat_minor": 0
}