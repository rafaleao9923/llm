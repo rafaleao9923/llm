{
  "cells": [
    {
      "cell_type": "markdown",
      "metadata": {
        "id": "b_QjF04i9neT"
      },
      "source": [
        "#Fake News Analysis with ChatGPT\n",
        "Copyright 2023 Denis Rothman, MIT License\n",
        "\n",
        "This notebook shows how to use GPT-3.5(ChatGPT) with the OpenAI API to perform NLP tasks as explained in *Tranformers for NLP, 2nd Edition, Chapter 13, Fake News:*\n",
        "\n",
        "1. Installing openai and your API key<br>\n",
        "2. Sentiment Analysis<br>\n",
        "3. NER<br>\n",
        "4. SRL<br>\n",
        "\n",
        "To get the best out of this notebook:\n",
        "*   read Transformers for NLP, *Chapter 7, The Rise of Suprahuman Transformers with GPT-3 Engines* to understand the architecture of GPT engines. ChatGPT is GPT-3.5 turbo, a GPT model trained a large dataset. A GPT-3.5 turbo engine is a variant of a GPT Model.\n",
        "\n",
        "*  go through the notebooks in the [BONUS directory](https://github.com/Denis2054/Transformers-for-NLP-2nd-Edition/tree/main/Bonus#readme) to learn how to implement GPT-3.5 turbo(ChatGPT).\n",
        "\n",
        "*  once you have understood the theory of GPT transformers and explored the BONUS notebooks, try different sentences you find on social media that you would like to analyze in this notebook.\n",
        "\n",
        "\n"
      ]
    },
    {
      "cell_type": "markdown",
      "metadata": {
        "id": "JrtG5ICckGy9"
      },
      "source": [
        "# December 6,2023 OpenAI API update\n",
        "\n",
        "[This notebook has been updated. See README \"Getting Started with OpenAI API\" section before running this notebook](https://github.com/Denis2054/Transformers-for-NLP-2nd-Edition/blob/main/README.md#getting-started-with-openai-api)"
      ]
    },
    {
      "cell_type": "code",
      "execution_count": 1,
      "metadata": {
        "colab": {
          "base_uri": "https://localhost:8080/"
        },
        "id": "lUn5YJeQvy-F",
        "outputId": "5fe7569a-366b-4ac2-a30e-eb341772c59c"
      },
      "outputs": [
        {
          "name": "stdout",
          "output_type": "stream",
          "text": [
            "Requirement already satisfied: pip in /usr/local/lib/python3.10/dist-packages (23.1.2)\n",
            "Collecting pip\n",
            "  Downloading pip-23.3.1-py3-none-any.whl (2.1 MB)\n",
            "\u001b[2K     \u001b[90m━━━━━━━━━━━━━━━━━━━━━━━━━━━━━━━━━━━━━━━━\u001b[0m \u001b[32m2.1/2.1 MB\u001b[0m \u001b[31m18.7 MB/s\u001b[0m eta \u001b[36m0:00:00\u001b[0m\n",
            "\u001b[?25hInstalling collected packages: pip\n",
            "  Attempting uninstall: pip\n",
            "    Found existing installation: pip 23.1.2\n",
            "    Uninstalling pip-23.1.2:\n",
            "      Successfully uninstalled pip-23.1.2\n",
            "Successfully installed pip-23.3.1\n"
          ]
        }
      ],
      "source": [
        "!pip install --upgrade pip"
      ]
    },
    {
      "cell_type": "code",
      "execution_count": 2,
      "metadata": {
        "colab": {
          "base_uri": "https://localhost:8080/"
        },
        "id": "H2gPQKlNkJsl",
        "outputId": "8cd84d71-e16d-411d-e0ab-062c752d534b"
      },
      "outputs": [
        {
          "name": "stdout",
          "output_type": "stream",
          "text": [
            "Collecting tiktoken\n",
            "  Downloading tiktoken-0.5.2-cp310-cp310-manylinux_2_17_x86_64.manylinux2014_x86_64.whl.metadata (6.6 kB)\n",
            "Requirement already satisfied: regex>=2022.1.18 in /usr/local/lib/python3.10/dist-packages (from tiktoken) (2023.6.3)\n",
            "Requirement already satisfied: requests>=2.26.0 in /usr/local/lib/python3.10/dist-packages (from tiktoken) (2.31.0)\n",
            "Requirement already satisfied: charset-normalizer<4,>=2 in /usr/local/lib/python3.10/dist-packages (from requests>=2.26.0->tiktoken) (3.3.2)\n",
            "Requirement already satisfied: idna<4,>=2.5 in /usr/local/lib/python3.10/dist-packages (from requests>=2.26.0->tiktoken) (3.6)\n",
            "Requirement already satisfied: urllib3<3,>=1.21.1 in /usr/local/lib/python3.10/dist-packages (from requests>=2.26.0->tiktoken) (2.0.7)\n",
            "Requirement already satisfied: certifi>=2017.4.17 in /usr/local/lib/python3.10/dist-packages (from requests>=2.26.0->tiktoken) (2023.11.17)\n",
            "Downloading tiktoken-0.5.2-cp310-cp310-manylinux_2_17_x86_64.manylinux2014_x86_64.whl (2.0 MB)\n",
            "\u001b[2K   \u001b[90m━━━━━━━━━━━━━━━━━━━━━━━━━━━━━━━━━━━━━━━━\u001b[0m \u001b[32m2.0/2.0 MB\u001b[0m \u001b[31m20.6 MB/s\u001b[0m eta \u001b[36m0:00:00\u001b[0m\n",
            "\u001b[?25hInstalling collected packages: tiktoken\n",
            "\u001b[31mERROR: pip's dependency resolver does not currently take into account all the packages that are installed. This behaviour is the source of the following dependency conflicts.\n",
            "llmx 0.0.15a0 requires cohere, which is not installed.\n",
            "llmx 0.0.15a0 requires openai, which is not installed.\u001b[0m\u001b[31m\n",
            "\u001b[0mSuccessfully installed tiktoken-0.5.2\n",
            "\u001b[33mWARNING: Running pip as the 'root' user can result in broken permissions and conflicting behaviour with the system package manager. It is recommended to use a virtual environment instead: https://pip.pypa.io/warnings/venv\u001b[0m\u001b[33m\n",
            "\u001b[0mCollecting cohere\n",
            "  Downloading cohere-4.37-py3-none-any.whl.metadata (5.4 kB)\n",
            "Requirement already satisfied: aiohttp<4.0,>=3.0 in /usr/local/lib/python3.10/dist-packages (from cohere) (3.9.1)\n",
            "Collecting backoff<3.0,>=2.0 (from cohere)\n",
            "  Downloading backoff-2.2.1-py3-none-any.whl (15 kB)\n",
            "Collecting fastavro<2.0,>=1.8 (from cohere)\n",
            "  Downloading fastavro-1.9.0-cp310-cp310-manylinux_2_17_x86_64.manylinux2014_x86_64.whl.metadata (5.5 kB)\n",
            "Requirement already satisfied: importlib_metadata<7.0,>=6.0 in /usr/local/lib/python3.10/dist-packages (from cohere) (6.8.0)\n",
            "Requirement already satisfied: requests<3.0.0,>=2.25.0 in /usr/local/lib/python3.10/dist-packages (from cohere) (2.31.0)\n",
            "Requirement already satisfied: urllib3<3,>=1.26 in /usr/local/lib/python3.10/dist-packages (from cohere) (2.0.7)\n",
            "Requirement already satisfied: attrs>=17.3.0 in /usr/local/lib/python3.10/dist-packages (from aiohttp<4.0,>=3.0->cohere) (23.1.0)\n",
            "Requirement already satisfied: multidict<7.0,>=4.5 in /usr/local/lib/python3.10/dist-packages (from aiohttp<4.0,>=3.0->cohere) (6.0.4)\n",
            "Requirement already satisfied: yarl<2.0,>=1.0 in /usr/local/lib/python3.10/dist-packages (from aiohttp<4.0,>=3.0->cohere) (1.9.3)\n",
            "Requirement already satisfied: frozenlist>=1.1.1 in /usr/local/lib/python3.10/dist-packages (from aiohttp<4.0,>=3.0->cohere) (1.4.0)\n",
            "Requirement already satisfied: aiosignal>=1.1.2 in /usr/local/lib/python3.10/dist-packages (from aiohttp<4.0,>=3.0->cohere) (1.3.1)\n",
            "Requirement already satisfied: async-timeout<5.0,>=4.0 in /usr/local/lib/python3.10/dist-packages (from aiohttp<4.0,>=3.0->cohere) (4.0.3)\n",
            "Requirement already satisfied: zipp>=0.5 in /usr/local/lib/python3.10/dist-packages (from importlib_metadata<7.0,>=6.0->cohere) (3.17.0)\n",
            "Requirement already satisfied: charset-normalizer<4,>=2 in /usr/local/lib/python3.10/dist-packages (from requests<3.0.0,>=2.25.0->cohere) (3.3.2)\n",
            "Requirement already satisfied: idna<4,>=2.5 in /usr/local/lib/python3.10/dist-packages (from requests<3.0.0,>=2.25.0->cohere) (3.6)\n",
            "Requirement already satisfied: certifi>=2017.4.17 in /usr/local/lib/python3.10/dist-packages (from requests<3.0.0,>=2.25.0->cohere) (2023.11.17)\n",
            "Downloading cohere-4.37-py3-none-any.whl (48 kB)\n",
            "\u001b[2K   \u001b[90m━━━━━━━━━━━━━━━━━━━━━━━━━━━━━━━━━━━━━━━━\u001b[0m \u001b[32m48.9/48.9 kB\u001b[0m \u001b[31m1.7 MB/s\u001b[0m eta \u001b[36m0:00:00\u001b[0m\n",
            "\u001b[?25hDownloading fastavro-1.9.0-cp310-cp310-manylinux_2_17_x86_64.manylinux2014_x86_64.whl (3.1 MB)\n",
            "\u001b[2K   \u001b[90m━━━━━━━━━━━━━━━━━━━━━━━━━━━━━━━━━━━━━━━━\u001b[0m \u001b[32m3.1/3.1 MB\u001b[0m \u001b[31m9.4 MB/s\u001b[0m eta \u001b[36m0:00:00\u001b[0m\n",
            "\u001b[?25hInstalling collected packages: fastavro, backoff, cohere\n",
            "\u001b[31mERROR: pip's dependency resolver does not currently take into account all the packages that are installed. This behaviour is the source of the following dependency conflicts.\n",
            "llmx 0.0.15a0 requires openai, which is not installed.\u001b[0m\u001b[31m\n",
            "\u001b[0mSuccessfully installed backoff-2.2.1 cohere-4.37 fastavro-1.9.0\n",
            "\u001b[33mWARNING: Running pip as the 'root' user can result in broken permissions and conflicting behaviour with the system package manager. It is recommended to use a virtual environment instead: https://pip.pypa.io/warnings/venv\u001b[0m\u001b[33m\n",
            "\u001b[0m"
          ]
        }
      ],
      "source": [
        "# December 4,2023 update : Tiktoken required to install OpenAI on Google Colab\n",
        "# Tiktoken is a fast BPE tokenizer\n",
        "!pip install tiktoken\n",
        "\n",
        "# December 4,2023 update : Cohere required to install OpenAI to implement language AI.\n",
        "# Cohere platform: https://dashboard.cohere.com/\n",
        "!pip install --upgrade cohere"
      ]
    },
    {
      "cell_type": "markdown",
      "metadata": {
        "id": "Y-crABM8l3Xi"
      },
      "source": [
        "#1.Installing openai\n"
      ]
    },
    {
      "cell_type": "markdown",
      "metadata": {
        "id": "ygFUriSCvTNb"
      },
      "source": [
        "## installing and importing openai"
      ]
    },
    {
      "cell_type": "code",
      "execution_count": 3,
      "metadata": {
        "colab": {
          "base_uri": "https://localhost:8080/"
        },
        "id": "9G79pIy_Mg5Y",
        "outputId": "4d431a3c-faa9-4fc4-be77-0c18c54649ef"
      },
      "outputs": [
        {
          "name": "stdout",
          "output_type": "stream",
          "text": [
            "Collecting openai\n",
            "  Downloading openai-1.3.7-py3-none-any.whl.metadata (17 kB)\n",
            "Requirement already satisfied: anyio<4,>=3.5.0 in /usr/local/lib/python3.10/dist-packages (from openai) (3.7.1)\n",
            "Requirement already satisfied: distro<2,>=1.7.0 in /usr/lib/python3/dist-packages (from openai) (1.7.0)\n",
            "Collecting httpx<1,>=0.23.0 (from openai)\n",
            "  Downloading httpx-0.25.2-py3-none-any.whl.metadata (6.9 kB)\n",
            "Requirement already satisfied: pydantic<3,>=1.9.0 in /usr/local/lib/python3.10/dist-packages (from openai) (1.10.13)\n",
            "Requirement already satisfied: sniffio in /usr/local/lib/python3.10/dist-packages (from openai) (1.3.0)\n",
            "Requirement already satisfied: tqdm>4 in /usr/local/lib/python3.10/dist-packages (from openai) (4.66.1)\n",
            "Requirement already satisfied: typing-extensions<5,>=4.5 in /usr/local/lib/python3.10/dist-packages (from openai) (4.5.0)\n",
            "Requirement already satisfied: idna>=2.8 in /usr/local/lib/python3.10/dist-packages (from anyio<4,>=3.5.0->openai) (3.6)\n",
            "Requirement already satisfied: exceptiongroup in /usr/local/lib/python3.10/dist-packages (from anyio<4,>=3.5.0->openai) (1.2.0)\n",
            "Requirement already satisfied: certifi in /usr/local/lib/python3.10/dist-packages (from httpx<1,>=0.23.0->openai) (2023.11.17)\n",
            "Collecting httpcore==1.* (from httpx<1,>=0.23.0->openai)\n",
            "  Downloading httpcore-1.0.2-py3-none-any.whl.metadata (20 kB)\n",
            "Collecting h11<0.15,>=0.13 (from httpcore==1.*->httpx<1,>=0.23.0->openai)\n",
            "  Downloading h11-0.14.0-py3-none-any.whl (58 kB)\n",
            "\u001b[2K     \u001b[90m━━━━━━━━━━━━━━━━━━━━━━━━━━━━━━━━━━━━━━━━\u001b[0m \u001b[32m58.3/58.3 kB\u001b[0m \u001b[31m2.0 MB/s\u001b[0m eta \u001b[36m0:00:00\u001b[0m\n",
            "\u001b[?25hDownloading openai-1.3.7-py3-none-any.whl (221 kB)\n",
            "\u001b[2K   \u001b[90m━━━━━━━━━━━━━━━━━━━━━━━━━━━━━━━━━━━━━━━━\u001b[0m \u001b[32m221.4/221.4 kB\u001b[0m \u001b[31m6.4 MB/s\u001b[0m eta \u001b[36m0:00:00\u001b[0m\n",
            "\u001b[?25hDownloading httpx-0.25.2-py3-none-any.whl (74 kB)\n",
            "\u001b[2K   \u001b[90m━━━━━━━━━━━━━━━━━━━━━━━━━━━━━━━━━━━━━━━━\u001b[0m \u001b[32m75.0/75.0 kB\u001b[0m \u001b[31m7.5 MB/s\u001b[0m eta \u001b[36m0:00:00\u001b[0m\n",
            "\u001b[?25hDownloading httpcore-1.0.2-py3-none-any.whl (76 kB)\n",
            "\u001b[2K   \u001b[90m━━━━━━━━━━━━━━━━━━━━━━━━━━━━━━━━━━━━━━━━\u001b[0m \u001b[32m76.9/76.9 kB\u001b[0m \u001b[31m7.8 MB/s\u001b[0m eta \u001b[36m0:00:00\u001b[0m\n",
            "\u001b[?25hInstalling collected packages: h11, httpcore, httpx, openai\n",
            "Successfully installed h11-0.14.0 httpcore-1.0.2 httpx-0.25.2 openai-1.3.7\n",
            "\u001b[33mWARNING: Running pip as the 'root' user can result in broken permissions and conflicting behaviour with the system package manager. It is recommended to use a virtual environment instead: https://pip.pypa.io/warnings/venv\u001b[0m\u001b[33m\n",
            "\u001b[0m"
          ]
        }
      ],
      "source": [
        "#Importing openai for January 2024 version\n",
        "try:\n",
        "  import openai\n",
        "except:\n",
        "  !pip install openai\n",
        "  import openai"
      ]
    },
    {
      "cell_type": "markdown",
      "metadata": {
        "id": "R7YHxHaLmAEi"
      },
      "source": [
        "##API Key"
      ]
    },
    {
      "cell_type": "code",
      "execution_count": 4,
      "metadata": {
        "colab": {
          "base_uri": "https://localhost:8080/"
        },
        "id": "Eb6gFplQqU5v",
        "outputId": "fa4f63fb-26c9-4f0c-8808-b8161811b5cb"
      },
      "outputs": [
        {
          "name": "stdout",
          "output_type": "stream",
          "text": [
            "Mounted at /content/drive\n"
          ]
        }
      ],
      "source": [
        "#2.API Key\n",
        "#Store you key in a file and read it(you can type it directly in the notebook but it will be visible for somebody next to you)\n",
        "from google.colab import drive\n",
        "drive.mount('/content/drive')\n",
        "f = open(\"drive/MyDrive/files/api_key.txt\", \"r\")\n",
        "API_KEY=f.readline()\n",
        "f.close()\n",
        "\n",
        "#The OpenAI Key\n",
        "import os\n",
        "os.environ['OPENAI_API_KEY'] =API_KEY\n",
        "openai.api_key = os.getenv(\"OPENAI_API_KEY\")\n"
      ]
    },
    {
      "cell_type": "code",
      "execution_count": 5,
      "metadata": {
        "id": "P8BnEAk0kOhr"
      },
      "outputs": [],
      "source": [
        "# December 6,2023\n",
        "from openai import OpenAI\n",
        "client = OpenAI(\n",
        "    # This is the default and can be omitted\n",
        "    api_key=os.environ.get(\"OPENAI_API_KEY\"),\n",
        ")"
      ]
    },
    {
      "cell_type": "markdown",
      "metadata": {
        "id": "U03EQHLtmZLl"
      },
      "source": [
        "#2.ChatGPT(gpt-4) dialog function"
      ]
    },
    {
      "cell_type": "markdown",
      "metadata": {
        "id": "1moBmYTVp-ih"
      },
      "source": [
        "preparing the NLP message"
      ]
    },
    {
      "cell_type": "code",
      "execution_count": 6,
      "metadata": {
        "id": "wl_ih8tPqebL"
      },
      "outputs": [],
      "source": [
        " def dialog(uinput):\n",
        "   #preparing the prompt for OpenAI\n",
        "   role=\"user\"\n",
        "\n",
        "   #prompt=\"Where is Tahiti located?\" #maintenance or if you do not want to use a microphone\n",
        "   line = {\"role\": role, \"content\": uinput}\n",
        "\n",
        "   #creating the mesage\n",
        "   assert1={\"role\": \"system\", \"content\": \"You are a Natural Language Processing Assistant.\"}\n",
        "   assert2={\"role\": \"assistant\", \"content\": \"You are helping viewers analyze social medial better.\"}\n",
        "   assert3=line\n",
        "   iprompt = []\n",
        "   iprompt.append(assert1)\n",
        "   iprompt.append(assert2)\n",
        "   iprompt.append(assert3)\n",
        "\n",
        "   #sending the message to ChatGPT\n",
        "   response = client.chat.completions.create(model=\"gpt-4\",messages=iprompt) #ChatGPT dialog\n",
        "   text=response.choices[0].message.content\n",
        "\n",
        "   return text"
      ]
    },
    {
      "cell_type": "markdown",
      "metadata": {
        "id": "o-qY6V3mqMEb"
      },
      "source": [
        "# 3.Sentiment Analysis, emotional reactions to social media"
      ]
    },
    {
      "cell_type": "markdown",
      "metadata": {
        "id": "sKxMhYaaufvx"
      },
      "source": [
        "##Climate Change"
      ]
    },
    {
      "cell_type": "code",
      "execution_count": 7,
      "metadata": {
        "colab": {
          "base_uri": "https://localhost:8080/"
        },
        "id": "RCZg84cKkT__",
        "outputId": "43922258-3921-4b15-f9d7-f5e7cfb39fbe"
      },
      "outputs": [
        {
          "name": "stdout",
          "output_type": "stream",
          "text": [
            "Viewer request Explain the emotions felt by a person in the following sentence:Climate change is bogus. It’s a plot by the liberals to take the economy down.\n",
            "ChatGPT Sentiment Analysis: The person appears to be feeling skepticism and possibly anger or frustration. The skepticism comes from expressing disbelief about climate change, stating it's 'bogus'. The anger or frustration seems to be directed towards 'liberals', whom they believe are using this issue to harm the economy. This person may also feel fear or concern about the potential economic impacts they expect from this perceived plot.\n"
          ]
        }
      ],
      "source": [
        "#Climite change\n",
        "uinput=\"Explain the emotions felt by a person in the following sentence:Climate change is bogus. It’s a plot by the liberals to take the economy down.\"\n",
        "text=dialog(uinput) #preparing the messages for ChatGPT\n",
        "print(\"Viewer request\",uinput)\n",
        "print(\"ChatGPT Sentiment Analysis:\",text)"
      ]
    },
    {
      "cell_type": "code",
      "execution_count": 8,
      "metadata": {
        "colab": {
          "base_uri": "https://localhost:8080/"
        },
        "id": "vM6fWKbit8qV",
        "outputId": "85fd05b4-e3af-433b-d42d-77447d0b1233"
      },
      "outputs": [
        {
          "name": "stdout",
          "output_type": "stream",
          "text": [
            "Viewer request Explain the emotions felt by a person in the following sentence:I am a Republican and think that climate change consciousness is a great thing!\n",
            "ChatGPT Sentiment Analysis: The person in the sentence appears to feel positivity or enthusiasm. This is suggested by their use of the phrase \"is a great thing!\" about climate change consciousness. They might also feel pride or conviction, as indicated by proclaiming their identification as a Republican, which implies a commitment to specific political beliefs or values. However, the specific emotions cannot be precisely determined, as text analysis has its limitations and emotions can be subjective and complex.\n"
          ]
        }
      ],
      "source": [
        "#Climite change\n",
        "uinput=\"Explain the emotions felt by a person in the following sentence:I am a Republican and think that climate change consciousness is a great thing!\"\n",
        "text=dialog(uinput) #preparing the messages for ChatGPT\n",
        "print(\"Viewer request\",uinput)\n",
        "print(\"ChatGPT Sentiment Analysis:\",text)"
      ]
    },
    {
      "cell_type": "markdown",
      "metadata": {
        "id": "eZZiL6sVuiun"
      },
      "source": [
        "## Gun Control"
      ]
    },
    {
      "cell_type": "code",
      "execution_count": 9,
      "metadata": {
        "colab": {
          "base_uri": "https://localhost:8080/"
        },
        "id": "1IdhQBHvumEs",
        "outputId": "1535fa01-9440-4d90-ae08-c20ae613b759"
      },
      "outputs": [
        {
          "name": "stdout",
          "output_type": "stream",
          "text": [
            "Viewer request Explain the emotions felt by a person in the following sentence:I have had rifles and guns for years and never had a problem. I raised my kids right so they have guns too and never hurt anything except rabbits!\n",
            "ChatGPT Sentiment Analysis: The person in this sentence appears to feel confident and proud. They feel confident in their ability to responsibly own and handle firearms, given they've never had a problem despite having guns for years. They also express pride, specifically in their parenting abilities - raising their kids to also handle guns responsibly without causing harm, except in the context of hunting (rabbits). One could also infer satisfaction from having passed on these skills and values to their children.\n"
          ]
        }
      ],
      "source": [
        "#Gun Control\n",
        "uinput=\"Explain the emotions felt by a person in the following sentence:I have had rifles and guns for years and never had a problem. I raised my kids right so they have guns too and never hurt anything except rabbits!\"\n",
        "text=dialog(uinput) #preparing the messages for ChatGPT\n",
        "print(\"Viewer request\",uinput)\n",
        "print(\"ChatGPT Sentiment Analysis:\",text)"
      ]
    },
    {
      "cell_type": "code",
      "execution_count": 10,
      "metadata": {
        "colab": {
          "base_uri": "https://localhost:8080/"
        },
        "id": "ZxG1H13VvBQW",
        "outputId": "18d949c2-82ba-4e6d-ab3d-9178bd1a118b"
      },
      "outputs": [
        {
          "name": "stdout",
          "output_type": "stream",
          "text": [
            "Viewer request Explain the emotions felt by a person in the following sentence:I have heard gunshots all my life in my neighborhood, have lost many friends, and am afraid to go out at night.\n",
            "ChatGPT Sentiment Analysis: The person in the sentence seems to be feeling fear and sadness. Fear is arising from the constant exposure to potential danger from gunshots and the threat it poses during nighttime. Sadness or grief could also be felt due to the loss of many friends in these events.\n"
          ]
        }
      ],
      "source": [
        "#Gun Control\n",
        "uinput=\"Explain the emotions felt by a person in the following sentence:I have heard gunshots all my life in my neighborhood, have lost many friends, and am afraid to go out at night.\"\n",
        "text=dialog(uinput) #preparing the messages for ChatGPT\n",
        "print(\"Viewer request\",uinput)\n",
        "print(\"ChatGPT Sentiment Analysis:\",text)"
      ]
    },
    {
      "cell_type": "markdown",
      "metadata": {
        "id": "bPgasm5AvZi2"
      },
      "source": [
        "# 4.Named Entity Recognition(NER)"
      ]
    },
    {
      "cell_type": "code",
      "execution_count": 11,
      "metadata": {
        "colab": {
          "base_uri": "https://localhost:8080/"
        },
        "id": "LjGTL18pwzE6",
        "outputId": "d9e9cea1-91cc-42da-dfe8-d232337e771c"
      },
      "outputs": [
        {
          "name": "stdout",
          "output_type": "stream",
          "text": [
            "Viewer request Provide the list of labels for Named Entity Recognition\n",
            "ChatGPT Sentiment Analysis: Named Entity Recognition (NER) is a sub-task of information extraction that locates and classifies named entities mentioned in unstructured text into pre-defined categories such as person names, organizations, locations, medical codes, time expressions, quantities, monetary values, percentages, etc. \n",
            "\n",
            "Here are some common types of NER labels used:\n",
            "\n",
            "1. PER (Person): This label is used for individuals, including fictional.\n",
            "2. ORG (Organization): Used for organizations, agencies, corporations.\n",
            "3. LOC (Location): Used for smaller geographical entities such as city, mountain, rivers, etc.\n",
            "4. GPE (Geo-Political Entity): Larger geographical entities such as countries, provinces, continents, etc.\n",
            "5. TIME: It is used for time related entities i.e. \"July\", \"20 minutes\", etc.\n",
            "6. DATE: Similar to time but specifically used for date related entries i.e. \"July 20, 2021\", \"next week\", etc.\n",
            "7. MON (Money): All monetary values i.e. \"50.5 million\", \"$20\", etc.\n",
            "8. ART (Artifact): Human made tangible object i.e. 'a bridge', 'car', etc.\n",
            "9. EVT (Event): Named hurricanes, battles, wars, sports events, etc.\n",
            "10. NAT (Natural Phenomenon): natural disasters, astronomical bodies, etc.\n",
            "11. PERCENT: For describing percentages.\n",
            "12. FAC (Facility): Used for buildings, airports, highways, bridges, etc.\n",
            "\n",
            "These classes may vary depending on the NER tools being used. Some more specific systems can recognize a broader range of entities such as product names, diseases, genes, species and so on.\n"
          ]
        }
      ],
      "source": [
        "uinput=\"Provide the list of labels for Named Entity Recognition\"\n",
        "text=dialog(uinput) #preparing the messages for ChatGPT\n",
        "print(\"Viewer request\",uinput)\n",
        "print(\"ChatGPT Sentiment Analysis:\",text)"
      ]
    },
    {
      "cell_type": "code",
      "execution_count": 12,
      "metadata": {
        "colab": {
          "base_uri": "https://localhost:8080/"
        },
        "id": "v81bXpaWvYzh",
        "outputId": "252cb171-037f-4214-c1df-0865ed0a1122"
      },
      "outputs": [
        {
          "name": "stdout",
          "output_type": "stream",
          "text": [
            "Viewer request Perform Named Entity Recognition on the following sentence:I have had rifles and guns for years and never had a problem. I raised my kids right so they have guns too and never hurt anything except rabbits.\n",
            "ChatGPT Sentiment Analysis: In the given sentence, there are not many entities that can be classified under classical named entity types such as a Person, Location, Organization, Date, or Time.\n",
            "\n",
            "Entity: \"I\", Type: Person\n",
            "\n",
            "Entity: \"rifles\", \"guns\", Type: Product\n",
            "\n",
            "Entity: \"years\", Type: Time Period\n",
            "\n",
            "Entity: \"my kids\", Type: Person\n",
            "\n",
            "Entity: \"rabbits\", Type: Animal\n",
            "\n",
            "Please note that named entity recognition models may vary in how they classify certain terms. For example, some may classify 'rifles' and 'guns' simply as 'Objects', or 'my kids' may be generalized as 'Person'. Also, note that 'I' is used in a general sense and doesn't actually refer to a specific, identifiable individual.\n"
          ]
        }
      ],
      "source": [
        "#Gun Control\n",
        "uinput=\"Perform Named Entity Recognition on the following sentence:I have had rifles and guns for years and never had a problem. I raised my kids right so they have guns too and never hurt anything except rabbits.\"\n",
        "text=dialog(uinput) #preparing the messages for ChatGPT\n",
        "print(\"Viewer request\",uinput)\n",
        "print(\"ChatGPT Sentiment Analysis:\",text)"
      ]
    },
    {
      "cell_type": "code",
      "execution_count": 13,
      "metadata": {
        "colab": {
          "base_uri": "https://localhost:8080/"
        },
        "id": "pqU0U7ekvsal",
        "outputId": "2951df7f-ddb4-4d40-9bf9-9398060ecc19"
      },
      "outputs": [
        {
          "name": "stdout",
          "output_type": "stream",
          "text": [
            "Viewer request Perform Named Entity Recognition on the following sentence:I have heard gunshots all my life in my neighborhood, have lost many friends, and am afraid to go out at night.\n",
            "ChatGPT Sentiment Analysis: In the given sentence \"I have heard gunshots all my life in my neighborhood, have lost many friends, and am afraid to go out at night.\", the Named Entity Recognition (NER) doesn't identify any explicit or specific named entities such as a person, geographical location, organization, date, etc. This sentence contains general or generic entities that do not refer to specific identifiable objects or things.\n"
          ]
        }
      ],
      "source": [
        "#Gun Control\n",
        "uinput=\"Perform Named Entity Recognition on the following sentence:I have heard gunshots all my life in my neighborhood, have lost many friends, and am afraid to go out at night.\"\n",
        "text=dialog(uinput) #preparing the messages for ChatGPT\n",
        "print(\"Viewer request\",uinput)\n",
        "print(\"ChatGPT Sentiment Analysis:\",text)"
      ]
    },
    {
      "cell_type": "markdown",
      "metadata": {
        "id": "wk9lev33wDdA"
      },
      "source": [
        "# 5.Semantic Role Labeling(SRL)"
      ]
    },
    {
      "cell_type": "code",
      "execution_count": 14,
      "metadata": {
        "colab": {
          "base_uri": "https://localhost:8080/"
        },
        "id": "D82yoEG1wnXk",
        "outputId": "ad078fa4-d381-4bf0-ed1b-713328310882"
      },
      "outputs": [
        {
          "name": "stdout",
          "output_type": "stream",
          "text": [
            "Viewer request Provide the list of labels for Semantic Role Labeling\n",
            "ChatGPT Sentiment Analysis: Semantic Role Labeling (SRL) aims at giving a semantic role to each entity in a sentence. In other words, it assigns labels to words or phrases in a sentence such as agent, object, manner, location, instrument, etc., depending on the semantic role that they play. Some common labels include:\n",
            "\n",
            "1. Agent: The doer of the action in a sentence. Example in \"John kicked the ball,\" John is the agent.\n",
            "\n",
            "2. Patient: The entity that undergoes the action or the entity that is acted upon. In the previous example, the ball is the patient.\n",
            "\n",
            "3. Instrument: The object used to do an action. For example, in \"John cut paper with scissors,\" scissors are the instrument.\n",
            "\n",
            "4. Location: This shows the place where the action is performed or the destination of a motion. Example: \"John kicked the ball in the park,\" the park is the location.\n",
            "\n",
            "5. Goal: The end-point of an event of motion - \"John walked to the park,\" the park is the goal.\n",
            "\n",
            "6. Source: The starting point of a motion. \n",
            "\n",
            "7. Theme: This portrays what is being talked about in the sentence.\n",
            "\n",
            "8. Experiencer: The entity that is having a sense, feeling, or psychological state.\n",
            "\n",
            "9. Cause: It is the root cause of an action or state.\n",
            "\n",
            "10. Beneficiary: The one who benefits from the action.\n",
            "\n",
            "These primary labels can vary based on different SRL models and schemes. Note that not every sentence will contain all these roles, and many sentences will contain multiple instances of the same role.\n"
          ]
        }
      ],
      "source": [
        "uinput=\"Provide the list of labels for Semantic Role Labeling\"\n",
        "text=dialog(uinput) #preparing the messages for ChatGPT\n",
        "print(\"Viewer request\",uinput)\n",
        "print(\"ChatGPT Sentiment Analysis:\",text)"
      ]
    },
    {
      "cell_type": "code",
      "execution_count": 15,
      "metadata": {
        "colab": {
          "base_uri": "https://localhost:8080/"
        },
        "id": "nD56SRycwLe-",
        "outputId": "112a86cf-12f8-4a46-cea3-f8f0be68be2e"
      },
      "outputs": [
        {
          "name": "stdout",
          "output_type": "stream",
          "text": [
            "Viewer request Perform Semantic Role Labeling on the following sentence:I have had rifles and guns for years and never had a problem. I raised my kids right so they have guns too and never hurt anything except rabbits.\n",
            "ChatGPT Sentiment Analysis: Semantic Role Labeling is the process of assigning roles and semantic functions to the constituents of a sentence.\n",
            "\n",
            "Sentence 1: \"I have had rifles and guns for years and never had a problem.\"\n",
            "\n",
            "- Arg0 (Experiencer, holder): I\n",
            "- Verb: have had\n",
            "- Arg1 (Thing possessed): rifles and guns\n",
            "- ArgM-TMP (Time): for years\n",
            "- Conjunction: and\n",
            "- Arg0 (Experiencer, patient): never\n",
            "- Verb: had \n",
            "- Arg1 (Thing experienced): a problem\n",
            "\n",
            "Sentence 2: \"I raised my kids right so they have guns too and never hurt anything except rabbits.\"\n",
            "\n",
            "- Arg0 (Agent, doer): I \n",
            "- Verb: raised \n",
            "- Arg1 (Entity acted upon): my kids\n",
            "- ArgM-MNR (manner): right\n",
            "- ArgM-CAU (Cause): so\n",
            "- Arg0 (Experiencer, holder): they\n",
            "- Verb: have\n",
            "- Arg1 (Thing possessed): guns \n",
            "- ArgM-ADV (additional information): too \n",
            "- Conjunction: and\n",
            "- Arg0 (Agent, doer): never\n",
            "- Verb: hurt\n",
            "- Arg1 (Entity being damaged or changed): anything\n",
            "- ArgM-DIS (Except): except rabbits\n",
            "\n"
          ]
        }
      ],
      "source": [
        "#Gun Control\n",
        "uinput=\"Perform Semantic Role Labeling on the following sentence:I have had rifles and guns for years and never had a problem. I raised my kids right so they have guns too and never hurt anything except rabbits.\"\n",
        "text=dialog(uinput) #preparing the messages for ChatGPT\n",
        "print(\"Viewer request\",uinput)\n",
        "print(\"ChatGPT Sentiment Analysis:\",text)"
      ]
    },
    {
      "cell_type": "code",
      "execution_count": 16,
      "metadata": {
        "colab": {
          "base_uri": "https://localhost:8080/"
        },
        "id": "FM3Bn0cNwYae",
        "outputId": "e652fb18-90ed-4fc3-858d-75b5f4e20d0b"
      },
      "outputs": [
        {
          "name": "stdout",
          "output_type": "stream",
          "text": [
            "Viewer request Perform Semantic Role Labeling on the following sentence:I have heard gunshots all my life in my neighborhood, have lost many friends, and am afraid to go out at night.\n",
            "ChatGPT Sentiment Analysis: Semantic Role Labeling (SRL) works by identifying the underlying events in a sentence or phrase and their associated roles in the expressed event.\n",
            "\n",
            "For the sentence 'I have heard gunshots all my life in my neighborhood, have lost many friends, and am afraid to go out at night.', a simplified breakdown of the semantic role labeling could be as follows:\n",
            "\n",
            "Event: Hearing Gunshots\n",
            "- Agent: I \n",
            "- Action: have heard \n",
            "- Theme: Gunshots\n",
            "- Time: all my life\n",
            "- Location: in my neighborhood\n",
            "\n",
            "Event: Losing Friends\n",
            "- Agent: I \n",
            "- Action: have lost\n",
            "- Theme: many friends\n",
            "\n",
            "Event: Feeling Fear\n",
            "- Agent: I\n",
            "- Action: am afraid\n",
            "- Cause: to go out at night\n"
          ]
        }
      ],
      "source": [
        "#Gun Control\n",
        "uinput=\"Perform Semantic Role Labeling on the following sentence:I have heard gunshots all my life in my neighborhood, have lost many friends, and am afraid to go out at night.\"\n",
        "text=dialog(uinput) #preparing the messages for ChatGPT\n",
        "print(\"Viewer request\",uinput)\n",
        "print(\"ChatGPT Sentiment Analysis:\",text)"
      ]
    }
  ],
  "metadata": {
    "colab": {
      "provenance": []
    },
    "kernelspec": {
      "display_name": "Python 3",
      "name": "python3"
    },
    "language_info": {
      "name": "python"
    }
  },
  "nbformat": 4,
  "nbformat_minor": 0
}
