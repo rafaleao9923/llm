{
 "cells": [
  {
   "cell_type": "code",
   "execution_count": null,
   "metadata": {},
   "outputs": [],
   "source": [
    "import torch\n",
    "from torch import nn\n",
    "from torch.nn import functional as F\n",
    "import numpy as np\n",
    "from numba import jit\n",
    "from matplotlib import pyplot as plt\n",
    "import time\n",
    "from datetime import timedelta\n",
    "import pandas as pd\n",
    "from collections import OrderedDict\n",
    "from itertools import cycle\n",
    "from typing import Optional, Tuple\n",
    "from transformers import AutoTokenizer\n",
    "from sentencepiece import SentencePieceProcessor\n",
    "from datasets import load_dataset\n",
    "\n",
    "device = \"cuda:0\" if torch.cuda.is_available() else \"cpu\"\n",
    "device_cap = torch.cuda.get_device_capability()\n",
    "device_type = \"cuda\" if \"cuda\" in device else \"cpu\"\n",
    "torch.cuda.set_device(device)\n",
    "torch.manual_seed(8855)\n",
    "print(torch.__version__)\n",
    "print(device, device_cap)"
   ]
  },
  {
   "cell_type": "markdown",
   "metadata": {},
   "source": [
    "### Llama 3 from Scratch"
   ]
  },
  {
   "cell_type": "markdown",
   "metadata": {},
   "source": []
  },
  {
   "cell_type": "code",
   "execution_count": null,
   "metadata": {},
   "outputs": [],
   "source": [
    "# Using Huggingface\n",
    "tokenizer = AutoTokenizer.from_pretrained(\"./llama3/\")\n",
    "#tokenizer.add_special_tokens({\"pad_token\": \"<PAD>\"})\n",
    "tokenizer.pad_token = tokenizer.eos_token #Optional\n",
    "\n",
    "vocab = tokenizer.vocab"
   ]
  },
  {
   "cell_type": "code",
   "execution_count": null,
   "metadata": {},
   "outputs": [],
   "source": [
    "def encode(example):\n",
    "    return tokenizer.encode(example, return_tensors=\"pt\")\n",
    "\n",
    "\n",
    "def decode(example):\n",
    "    return tokenizer.batch_decode(\n",
    "        example,\n",
    "        skip_special_tokens=False,\n",
    "        clean_up_tokenization_spaces=True,\n",
    "    )[0]\n",
    "\n",
    "\n",
    "print(f\"Vocab Size: {len(vocab)}\")\n",
    "decode(\n",
    "    encode(\n",
    "        \"hello I am a specifically designed long sentence to make sure this is working not only adequately, but good enough for our batch functions\"\n",
    "    )\n",
    ")"
   ]
  },
  {
   "cell_type": "code",
   "execution_count": null,
   "metadata": {},
   "outputs": [],
   "source": [
    "MASTER_CONFIG = {\n",
    "    \"vocab_size\": len(vocab),\n",
    "    \"batch_size\": 16,\n",
    "    \"context_window\": 32,\n",
    "    \"d_model\": 288,\n",
    "    \"epochs\": 1000,\n",
    "    \"hidden_dim\": 768,\n",
    "    \"log_interval\": 50,\n",
    "    \"n_heads\": 6,\n",
    "    \"n_layers\": 6,\n",
    "}\n",
    "\n",
    "GLOBAL_KEEP_TRACK = []"
   ]
  },
  {
   "cell_type": "code",
   "execution_count": null,
   "metadata": {},
   "outputs": [],
   "source": [
    "# Local Data only\n",
    "dataset = load_dataset(\n",
    "    \"text\",\n",
    "    data_files={\n",
    "        \"train\": [\"../../data/CombinedTinyStories-train.txt\"],\n",
    "        \"val\": [\"../../data/CombinedTinyStories-valid.txt\"],\n",
    "    },\n",
    "    streaming=True,\n",
    ")\n",
    "\n",
    "# Stream Data\n",
    "# dataset = load_dataset('IMJONEZZ/CombinedTinyStories') # optional: streaming=True but to_iterable is faster\n",
    "# dataset = dataset.to_iterable_dataset()\n",
    "\n",
    "# Minimal preprocessing\n",
    "clean_dataset = dataset.filter(lambda example: len(example[\"text\"]) > 2)"
   ]
  },
  {
   "cell_type": "code",
   "execution_count": null,
   "metadata": {},
   "outputs": [],
   "source": [
    "prompt = \"Write a short story. Possible Story: \"\n",
    "tokenized_prompt = tokenizer(prompt, return_tensors=\"pt\").input_ids\n",
    "\n",
    "encoded_dataset = clean_dataset.map(\n",
    "    lambda examples: tokenizer(\n",
    "        [prompt + x for x in examples[\"text\"]],\n",
    "        padding=True,\n",
    "        return_tensors=\"pt\",\n",
    "    ),\n",
    "    batched=True,\n",
    ")\n",
    "train_data = iter(encoded_dataset[\"train\"].shuffle())\n",
    "val_data = iter(encoded_dataset[\"val\"].shuffle())\n",
    "train_data = cycle(train_data)\n",
    "val_data = cycle(val_data)\n",
    "\n",
    "test = next(train_data)\n",
    "print(f\"Actual text: {test['text']}\")\n",
    "print(f\"Input Ids: {tokenizer.decode(test['input_ids'])}\")\n",
    "print(f\"Length of text: {len(test['input_ids'])}\")\n",
    "print(test)"
   ]
  },
  {
   "cell_type": "markdown",
   "metadata": {},
   "source": [
    "### Needed functions"
   ]
  },
  {
   "cell_type": "code",
   "execution_count": null,
   "metadata": {},
   "outputs": [],
   "source": [
    "# @torch.compile #For non-Windows users\n",
    "def get_batches(\n",
    "    data,\n",
    "    batch_size,\n",
    "    context_window,\n",
    "    config=MASTER_CONFIG,\n",
    "    debug=False,\n",
    "):\n",
    "    x = []\n",
    "    y = []\n",
    "    for _ in range(\n",
    "        batch_size\n",
    "    ):  # Adjust this lower if you're running out of memory\n",
    "        batch_data = next(data)\n",
    "\n",
    "        # pick random starting points\n",
    "        ix = torch.randint(\n",
    "            0, len(batch_data[\"input_ids\"]) - context_window - 1, (2,)\n",
    "        )\n",
    "        batch_x = torch.stack(\n",
    "            [batch_data[\"input_ids\"][i : i + context_window] for i in ix]\n",
    "        ).long()\n",
    "        batch_y = torch.stack(\n",
    "            [\n",
    "                batch_data[\"input_ids\"][i + 1 : i + context_window + 1]\n",
    "                for i in ix\n",
    "            ]\n",
    "        ).long()\n",
    "        x.append(batch_x)\n",
    "        y.append(batch_y)\n",
    "    x = torch.cat((x), 0).to(device)\n",
    "    y = torch.cat((y), 0).to(device)\n",
    "    if debug:\n",
    "        print(f\"ix: {ix}\\nx: {x}\\ny: {y}\")\n",
    "    return x, y\n",
    "\n",
    "\n",
    "def get_lora_batches(\n",
    "    data,\n",
    "    batch_size,\n",
    "    context_window=32,\n",
    "):\n",
    "    x = []\n",
    "    y = []\n",
    "    for _ in range(batch_size // 2):\n",
    "        x_data = next(data)\n",
    "        y_data = next(data)\n",
    "\n",
    "        x_data = torch.stack([x_data[\"input_ids\"]]).long()\n",
    "        y_data = torch.stack([y_data[\"input_ids\"]]).long()\n",
    "\n",
    "        x.append(x_data)\n",
    "        y.append(y_data)\n",
    "    x = torch.cat((x), 0).to(device)\n",
    "    y = torch.cat((y), 0).to(device)\n",
    "    return x, y\n",
    "\n",
    "xs, ys = get_batches(\n",
    "                    train_data, 16, 32\n",
    "                )\n",
    "print(xs)\n",
    "print(ys)"
   ]
  },
  {
   "cell_type": "code",
   "execution_count": null,
   "metadata": {},
   "outputs": [],
   "source": [
    "@torch.no_grad()\n",
    "def get_loss(model, lora=False, config=MASTER_CONFIG):\n",
    "    out = {}\n",
    "    model.eval()\n",
    "    for name, split in zip([\"train\", \"val\"], [train_data, val_data]):\n",
    "        losses = []\n",
    "        for _ in range(10):\n",
    "            if lora == True:\n",
    "                xb, yb = get_lora_batches(\n",
    "                    split, config[\"batch_size\"], config[\"context_window\"]\n",
    "                )\n",
    "            else:\n",
    "                xb, yb = get_batches(\n",
    "                    split,\n",
    "                    config[\"batch_size\"],\n",
    "                    config[\"context_window\"],\n",
    "                )\n",
    "            _, loss = model(xb, yb)\n",
    "            losses.append(loss.item())\n",
    "        out[name] = np.mean(losses)\n",
    "    model.train()\n",
    "    return out\n",
    "\n",
    "\n",
    "@torch.inference_mode()\n",
    "def generate(\n",
    "    model,\n",
    "    config=MASTER_CONFIG,\n",
    "    temperature=1.0,\n",
    "    top_k=None,\n",
    "    max_new_tokens=30,\n",
    "    lora=False,\n",
    "):\n",
    "    idx_list = [tokenized_prompt] * 5\n",
    "    idx = torch.cat((idx_list), 0).long().to(device)\n",
    "    if lora:\n",
    "        idx = (\n",
    "            torch.ones(5, 1).long().to(device)\n",
    "        )  # Alternative without prompt\n",
    "    for _ in range(max_new_tokens):\n",
    "        # call the model\n",
    "        logits = model(idx[:, -config[\"context_window\"] :])\n",
    "        last_time_step_logits = logits[\n",
    "            :, -1, :\n",
    "        ]  # all the batches (1), last time step, all the logits\n",
    "\n",
    "        last_time_step_logits = last_time_step_logits / temperature\n",
    "        if top_k is not None:\n",
    "            v, _ = torch.topk(\n",
    "                last_time_step_logits,\n",
    "                min(top_k, last_time_step_logits.size(-1)),\n",
    "            )\n",
    "            last_time_step_logits[last_time_step_logits < v[:, [-1]]] = (\n",
    "                -float(\"Inf\")\n",
    "            )\n",
    "        p = F.softmax(\n",
    "            last_time_step_logits, dim=-1\n",
    "        )  # softmax to get probabilities\n",
    "        idx_next = torch.multinomial(\n",
    "            p, num_samples=1\n",
    "        )  # sample from the distribution to get the next token\n",
    "        idx = torch.cat([idx, idx_next], dim=-1)  # append to the sequence\n",
    "    return [tokenizer.decode(x) for x in idx.tolist()]"
   ]
  },
  {
   "cell_type": "markdown",
   "metadata": {},
   "source": [
    "### Two-layer Feed Forward Network"
   ]
  },
  {
   "cell_type": "code",
   "execution_count": null,
   "metadata": {},
   "outputs": [],
   "source": [
    "class SimpleFeedForwardNN(nn.Module):\n",
    "    def __init__(self, config=MASTER_CONFIG):\n",
    "        super().__init__()\n",
    "        self.config = config\n",
    "\n",
    "        self.embedding = nn.Embedding(\n",
    "            config[\"vocab_size\"], config[\"d_model\"]\n",
    "        )\n",
    "        self.linear = nn.Sequential(\n",
    "            nn.Linear(config[\"d_model\"], config[\"d_model\"]),\n",
    "            nn.ReLU(),\n",
    "            nn.Linear(config[\"d_model\"], config[\"vocab_size\"]),\n",
    "        )\n",
    "\n",
    "        print(\n",
    "            f\"model params: {sum([m.numel() for m in self.parameters()])}\"\n",
    "        )\n",
    "\n",
    "    def forward(self, idx, targets=None):\n",
    "        x = self.embedding(idx)\n",
    "        logits = self.linear(x)\n",
    "\n",
    "        if targets is not None:\n",
    "            loss = F.cross_entropy(\n",
    "                logits.view(-1, self.config[\"vocab_size\"]),\n",
    "                targets.view(-1),\n",
    "                ignore_index=tokenizer.pad_token_id,\n",
    "                # reduction=\"sum\",\n",
    "            )\n",
    "            return logits, loss\n",
    "\n",
    "        else:\n",
    "            return logits\n",
    "\n",
    "\n",
    "model = SimpleFeedForwardNN(MASTER_CONFIG).to(device)\n",
    "# opt_model = torch.compile(model) #Again, non-Windows folks should be compiling functions and models\n",
    "# xs, ys = get_batches(\n",
    "#     train_data,\n",
    "#     MASTER_CONFIG[\"batch_size\"],\n",
    "#     MASTER_CONFIG[\"context_window\"],\n",
    "# )\n",
    "\n",
    "# logits, loss = model(xs, ys)"
   ]
  },
  {
   "cell_type": "markdown",
   "metadata": {},
   "source": [
    "### Training Loop"
   ]
  },
  {
   "cell_type": "code",
   "execution_count": null,
   "metadata": {},
   "outputs": [],
   "source": [
    "def train(\n",
    "    model,\n",
    "    optimizer,\n",
    "    scheduler=None,\n",
    "    data=None,\n",
    "    config=MASTER_CONFIG,\n",
    "    lora=False,\n",
    "    print_logs=False,\n",
    "):\n",
    "    losses = []\n",
    "    start_time = time.time()\n",
    "    for epoch in range(config[\"epochs\"]):\n",
    "        try:\n",
    "            optimizer.zero_grad()\n",
    "\n",
    "            if lora:\n",
    "                xs, ys = get_lora_batches(data, config[\"batch_size\"])\n",
    "            else:\n",
    "                xs, ys = get_batches(\n",
    "                    data, config[\"batch_size\"], config[\"context_window\"]\n",
    "                )\n",
    "\n",
    "            # #If you really want to overfit\n",
    "            # for i in range(1, config[\"context_window\"] + 1):\n",
    "            #     x = xs[:i]\n",
    "            #     y = ys[:i]\n",
    "            #     logits, loss = model(x, targets=y)\n",
    "            #     loss.backward()\n",
    "            #     optimizer.step()\n",
    "\n",
    "            logits, loss = model(xs, targets=ys)\n",
    "            loss.backward()\n",
    "            optimizer.step()\n",
    "\n",
    "            if scheduler:\n",
    "                scheduler.step()\n",
    "\n",
    "            if epoch % config[\"log_interval\"] == 0:\n",
    "                batch_time = time.time() - start_time\n",
    "                x = get_loss(model, lora=lora)\n",
    "                losses += [x]\n",
    "                if print_logs:\n",
    "                    print(\n",
    "                        f\"Epoch {epoch} | train loss {x['train']:.3f} | val loss {x['val']:.3f} | Time {batch_time:.3f} | ETA: {timedelta(seconds=(batch_time * (config['epochs'] - epoch)/config['log_interval']))}\"\n",
    "                    )\n",
    "                start_time = time.time()\n",
    "\n",
    "                if scheduler:\n",
    "                    print(\"lr: \", scheduler.get_last_lr())\n",
    "        except StopIteration:\n",
    "            print(f\"Reached end of dataset on step {epoch}\")\n",
    "            break\n",
    "\n",
    "    GLOBAL_KEEP_TRACK.append(\n",
    "        f\"{type(model).__name__} {sum([m.numel() for m in model.parameters()])} Params | Train: {losses[-1]['train']:.3f} | Val: {losses[-1]['val']:.3f}\"\n",
    "    )\n",
    "    print(\n",
    "        f\"training loss {losses[-1]['train']:.3f} | validation loss: {losses[-1]['val']:.3f}\"\n",
    "    )\n",
    "    return pd.DataFrame(losses).plot(xlabel=\"Step // 50\", ylabel=\"Loss\")"
   ]
  },
  {
   "cell_type": "code",
   "execution_count": null,
   "metadata": {},
   "outputs": [],
   "source": [
    "optimizer = torch.optim.AdamW(\n",
    "    model.parameters(),\n",
    ")\n",
    "train(model, optimizer, data=train_data, print_logs=True)"
   ]
  },
  {
   "cell_type": "code",
   "execution_count": null,
   "metadata": {},
   "outputs": [],
   "source": [
    "generate(model, config=MASTER_CONFIG)"
   ]
  },
  {
   "cell_type": "code",
   "execution_count": null,
   "metadata": {},
   "outputs": [],
   "source": [
    "for i in GLOBAL_KEEP_TRACK:\n",
    "    print(i)"
   ]
  },
  {
   "cell_type": "markdown",
   "metadata": {},
   "source": [
    "### RMS Normalization"
   ]
  },
  {
   "cell_type": "code",
   "execution_count": null,
   "metadata": {},
   "outputs": [],
   "source": [
    "class RMSNormalization(torch.nn.Module):\n",
    "    def __init__(self, dim: int, eps: float = 1e-6):\n",
    "        super().__init__()\n",
    "        self.eps = eps\n",
    "        self.register_parameter(\n",
    "            \"scale\", nn.Parameter(torch.ones(dim))\n",
    "        )\n",
    "\n",
    "    def forward(self, x):\n",
    "        output = x * torch.rsqrt(x.pow(2).mean(-1, keepdim=True) + self.eps)\n",
    "        return output * self.scale[: x.shape[1], :].unsqueeze(0)"
   ]
  },
  {
   "cell_type": "code",
   "execution_count": null,
   "metadata": {},
   "outputs": [],
   "source": [
    "class SimpleFeedForwardNN_RMS(nn.Module):\n",
    "    def __init__(self, config):\n",
    "        super().__init__()\n",
    "        self.config = config\n",
    "\n",
    "        self.embedding = nn.Embedding(\n",
    "            config[\"vocab_size\"], config[\"d_model\"]\n",
    "        )\n",
    "        self.rms = RMSNormalization((config[\"d_model\"], config[\"d_model\"]))\n",
    "        self.linear = nn.Sequential(\n",
    "            nn.Linear(config[\"d_model\"], config[\"d_model\"]),\n",
    "            nn.ReLU(),\n",
    "            nn.Linear(config[\"d_model\"], config[\"vocab_size\"]),\n",
    "        )\n",
    "\n",
    "        print(\n",
    "            f\"model params: {sum([m.numel() for m in self.parameters()])}\"\n",
    "        )\n",
    "\n",
    "    def forward(self, idx, targets=None):\n",
    "        x = self.embedding(idx)\n",
    "        x = self.rms(x)  # rms pre-normalization\n",
    "        logits = self.linear(x)\n",
    "\n",
    "        if targets is not None:\n",
    "            loss = F.cross_entropy(\n",
    "                logits.view(-1, self.config[\"vocab_size\"]),\n",
    "                targets.view(-1),\n",
    "                ignore_index=tokenizer.pad_token_id,\n",
    "                # reduction=\"sum\",\n",
    "            )\n",
    "            return logits, loss\n",
    "\n",
    "        else:\n",
    "            return logits\n",
    "\n",
    "\n",
    "model = SimpleFeedForwardNN_RMS(MASTER_CONFIG).to(device)\n",
    "optimizer = torch.optim.AdamW(model.parameters())\n",
    "train(model, optimizer, data=train_data, print_logs=True)"
   ]
  },
  {
   "cell_type": "code",
   "execution_count": null,
   "metadata": {},
   "outputs": [],
   "source": [
    "generate(model, config=MASTER_CONFIG)"
   ]
  },
  {
   "cell_type": "code",
   "execution_count": null,
   "metadata": {},
   "outputs": [],
   "source": [
    "for i in GLOBAL_KEEP_TRACK:\n",
    "    print(i)"
   ]
  },
  {
   "cell_type": "markdown",
   "metadata": {},
   "source": [
    "### RoPE scaling"
   ]
  },
  {
   "cell_type": "code",
   "execution_count": null,
   "metadata": {},
   "outputs": [],
   "source": [
    "def get_rotary_matrix(context_window, embedding_dim):\n",
    "    R = torch.zeros(\n",
    "        (context_window, embedding_dim, embedding_dim), requires_grad=False\n",
    "    )\n",
    "    for position in range(context_window):\n",
    "        for i in range(embedding_dim // 2):\n",
    "            theta = 10000.0 ** (-2.0 * (i - 1) / embedding_dim)\n",
    "            m_theta = position * theta\n",
    "            R[position, 2 * i, 2 * i] = np.cos(m_theta)\n",
    "            R[position, 2 * i, 2 * i + 1] = -np.sin(m_theta)\n",
    "            R[position, 2 * i + 1, 2 * i] = np.sin(m_theta)\n",
    "            R[position, 2 * i + 1, 2 * i + 1] = np.cos(m_theta)\n",
    "    return R"
   ]
  },
  {
   "cell_type": "code",
   "execution_count": null,
   "metadata": {},
   "outputs": [],
   "source": [
    "from IPython.display import clear_output\n",
    "\n",
    "K = 3\n",
    "config = {\n",
    "    \"batch_size\": 10,\n",
    "    \"d_model\": 32,\n",
    "    \"n_heads\": 8,\n",
    "    \"context_window\": K**2,\n",
    "}\n",
    "batch = torch.randn(1, config[\"context_window\"], config[\"d_model\"])\n",
    "R = get_rotary_matrix(config[\"context_window\"], config[\"d_model\"])\n",
    "# clear_output()\n",
    "fig, ax = plt.subplots(K, K, figsize=(K * 3, K * 4))\n",
    "\n",
    "for i in range(K):\n",
    "    for j in range(K):\n",
    "        ax[i, j].imshow(R[i * K + j, :, :].detach().numpy())\n",
    "        ax[i, j].set_title(f\"rotation at {i * K + j}\")"
   ]
  },
  {
   "cell_type": "code",
   "execution_count": null,
   "metadata": {},
   "outputs": [],
   "source": [
    "config = {\n",
    "    \"batch_size\": 10,\n",
    "    \"d_model\": 512,\n",
    "    \"n_heads\": 8,\n",
    "    \"context_window\": 16,\n",
    "}\n",
    "\n",
    "\n",
    "class RoPEMaskedAttentionHead(nn.Module):\n",
    "    def __init__(self, config):\n",
    "        super().__init__()\n",
    "        self.config = config\n",
    "        self.w_q = nn.Linear(\n",
    "            config[\"d_model\"], config[\"d_model\"], bias=False\n",
    "        )\n",
    "        self.w_k = nn.Linear(\n",
    "            config[\"d_model\"], config[\"d_model\"], bias=False\n",
    "        )\n",
    "        self.w_v = nn.Linear(\n",
    "            config[\"d_model\"], config[\"d_model\"], bias=False\n",
    "        )\n",
    "\n",
    "        self.R = get_rotary_matrix(\n",
    "            config[\"context_window\"], config[\"d_model\"]\n",
    "        ).to(device)\n",
    "\n",
    "    @jit(nopython=False)\n",
    "    def get_rotary_matrix(context_window, embedding_dim):\n",
    "        R = torch.zeros(\n",
    "            (context_window, embedding_dim, embedding_dim),\n",
    "            requires_grad=False,\n",
    "        )\n",
    "        for position in range(context_window):\n",
    "            for i in range(embedding_dim // 2):\n",
    "                theta = 10000.0 ** (-2.0 * (i - 1) / embedding_dim)\n",
    "                m_theta = position * theta\n",
    "                R[position, 2 * i, 2 * i] = np.cos(m_theta)\n",
    "                R[position, 2 * i, 2 * i + 1] = -np.sin(m_theta)\n",
    "                R[position, 2 * i + 1, 2 * i] = np.sin(m_theta)\n",
    "                R[position, 2 * i + 1, 2 * i + 1] = np.cos(m_theta)\n",
    "        return R\n",
    "\n",
    "    def forward(self, x, return_attn_weights=False):\n",
    "        b, m, d = x.shape\n",
    "\n",
    "        q = self.w_q(x).to(device)\n",
    "        k = self.w_k(x).to(device)\n",
    "        v = self.w_v(x).to(device)\n",
    "\n",
    "        q_rotated = (\n",
    "            (torch.bmm(q.transpose(0, 1), self.R[:m]))\n",
    "            .transpose(0, 1)\n",
    "            .to(device)\n",
    "        )\n",
    "        k_rotated = (\n",
    "            (torch.bmm(k.transpose(0, 1), self.R[:m]))\n",
    "            .transpose(0, 1)\n",
    "            .to(device)\n",
    "        )\n",
    "\n",
    "        activations = F.scaled_dot_product_attention(\n",
    "            q_rotated, k_rotated, v, dropout_p=0.1, is_causal=True\n",
    "        )\n",
    "\n",
    "        if return_attn_weights:\n",
    "            attn_mask = torch.tril(torch.ones((m, m)), diagonal=0).to(\n",
    "                device\n",
    "            )\n",
    "            attn_weights = (\n",
    "                torch.bmm(q_rotated, k_rotated.transpose(1, 2)) / np.sqrt(d)\n",
    "                + attn_mask\n",
    "            )\n",
    "            attn_weights = F.softmax(attn_weights, dim=-1)\n",
    "            return activations, attn_weights\n",
    "        return activations\n",
    "\n",
    "\n",
    "layer = RoPEMaskedAttentionHead(config)\n",
    "batch = torch.randn(\n",
    "    (config[\"batch_size\"], config[\"context_window\"], config[\"d_model\"])\n",
    ")\n",
    "output, attn_weights = layer(batch, return_attn_weights=True)"
   ]
  },
  {
   "cell_type": "code",
   "execution_count": null,
   "metadata": {},
   "outputs": [],
   "source": [
    "class RoPEMaskedMultiheadAttention(nn.Module):\n",
    "    def __init__(self, config):\n",
    "        super().__init__()\n",
    "        self.config = config\n",
    "        self.heads = nn.ModuleList(\n",
    "            [\n",
    "                RoPEMaskedAttentionHead(config).to(device)\n",
    "                for _ in range(config[\"n_heads\"])\n",
    "            ]\n",
    "        )\n",
    "        self.linear = nn.Linear(\n",
    "            config[\"n_heads\"] * config[\"d_model\"], config[\"d_model\"]\n",
    "        ).to(device)\n",
    "        self.dropout = nn.Dropout(0.1)\n",
    "\n",
    "    def forward(self, x):\n",
    "        x = x.to(device)\n",
    "        heads = [h(x) for h in self.heads]\n",
    "        x = torch.cat(heads, dim=-1)\n",
    "        x = self.linear(x)\n",
    "        x = self.dropout(x)\n",
    "        return x\n",
    "\n",
    "\n",
    "layer = RoPEMaskedMultiheadAttention(MASTER_CONFIG)\n",
    "batch = torch.ones(\n",
    "    (\n",
    "        MASTER_CONFIG[\"batch_size\"],\n",
    "        MASTER_CONFIG[\"context_window\"],\n",
    "        MASTER_CONFIG[\"d_model\"],\n",
    "    )\n",
    ")\n",
    "output = layer(batch)\n",
    "output.shape"
   ]
  },
  {
   "cell_type": "code",
   "execution_count": 22,
   "metadata": {},
   "outputs": [
    {
     "name": "stdout",
     "output_type": "stream",
     "text": [
      "Epoch 550 | train loss 4.033 | val loss 4.156 | Time 1.628 | ETA: 0:00:14.651062\n",
      "Epoch 600 | train loss 4.201 | val loss 4.256 | Time 1.618 | ETA: 0:00:12.944433\n",
      "Epoch 650 | train loss 4.230 | val loss 4.344 | Time 1.612 | ETA: 0:00:11.284075\n",
      "Epoch 700 | train loss 4.546 | val loss 4.112 | Time 1.603 | ETA: 0:00:09.618363\n",
      "Epoch 750 | train loss 4.473 | val loss 4.514 | Time 1.611 | ETA: 0:00:08.057482\n",
      "Epoch 800 | train loss 4.590 | val loss 4.129 | Time 1.786 | ETA: 0:00:07.143560\n",
      "Epoch 850 | train loss 4.447 | val loss 4.660 | Time 1.646 | ETA: 0:00:04.936961\n",
      "Epoch 900 | train loss 4.340 | val loss 4.492 | Time 1.635 | ETA: 0:00:03.270883\n",
      "Epoch 950 | train loss 4.122 | val loss 4.216 | Time 1.662 | ETA: 0:00:01.661775\n",
      "training loss 4.122 | validation loss: 4.216\n"
     ]
    },
    {
     "data": {
      "text/plain": [
       "<Axes: xlabel='Step // 50', ylabel='Loss'>"
      ]
     },
     "execution_count": 22,
     "metadata": {},
     "output_type": "execute_result"
    },
    {
     "data": {
      "image/png": "[encoded data removed]",
      "text/plain": [
       "<Figure size 640x480 with 1 Axes>"
      ]
     },
     "metadata": {},
     "output_type": "display_data"
    }
   ],
   "source": [
    "class SimpleFeedForwardNN_RMS_Rope(nn.Module):\n",
    "    def __init__(self, config):\n",
    "        super().__init__()\n",
    "        self.config = config\n",
    "\n",
    "        self.embedding = nn.Embedding(\n",
    "            config[\"vocab_size\"], config[\"d_model\"]\n",
    "        )\n",
    "        self.rms = RMSNormalization(\n",
    "            (config[\"d_model\"], config[\"d_model\"])\n",
    "        ).to(device)\n",
    "        self.rope_attention = RoPEMaskedMultiheadAttention(config).to(\n",
    "            device\n",
    "        )\n",
    "\n",
    "        self.linear = nn.Sequential(\n",
    "            nn.Linear(config[\"d_model\"], config[\"d_model\"]), nn.ReLU()\n",
    "        )\n",
    "\n",
    "        self.last_linear = nn.Linear(\n",
    "            config[\"d_model\"], config[\"vocab_size\"]\n",
    "        )\n",
    "\n",
    "        print(\n",
    "            f\"model params: {sum([m.numel() for m in self.parameters()])}\"\n",
    "        )\n",
    "\n",
    "    def forward(self, idx, targets=None):\n",
    "        x = self.embedding(idx)\n",
    "\n",
    "        x = self.rms(x)\n",
    "        x = x + self.rope_attention(x)\n",
    "\n",
    "        x = self.rms(x)\n",
    "        x = x + self.linear(x)\n",
    "\n",
    "        logits = self.last_linear(x)\n",
    "\n",
    "        if targets is not None:\n",
    "            loss = F.cross_entropy(\n",
    "                logits.view(-1, self.config[\"vocab_size\"]),\n",
    "                targets.view(-1),\n",
    "                ignore_index=tokenizer.pad_token_id,\n",
    "                # reduction=\"sum\",\n",
    "            )\n",
    "            return logits, loss\n",
    "\n",
    "        else:\n",
    "            return logits\n",
    "\n",
    "\n",
    "model = SimpleFeedForwardNN_RMS_Rope(MASTER_CONFIG).to(device)\n",
    "optimizer = torch.optim.AdamW(model.parameters())\n",
    "train(model, optimizer, data=train_data, print_logs=True)"
   ]
  },
  {
   "cell_type": "code",
   "execution_count": 23,
   "metadata": {},
   "outputs": [
    {
     "data": {
      "text/plain": [
       "['<|begin_of_text|>Write a short story. Possible Story: 3 him. She was holding the bear she could bounce around theulu\\'s go to his things, and I can talk it couldn and!\" wanted to',\n",
       " \"<|begin_of_text|>Write a short story. Possible Story: 3 years old she didn't today. She felt much better held and her toys. She stopped to do something new toys. One day, Lily was\",\n",
       " '<|begin_of_text|>Write a short story. Possible Story: 3 year old owl comes to be cute had to have a to be scared after to help his next time and my walk. She trust it or her',\n",
       " '<|begin_of_text|>Write a short story. Possible Story:  smiled and said, \"It\\'s everything for special wish!\":, \"What\\'s family in and Joe!\" the little mouse crashed, and smooth.',\n",
       " \"<|begin_of_text|>Write a short story. Possible Story:  Everyday playing, he opened it's play book close like it for. It was a little man who lived in a lock to play but out. He\"]"
      ]
     },
     "execution_count": 23,
     "metadata": {},
     "output_type": "execute_result"
    }
   ],
   "source": [
    "generate(model, config=MASTER_CONFIG)"
   ]
  },
  {
   "cell_type": "code",
   "execution_count": 24,
   "metadata": {},
   "outputs": [
    {
     "name": "stdout",
     "output_type": "stream",
     "text": [
      "SimpleFeedForwardNN 74086944 Params | Train: 4.189 | Val: 4.471\n",
      "SimpleFeedForwardNN_RMS 74169888 Params | Train: 4.260 | Val: 4.492\n",
      "SimpleFeedForwardNN_RMS_Rope 76160832 Params | Train: 4.122 | Val: 4.216\n"
     ]
    }
   ],
   "source": [
    "for i in GLOBAL_KEEP_TRACK:\n",
    "    print(i)"
   ]
  },
  {
   "cell_type": "markdown",
   "metadata": {},
   "source": [
    "### SwiGLU"
   ]
  },
  {
   "cell_type": "code",
   "execution_count": 25,
   "metadata": {},
   "outputs": [],
   "source": [
    "class SwiGLU(nn.Module):\n",
    "    def __init__(self, size):\n",
    "        super().__init__()\n",
    "        self.config = config\n",
    "        self.linear_gate = nn.Linear(size, size)\n",
    "        self.linear = nn.Linear(size, size)\n",
    "        self.beta = torch.randn(1, requires_grad=True)\n",
    "\n",
    "        self.beta = nn.Parameter(torch.ones(1))\n",
    "        self.register_parameter(\"beta\", self.beta)\n",
    "\n",
    "    def forward(self, x):\n",
    "        swish_gate = self.linear_gate(x) * torch.sigmoid(\n",
    "            self.beta * self.linear_gate(x)\n",
    "        )\n",
    "        out = swish_gate * self.linear(x)\n",
    "        return out"
   ]
  },
  {
   "cell_type": "code",
   "execution_count": 26,
   "metadata": {},
   "outputs": [
    {
     "name": "stdout",
     "output_type": "stream",
     "text": [
      "model params: 76327297\n",
      "Epoch 0 | train loss 11.859 | val loss 11.882 | Time 0.031 | ETA: 0:00:00.617962\n",
      "Epoch 50 | train loss 5.699 | val loss 6.227 | Time 1.680 | ETA: 0:00:31.921274\n",
      "Epoch 100 | train loss 5.289 | val loss 5.644 | Time 1.674 | ETA: 0:00:30.139287\n",
      "Epoch 150 | train loss 4.962 | val loss 5.546 | Time 1.660 | ETA: 0:00:28.219410\n",
      "Epoch 200 | train loss 4.744 | val loss 5.243 | Time 1.677 | ETA: 0:00:26.839001\n",
      "Epoch 250 | train loss 5.080 | val loss 4.997 | Time 1.690 | ETA: 0:00:25.342544\n",
      "Epoch 300 | train loss 4.470 | val loss 4.632 | Time 1.703 | ETA: 0:00:23.841747\n",
      "Epoch 350 | train loss 4.329 | val loss 4.634 | Time 1.722 | ETA: 0:00:22.391763\n",
      "Epoch 400 | train loss 4.603 | val loss 4.613 | Time 1.698 | ETA: 0:00:20.371745\n",
      "Epoch 450 | train loss 4.599 | val loss 4.752 | Time 1.670 | ETA: 0:00:18.371150\n",
      "Epoch 500 | train loss 4.025 | val loss 4.523 | Time 1.672 | ETA: 0:00:16.721938\n",
      "Epoch 550 | train loss 4.347 | val loss 4.394 | Time 1.688 | ETA: 0:00:15.188408\n",
      "Epoch 600 | train loss 4.110 | val loss 4.497 | Time 1.673 | ETA: 0:00:13.386614\n",
      "Epoch 650 | train loss 4.249 | val loss 4.321 | Time 1.830 | ETA: 0:00:12.810095\n",
      "Epoch 700 | train loss 3.859 | val loss 4.110 | Time 1.687 | ETA: 0:00:10.123535\n",
      "Epoch 750 | train loss 4.623 | val loss 3.871 | Time 1.688 | ETA: 0:00:08.441288\n",
      "Epoch 800 | train loss 4.741 | val loss 4.170 | Time 1.659 | ETA: 0:00:06.634128\n",
      "Epoch 850 | train loss 4.551 | val loss 4.467 | Time 1.652 | ETA: 0:00:04.957026\n",
      "Epoch 900 | train loss 4.606 | val loss 4.134 | Time 1.653 | ETA: 0:00:03.306446\n",
      "Epoch 950 | train loss 4.174 | val loss 4.575 | Time 1.650 | ETA: 0:00:01.650354\n",
      "training loss 4.174 | validation loss: 4.575\n"
     ]
    },
    {
     "data": {
      "text/plain": [
       "<Axes: xlabel='Step // 50', ylabel='Loss'>"
      ]
     },
     "execution_count": 26,
     "metadata": {},
     "output_type": "execute_result"
    },
    {
     "data": {
      "image/png": "[encoded data removed]",
      "text/plain": [
       "<Figure size 640x480 with 1 Axes>"
      ]
     },
     "metadata": {},
     "output_type": "display_data"
    }
   ],
   "source": [
    "class SimpleFeedForwardNN_RMS_RoPE_SwiGLU(nn.Module):\n",
    "    def __init__(self, config):\n",
    "        super().__init__()\n",
    "        self.config = config\n",
    "\n",
    "        self.embedding = nn.Embedding(\n",
    "            config[\"vocab_size\"], config[\"d_model\"]\n",
    "        )\n",
    "        self.rms = RMSNormalization((config[\"d_model\"], config[\"d_model\"]))\n",
    "        self.rope_attention = RoPEMaskedMultiheadAttention(config)\n",
    "\n",
    "        self.linear = nn.Sequential(\n",
    "            nn.Linear(config[\"d_model\"], config[\"d_model\"]),\n",
    "            SwiGLU(config[\"d_model\"]),\n",
    "        )\n",
    "\n",
    "        self.last_linear = nn.Linear(\n",
    "            config[\"d_model\"], config[\"vocab_size\"]\n",
    "        )\n",
    "\n",
    "        print(\n",
    "            f\"model params: {sum([m.numel() for m in self.parameters()])}\"\n",
    "        )\n",
    "\n",
    "    def forward(self, idx, targets=None):\n",
    "        x = self.embedding(idx)\n",
    "\n",
    "        x = self.rms(x)\n",
    "        x = x + self.rope_attention(x)\n",
    "\n",
    "        x = self.rms(x)\n",
    "        x = x + self.linear(x)\n",
    "\n",
    "        logits = self.last_linear(x)\n",
    "\n",
    "        if targets is not None:\n",
    "            loss = F.cross_entropy(\n",
    "                logits.view(-1, self.config[\"vocab_size\"]),\n",
    "                targets.view(-1),\n",
    "                ignore_index=tokenizer.pad_token_id,\n",
    "                # reduction=\"sum\",\n",
    "            )\n",
    "            return logits, loss\n",
    "\n",
    "        else:\n",
    "            return logits\n",
    "\n",
    "\n",
    "model = SimpleFeedForwardNN_RMS_RoPE_SwiGLU(MASTER_CONFIG).to(device)\n",
    "optimizer = torch.optim.AdamW(model.parameters())\n",
    "train(model, optimizer, data=train_data, print_logs=True)"
   ]
  },
  {
   "cell_type": "code",
   "execution_count": 27,
   "metadata": {},
   "outputs": [
    {
     "data": {
      "text/plain": [
       "['<|begin_of_text|>Write a short story. Possible Story:  stand. Possible Story: One sunny day, the family kept enjoying and Haus and laughed That has her playing with his family to play balancing. That mom',\n",
       " \"<|begin_of_text|>Write a short story. Possible Story:  say the board. They both licked the cro and didn't the ink the girl. She was sad and saw a cool. The boy whispered. She\",\n",
       " '<|begin_of_text|>Write a short story. Possible Story:  Billy was still snacks grabbed McN rabbit very muchmy was too! The girl was so happy and suddenly loved watching happy. He smiled. One day,',\n",
       " '<|begin_of_text|>Write a short story. Possible Story:  Ben too. They saw the ice cream and saw some cookies. They had treasure fell by the village absolutely crying, but it was so excited to try',\n",
       " '<|begin_of_text|>Write a short story. Possible Story:  mommy and Mil \"Yes there.\" She hope or something. Tom wasabel. He crawl, he could show the· of the home.  and']"
      ]
     },
     "execution_count": 27,
     "metadata": {},
     "output_type": "execute_result"
    }
   ],
   "source": [
    "generate(model, config=MASTER_CONFIG)"
   ]
  },
  {
   "cell_type": "code",
   "execution_count": 28,
   "metadata": {},
   "outputs": [
    {
     "name": "stdout",
     "output_type": "stream",
     "text": [
      "SimpleFeedForwardNN 74086944 Params | Train: 4.189 | Val: 4.471\n",
      "SimpleFeedForwardNN_RMS 74169888 Params | Train: 4.260 | Val: 4.492\n",
      "SimpleFeedForwardNN_RMS_Rope 76160832 Params | Train: 4.122 | Val: 4.216\n",
      "SimpleFeedForwardNN_RMS_RoPE_SwiGLU 76327297 Params | Train: 4.174 | Val: 4.575\n"
     ]
    }
   ],
   "source": [
    "for i in GLOBAL_KEEP_TRACK:\n",
    "    print(i)"
   ]
  },
  {
   "cell_type": "code",
   "execution_count": 29,
   "metadata": {},
   "outputs": [
    {
     "data": {
      "text/plain": [
       "71"
      ]
     },
     "execution_count": 29,
     "metadata": {},
     "output_type": "execute_result"
    }
   ],
   "source": [
    "del model\n",
    "with torch.no_grad():\n",
    "    torch.cuda.empty_cache()\n",
    "import gc\n",
    "\n",
    "gc.collect()"
   ]
  },
  {
   "cell_type": "markdown",
   "metadata": {},
   "source": [
    "### Llama"
   ]
  },
  {
   "cell_type": "code",
   "execution_count": 30,
   "metadata": {},
   "outputs": [],
   "source": [
    "class LlamaBlock(nn.Module):\n",
    "    def __init__(self, config):\n",
    "        super().__init__()\n",
    "        self.config = config\n",
    "\n",
    "        self.rms = RMSNormalization(\n",
    "            (config[\"d_model\"], config[\"d_model\"])\n",
    "        )\n",
    "\n",
    "        self.attention = RoPEMaskedMultiheadAttention(config).to(device)\n",
    "        self.feedforward = nn.Sequential(\n",
    "            nn.Linear(config[\"d_model\"], config[\"hidden_dim\"]),\n",
    "            SwiGLU(config[\"hidden_dim\"]),\n",
    "            nn.Linear(config[\"hidden_dim\"], config[\"d_model\"]),\n",
    "        )\n",
    "\n",
    "    def forward(self, x):\n",
    "        h = x + self.attention(self.rms(x))\n",
    "        out = h + self.feedforward(self.rms(x))\n",
    "        return out"
   ]
  },
  {
   "cell_type": "code",
   "execution_count": 31,
   "metadata": {},
   "outputs": [],
   "source": [
    "class SimpleLlama(nn.Module):\n",
    "    def __init__(self, config):\n",
    "        super().__init__()\n",
    "        self.config = config\n",
    "\n",
    "        self.embedding = nn.Embedding(\n",
    "            config[\"vocab_size\"], config[\"d_model\"]\n",
    "        )\n",
    "        self.llama_blocks = nn.Sequential(\n",
    "            OrderedDict(\n",
    "                [\n",
    "                    (f\"llama_{i}\", LlamaBlock(config).to(device))\n",
    "                    for i in range(config[\"n_layers\"])\n",
    "                ]\n",
    "            )\n",
    "        )\n",
    "\n",
    "        self.ffn = nn.Sequential(\n",
    "            nn.Linear(config[\"d_model\"], config[\"d_model\"]),\n",
    "            SwiGLU(config[\"d_model\"]),\n",
    "            nn.Linear(config[\"d_model\"], config[\"vocab_size\"]),\n",
    "        )\n",
    "\n",
    "        print(\n",
    "            f\"model params: {sum([m.numel() for m in self.parameters()])}\"\n",
    "        )\n",
    "\n",
    "    def forward(self, idx, targets=None):\n",
    "        x = self.embedding(idx)\n",
    "        x = self.llama_blocks(x)\n",
    "        logits = self.ffn(x)\n",
    "\n",
    "        if targets is None:\n",
    "            return logits\n",
    "\n",
    "        else:\n",
    "            loss = F.cross_entropy(\n",
    "                logits.view(-1, self.config[\"vocab_size\"]),\n",
    "                targets.view(-1),\n",
    "                ignore_index=tokenizer.pad_token_id,\n",
    "                # reduction=\"sum\",\n",
    "            )\n",
    "            return logits, loss"
   ]
  },
  {
   "cell_type": "code",
   "execution_count": 32,
   "metadata": {},
   "outputs": [
    {
     "name": "stdout",
     "output_type": "stream",
     "text": [
      "model params: 96444391\n",
      "Epoch 0 | train loss 11.728 | val loss 11.725 | Time 0.244 | ETA: 0:00:04.887486\n",
      "Epoch 50 | train loss 6.848 | val loss 6.659 | Time 3.357 | ETA: 0:01:03.783976\n",
      "Epoch 100 | train loss 5.969 | val loss 5.776 | Time 3.369 | ETA: 0:01:00.640025\n",
      "Epoch 150 | train loss 5.351 | val loss 5.842 | Time 3.347 | ETA: 0:00:56.907477\n",
      "Epoch 200 | train loss 5.066 | val loss 5.724 | Time 3.308 | ETA: 0:00:52.926136\n",
      "Epoch 250 | train loss 4.996 | val loss 5.338 | Time 3.333 | ETA: 0:00:50.001283\n",
      "Epoch 300 | train loss 5.972 | val loss 6.369 | Time 3.352 | ETA: 0:00:46.923183\n",
      "Epoch 350 | train loss 11.583 | val loss 11.590 | Time 3.375 | ETA: 0:00:43.878220\n",
      "Epoch 400 | train loss 259916.003 | val loss 291686.789 | Time 3.398 | ETA: 0:00:40.771173\n",
      "Epoch 450 | train loss 11.360 | val loss 11.366 | Time 3.391 | ETA: 0:00:37.302152\n",
      "Epoch 500 | train loss 11.254 | val loss 11.264 | Time 3.356 | ETA: 0:00:33.560960\n",
      "Epoch 550 | train loss 11.166 | val loss 11.164 | Time 3.378 | ETA: 0:00:30.400196\n",
      "Epoch 600 | train loss 11.090 | val loss 11.072 | Time 3.381 | ETA: 0:00:27.047180\n",
      "Epoch 650 | train loss 11.014 | val loss 10.994 | Time 3.368 | ETA: 0:00:23.575438\n",
      "Epoch 700 | train loss 10.911 | val loss 10.913 | Time 3.378 | ETA: 0:00:20.265264\n",
      "Epoch 750 | train loss 10.831 | val loss 10.823 | Time 3.315 | ETA: 0:00:16.574745\n",
      "Epoch 800 | train loss 10.733 | val loss 10.748 | Time 3.317 | ETA: 0:00:13.269234\n",
      "Epoch 850 | train loss 10.668 | val loss 10.681 | Time 3.318 | ETA: 0:00:09.954606\n",
      "Epoch 900 | train loss 10.590 | val loss 10.601 | Time 3.306 | ETA: 0:00:06.611345\n",
      "Epoch 950 | train loss 10.516 | val loss 10.530 | Time 3.464 | ETA: 0:00:03.464074\n",
      "training loss 10.516 | validation loss: 10.530\n"
     ]
    },
    {
     "data": {
      "text/plain": [
       "<Axes: xlabel='Step // 50', ylabel='Loss'>"
      ]
     },
     "execution_count": 32,
     "metadata": {},
     "output_type": "execute_result"
    },
    {
     "data": {
      "image/png": "[encoded data removed]",
      "text/plain": [
       "<Figure size 640x480 with 1 Axes>"
      ]
     },
     "metadata": {},
     "output_type": "display_data"
    }
   ],
   "source": [
    "llama = SimpleLlama(MASTER_CONFIG).to(device)\n",
    "optimizer = torch.optim.AdamW(llama.parameters())\n",
    "train(\n",
    "    llama, optimizer, data=train_data, config=MASTER_CONFIG, print_logs=True\n",
    ")"
   ]
  },
  {
   "cell_type": "markdown",
   "metadata": {},
   "source": [
    "This is why you need a scheduler lol"
   ]
  },
  {
   "cell_type": "code",
   "execution_count": 33,
   "metadata": {},
   "outputs": [
    {
     "data": {
      "text/plain": [
       "['<|begin_of_text|>Write a short story. Possible Story:  The happy happy her: the. her she on, Tim she Lily. that was day \" she, but to it story the on, Lily and, and a Tim happy,. but said said said a she for happy it on that \" and',\n",
       " '<|begin_of_text|>Write a short story. Possible Story:, for to was she the her happy a but., the it but in on was story she The \" it The was she: story day \" she story, the said Lily: The Story:. in in. but her day for was for',\n",
       " '<|begin_of_text|>Write a short story. Possible Story:  \" Story but a it: The Tim the: Lily said. Tim Lily it said, Lily the said in Story said day Story she to on and that said for. that and, on that to it Story. on was Tim she happy that Story',\n",
       " '<|begin_of_text|>Write a short story. Possible Story: : in Lily but a day that a,: and story, Story day day and for on in on. story day Tim Lily was she was the a that a to the and: she, her day happy happy to a day that: to for',\n",
       " '<|begin_of_text|>Write a short story. Possible Story:,. Story Lily to for the and and she happy it.. on to. Story a The it Tim a day a: to on her a said. that happy day to was to happy that: but on The Story Lily it \" her.']"
      ]
     },
     "execution_count": 33,
     "metadata": {},
     "output_type": "execute_result"
    }
   ],
   "source": [
    "generate(\n",
    "    llama,\n",
    "    config=MASTER_CONFIG,\n",
    "    temperature=1.0,\n",
    "    top_k=25,\n",
    "    max_new_tokens=50,\n",
    ")"
   ]
  },
  {
   "cell_type": "code",
   "execution_count": 34,
   "metadata": {},
   "outputs": [
    {
     "name": "stdout",
     "output_type": "stream",
     "text": [
      "SimpleFeedForwardNN 74086944 Params | Train: 4.189 | Val: 4.471\n",
      "SimpleFeedForwardNN_RMS 74169888 Params | Train: 4.260 | Val: 4.492\n",
      "SimpleFeedForwardNN_RMS_Rope 76160832 Params | Train: 4.122 | Val: 4.216\n",
      "SimpleFeedForwardNN_RMS_RoPE_SwiGLU 76327297 Params | Train: 4.174 | Val: 4.575\n",
      "SimpleLlama 96444391 Params | Train: 10.516 | Val: 10.530\n"
     ]
    }
   ],
   "source": [
    "for i in GLOBAL_KEEP_TRACK:\n",
    "    print(i)"
   ]
  },
  {
   "cell_type": "code",
   "execution_count": 35,
   "metadata": {},
   "outputs": [
    {
     "name": "stdout",
     "output_type": "stream",
     "text": [
      "model params: 335771145\n"
     ]
    }
   ],
   "source": [
    "#MASTER_CONFIG['epochs'] = 52171228 // MASTER_CONFIG['batch_size'] # If you want to do a full epoch\n",
    "MASTER_CONFIG['epochs'] = 1000\n",
    "MASTER_CONFIG[\"batch_size\"] = 16\n",
    "MASTER_CONFIG[\"d_model\"] = 768\n",
    "MASTER_CONFIG[\"n_layers\"] = 8\n",
    "MASTER_CONFIG[\"context_window\"] = 64\n",
    "\n",
    "llama = SimpleLlama(MASTER_CONFIG).to(device)\n",
    "\n",
    "llama_optimizer = torch.optim.AdamW(\n",
    "    llama.parameters(),\n",
    "    betas=(0.9, 0.95),\n",
    "    weight_decay=1e-1,\n",
    "    eps=1e-9,\n",
    "    lr=5e-4,\n",
    ")\n",
    "scheduler = torch.optim.lr_scheduler.CosineAnnealingLR(\n",
    "    llama_optimizer, 1000, eta_min=1e-5\n",
    ")"
   ]
  },
  {
   "cell_type": "code",
   "execution_count": 36,
   "metadata": {},
   "outputs": [
    {
     "name": "stdout",
     "output_type": "stream",
     "text": [
      "Epoch 0 | train loss 11.709 | val loss 11.684 | Time 0.313 | ETA: 0:00:06.267281\n",
      "lr:  [0.0004999987909744553]\n",
      "Epoch 50 | train loss 6.900 | val loss 7.298 | Time 16.386 | ETA: 0:05:11.327543\n",
      "lr:  [0.0004968620434287298]\n",
      "Epoch 100 | train loss 5.657 | val loss 5.853 | Time 16.346 | ETA: 0:04:54.230445\n",
      "lr:  [0.00048776984967968684]\n",
      "Epoch 150 | train loss 5.619 | val loss 5.597 | Time 16.363 | ETA: 0:04:38.168279\n",
      "lr:  [0.0004729460897126908]\n",
      "Epoch 200 | train loss 5.305 | val loss 5.427 | Time 16.374 | ETA: 0:04:21.982731\n",
      "lr:  [0.0004527557736953662]\n",
      "Epoch 250 | train loss 5.687 | val loss 6.308 | Time 16.404 | ETA: 0:04:06.059110\n",
      "lr:  [0.0004276960542158767]\n",
      "Epoch 300 | train loss 4.920 | val loss 5.247 | Time 16.341 | ETA: 0:03:48.774972\n",
      "lr:  [0.00039838398473624826]\n",
      "Epoch 350 | train loss 5.209 | val loss 5.015 | Time 16.249 | ETA: 0:03:31.236198\n",
      "lr:  [0.00036554132568825045]\n",
      "Epoch 400 | train loss 4.734 | val loss 5.247 | Time 16.323 | ETA: 0:03:15.880179\n",
      "lr:  [0.0003299767723361813]\n",
      "Epoch 450 | train loss 4.966 | val loss 4.789 | Time 16.362 | ETA: 0:02:59.978693\n",
      "lr:  [0.00029256604201555376]\n",
      "Epoch 500 | train loss 4.655 | val loss 4.762 | Time 16.328 | ETA: 0:02:43.283188\n",
      "lr:  [0.0002542303110659579]\n",
      "Epoch 550 | train loss 4.365 | val loss 4.677 | Time 16.345 | ETA: 0:02:27.107743\n",
      "lr:  [0.00021591353241236954]\n",
      "Epoch 600 | train loss 4.504 | val loss 4.441 | Time 16.308 | ETA: 0:02:10.467733\n",
      "lr:  [0.0001785591923113374]\n",
      "Epoch 650 | train loss 4.350 | val loss 4.626 | Time 16.326 | ETA: 0:01:54.280152\n",
      "lr:  [0.0001430870785880959]\n",
      "Epoch 700 | train loss 4.118 | val loss 4.616 | Time 16.317 | ETA: 0:01:37.901042\n",
      "lr:  [0.00011037063240770733]\n",
      "Epoch 750 | train loss 3.975 | val loss 4.569 | Time 16.330 | ETA: 0:01:21.652101\n",
      "lr:  [8.121544125479255e-05]\n",
      "Epoch 800 | train loss 3.899 | val loss 4.465 | Time 16.396 | ETA: 0:01:05.585905\n",
      "lr:  [5.6339402696068356e-05]\n",
      "Epoch 850 | train loss 3.856 | val loss 4.426 | Time 16.351 | ETA: 0:00:49.052626\n",
      "lr:  [3.6355047359689e-05]\n",
      "Epoch 900 | train loss 3.850 | val loss 4.500 | Time 16.375 | ETA: 0:00:32.749780\n",
      "lr:  [2.1754456398309237e-05]\n",
      "Epoch 950 | train loss 4.178 | val loss 4.442 | Time 16.271 | ETA: 0:00:16.271245\n",
      "lr:  [1.2897144817981292e-05]\n",
      "training loss 4.178 | validation loss: 4.442\n"
     ]
    },
    {
     "data": {
      "text/plain": [
       "<Axes: xlabel='Step // 50', ylabel='Loss'>"
      ]
     },
     "execution_count": 36,
     "metadata": {},
     "output_type": "execute_result"
    },
    {
     "data": {
      "image/png": "[encoded data removed]",
      "text/plain": [
       "<Figure size 640x480 with 1 Axes>"
      ]
     },
     "metadata": {},
     "output_type": "display_data"
    }
   ],
   "source": [
    "train(\n",
    "    llama,\n",
    "    llama_optimizer,\n",
    "    scheduler=scheduler,\n",
    "    data=train_data,\n",
    "    config=MASTER_CONFIG,\n",
    "    print_logs=True,\n",
    ")"
   ]
  },
  {
   "cell_type": "code",
   "execution_count": 37,
   "metadata": {},
   "outputs": [
    {
     "data": {
      "text/plain": [
       "['<|begin_of_text|>Write a short story. Possible Story:  mom said, \"I have to play with my friend, but we are not a great friend.\" She says, \"It is very happy. It is a big and a big box. He is a good day. It is a big smile and',\n",
       " '<|begin_of_text|>Write a short story. Possible Story:  mom asked him to the dog. The end and said, \"It is not happy!\" Lily asks. She had many fun of her mom, and the dog were happy. She was very happy to go to the water, and the bird was sad',\n",
       " '<|begin_of_text|>Write a short story. Possible Story:  mom asked the park and they were playing with the ball. It wanted to be careful with a big tree. It was a big box in the park and ran to her. They went to the park and put on it in the park. They had',\n",
       " '<|begin_of_text|>Write a short story. Possible Story:  mom says that she was very proud of the dog. She was very sad. She had a small box in the sky. She had to see what it was. She said, \"Thank you, mom.\" Tim and they could not a lot of',\n",
       " '<|begin_of_text|>Write a short story. Possible Story:  dad was very sad. It was a good dog, and a big smile. The cat felt very happy. She said, \"I\\'m sorry, mom. You are not nice!\" He was very proud of the park. He had many friends.']"
      ]
     },
     "execution_count": 37,
     "metadata": {},
     "output_type": "execute_result"
    }
   ],
   "source": [
    "generate(\n",
    "    llama,\n",
    "    config=MASTER_CONFIG,\n",
    "    temperature=1.0,\n",
    "    top_k=5,\n",
    "    max_new_tokens=50,\n",
    ")"
   ]
  },
  {
   "cell_type": "code",
   "execution_count": 38,
   "metadata": {},
   "outputs": [
    {
     "name": "stdout",
     "output_type": "stream",
     "text": [
      "SimpleFeedForwardNN 74086944 Params | Train: 4.189 | Val: 4.471\n",
      "SimpleFeedForwardNN_RMS 74169888 Params | Train: 4.260 | Val: 4.492\n",
      "SimpleFeedForwardNN_RMS_Rope 76160832 Params | Train: 4.122 | Val: 4.216\n",
      "SimpleFeedForwardNN_RMS_RoPE_SwiGLU 76327297 Params | Train: 4.174 | Val: 4.575\n",
      "SimpleLlama 96444391 Params | Train: 10.516 | Val: 10.530\n",
      "SimpleLlama 335771145 Params | Train: 4.178 | Val: 4.442\n"
     ]
    }
   ],
   "source": [
    "for i in GLOBAL_KEEP_TRACK:\n",
    "    print(i)"
   ]
  },
  {
   "cell_type": "markdown",
   "metadata": {},
   "source": [
    "# Quantization"
   ]
  },
  {
   "cell_type": "code",
   "execution_count": 39,
   "metadata": {},
   "outputs": [
    {
     "name": "stdout",
     "output_type": "stream",
     "text": [
      "SimpleLlama size: 1280.865MB\n",
      "SimpleLlama size: 18.000MB\n"
     ]
    }
   ],
   "source": [
    "llama.to(\"cpu\")\n",
    "qconfig_dict = {\n",
    "    torch.nn.Embedding: torch.quantization.float_qparams_weight_only_qconfig,\n",
    "    torch.nn.Linear: torch.quantization.default_dynamic_qconfig,\n",
    "}\n",
    "# Post Training Dynamic Quantization\n",
    "dynamic_quantized_llama = torch.quantization.quantize_dynamic(\n",
    "    llama, qconfig_dict, dtype=torch.qint8\n",
    ")\n",
    "\n",
    "\n",
    "# Get Size difference\n",
    "def get_param_size(model):\n",
    "    param_size = 0\n",
    "    for param in model.parameters():\n",
    "        param_size += param.nelement() * param.element_size()\n",
    "    return param_size\n",
    "\n",
    "\n",
    "def get_buffer_size(model):\n",
    "    buffer_size = 0\n",
    "    for buffer in model.buffers():\n",
    "        buffer_size += buffer.nelement() * buffer.element_size()\n",
    "    return buffer_size\n",
    "\n",
    "\n",
    "def get_param_and_buffer_size(model):\n",
    "    param_size = get_param_size(model)\n",
    "    buffer_size = get_buffer_size(model)\n",
    "    return param_size, buffer_size\n",
    "\n",
    "\n",
    "def get_size_difference(models: list) -> str:\n",
    "    keeping_track = []\n",
    "    for idx, model in enumerate(models):\n",
    "        param_size, buffer_size = get_param_and_buffer_size(model)\n",
    "        size_all_mb = (param_size + buffer_size) / 1024**2\n",
    "        keeping_track.append(\n",
    "            f\"{type(model).__name__} size: {size_all_mb:.3f}MB\"\n",
    "        )\n",
    "    return keeping_track\n",
    "\n",
    "\n",
    "list_of_sizes = get_size_difference([llama, dynamic_quantized_llama])\n",
    "for size in list_of_sizes:\n",
    "    print(size)"
   ]
  },
  {
   "cell_type": "markdown",
   "metadata": {},
   "source": [
    "# LoRA\n",
    "\n",
    "If you have this:\n",
    "\n",
    "<p>def forward(self, x):<br>\n",
    "    x = self.linear_1(x)<br>\n",
    "    x = F.relu(x)<br>\n",
    "    x = self.linear_2(x)<br>\n",
    "    return x<br></p>\n",
    "\n",
    "change it to this:\n",
    "\n",
    "<p>def forward(self, x):<br>\n",
    "    x = self.linear_1(x) + self.lora_1(x)<br>\n",
    "    x = F.relu(x)<br>\n",
    "    x = self.linear_2(x) + self.lora_2(x)<br>\n",
    "    return logits<br></p>"
   ]
  },
  {
   "cell_type": "code",
   "execution_count": 40,
   "metadata": {},
   "outputs": [],
   "source": [
    "class LoRALayer(nn.Module):\n",
    "    def __init__(self, in_dim, out_dim, rank, alpha):\n",
    "        super().__init__()\n",
    "        standard_deviation = 1 / torch.sqrt(torch.tensor(rank).float())\n",
    "        self.A = nn.Parameter(\n",
    "            torch.randn(in_dim, rank) * standard_deviation\n",
    "        )\n",
    "        self.B = nn.Parameter(torch.zeros(rank, out_dim))\n",
    "        self.alpha = alpha\n",
    "\n",
    "    def forward(self, x):\n",
    "        x = self.alpha * (x @ self.A @ self.B)\n",
    "        return x\n",
    "\n",
    "\n",
    "class LinearWithLoRA(nn.Module):\n",
    "    def __init__(self, linear, rank, alpha):\n",
    "        super().__init__()\n",
    "        self.linear = linear\n",
    "        self.lora = LoRALayer(\n",
    "            linear.in_features, linear.out_features, rank, alpha\n",
    "        )\n",
    "\n",
    "    def forward(self, x):\n",
    "        return self.linear(x) + self.lora(x)"
   ]
  },
  {
   "cell_type": "code",
   "execution_count": 41,
   "metadata": {},
   "outputs": [],
   "source": [
    "from functools import partial\n",
    "\n",
    "\n",
    "# Utils\n",
    "class LoRAParametrization(nn.Module):\n",
    "    def __init__(\n",
    "        self,\n",
    "        fan_in,\n",
    "        fan_out,\n",
    "        fan_in_fan_out=False,\n",
    "        rank=0,\n",
    "        lora_dropout_p=0.0,\n",
    "        lora_alpha=1,\n",
    "    ):\n",
    "        super().__init__()\n",
    "        self.swap = (\n",
    "            (lambda x: (x[1], x[0])) if fan_in_fan_out else (lambda x: x)\n",
    "        )\n",
    "        self.lora_A = nn.Parameter(torch.zeros(self.swap((rank, fan_in))))\n",
    "        self.lora_B = nn.Parameter(torch.zeros(self.swap((fan_out, rank))))\n",
    "        self.lora_alpha, self.rank = lora_alpha, rank\n",
    "        self.scaling = lora_alpha / rank\n",
    "        self.lora_dropout = (\n",
    "            nn.Dropout(p=lora_dropout_p)\n",
    "            if lora_dropout_p > 0\n",
    "            else lambda x: x\n",
    "        )\n",
    "        self.dropout_fn = (\n",
    "            self._dropout if lora_dropout_p > 0 else lambda x: x\n",
    "        )\n",
    "        self.register_buffer(\n",
    "            \"lora_dropout_mask\",\n",
    "            torch.ones(self.swap((1, fan_in)), dtype=self.lora_A.dtype),\n",
    "        )\n",
    "        self.forward_fn = self.lora_forward\n",
    "\n",
    "    def forward(self, X):\n",
    "        return self.forward_fn(X)\n",
    "\n",
    "    def lora_forward(self, X):\n",
    "        return (\n",
    "            X\n",
    "            + torch.matmul(\n",
    "                *self.swap((self.lora_B, self.dropout_fn(self.lora_A)))\n",
    "            ).view(X.shape)\n",
    "            * self.scaling\n",
    "        )\n",
    "\n",
    "    @classmethod\n",
    "    def lora_from_layer(\n",
    "        cls, layer, rank=0, lora_dropout_p=0.0, lora_alpha=1\n",
    "    ):\n",
    "        fan_out, fan_in = layer.weight.shape\n",
    "        return cls(\n",
    "            fan_in,\n",
    "            fan_out,\n",
    "            fan_in_fan_out=False,\n",
    "            rank=rank,\n",
    "            lora_dropout_p=lora_dropout_p,\n",
    "            lora_alpha=lora_alpha,\n",
    "        )\n",
    "\n",
    "\n",
    "lora_config = {\n",
    "    nn.Linear: {\n",
    "        \"weight\": partial(LoRAParametrization.lora_from_layer, rank=16),\n",
    "    },\n",
    "}\n",
    "\n",
    "\n",
    "def apply_lora(layer, register=True, merge=False, lora_config=lora_config):\n",
    "    if register:\n",
    "        if type(layer) in lora_config:\n",
    "            for attr_name, parametrization in lora_config[\n",
    "                type(layer)\n",
    "            ].items():\n",
    "                torch.nn.utils.parametrize.register_parametrization(\n",
    "                    layer, attr_name, parametrization(layer)\n",
    "                )\n",
    "    else:\n",
    "        if hasattr(layer, \"parametrizations\"):\n",
    "            for attr_name in layer.parametrizations.keys():\n",
    "                torch.nn.utils.parametrize.remove_parametrizations(\n",
    "                    layer, attr_name, leave_parametrized=merge\n",
    "                )\n",
    "\n",
    "\n",
    "def add_lora(model, lora_config=lora_config):\n",
    "    model.apply(partial(apply_lora, lora_config=lora_config))\n",
    "\n",
    "\n",
    "def remove_lora(model):\n",
    "    \"\"\"remove lora parametrization to all layers in a model. This will remove all parametrization\"\"\"\n",
    "    model.apply(partial(apply_lora, register=False, merge=False))\n",
    "\n",
    "\n",
    "def merge_lora(model):\n",
    "    model.apply(partial(apply_lora, register=False, merge=True))\n",
    "\n",
    "\n",
    "def name_is_lora(name):\n",
    "    return (\n",
    "        len(name.split(\".\")) >= 4\n",
    "        and (name.split(\".\")[-4]) == \"parametrizations\"\n",
    "        and name.split(\".\")[-1] in [\"lora_A\", \"lora_B\"]\n",
    "    )\n",
    "\n",
    "\n",
    "def get_params_by_name(model, print_shapes=False, name_filter=None):\n",
    "    for n, p in model.named_parameters():\n",
    "        if name_filter is None or name_filter(n):\n",
    "            if print_shapes:\n",
    "                print(n, p.shape)\n",
    "            yield p\n",
    "\n",
    "\n",
    "def get_lora_params(model, print_shapes=False):\n",
    "    return get_params_by_name(\n",
    "        model, print_shapes=print_shapes, name_filter=name_is_lora\n",
    "    )"
   ]
  },
  {
   "cell_type": "code",
   "execution_count": 42,
   "metadata": {},
   "outputs": [],
   "source": [
    "# New Dataset for Lora\n",
    "dataset = load_dataset(\n",
    "    \"text\",\n",
    "    data_files={\n",
    "        \"train\": [\"../../data/Lima-train.csv\"],\n",
    "        \"val\": [\"../../data/Lima-test.csv\"],\n",
    "    },\n",
    "    streaming=True,\n",
    ")\n",
    "\n",
    "encoded_dataset = dataset.map(\n",
    "    lambda examples: tokenizer(\n",
    "        examples[\"text\"],\n",
    "        padding=True,\n",
    "        max_length=MASTER_CONFIG[\"context_window\"],\n",
    "        truncation=True,\n",
    "        return_tensors=\"pt\",\n",
    "    ),\n",
    "    batched=True,\n",
    ")\n",
    "train_data = iter(encoded_dataset[\"train\"].shuffle())\n",
    "val_data = iter(encoded_dataset[\"val\"].shuffle())\n",
    "train_data = cycle(train_data)\n",
    "val_data = cycle(val_data)"
   ]
  },
  {
   "cell_type": "code",
   "execution_count": 43,
   "metadata": {},
   "outputs": [],
   "source": [
    "# Step 1: Add LoRA to trained model\n",
    "llama.to(\"cpu\")\n",
    "add_lora(llama)\n",
    "llama.to(device)\n",
    "\n",
    "# Step 2: Get the LoRA params instead of the whole model's\n",
    "parameters = [{\"params\": list(get_lora_params(llama))}]\n",
    "# Step 3: initialize optimizer with LoRA Params\n",
    "lora_optimizer = torch.optim.AdamW(parameters, lr=1e-3)"
   ]
  },
  {
   "cell_type": "code",
   "execution_count": 44,
   "metadata": {},
   "outputs": [
    {
     "name": "stdout",
     "output_type": "stream",
     "text": [
      "Epoch 0 | train loss 11.704 | val loss 11.659 | Time 1.780 | ETA: 0:00:35.596399\n",
      "lr:  [1.0001209025544738e-05]\n",
      "Epoch 50 | train loss 11.306 | val loss 11.686 | Time 9.569 | ETA: 0:03:01.818796\n",
      "lr:  [1.3137956571267626e-05]\n",
      "Epoch 100 | train loss 11.123 | val loss 11.442 | Time 10.605 | ETA: 0:03:10.883361\n",
      "lr:  [2.223015032030447e-05]\n",
      "Epoch 150 | train loss 11.443 | val loss 11.938 | Time 10.544 | ETA: 0:02:59.244051\n",
      "lr:  [3.705391028729307e-05]\n",
      "Epoch 200 | train loss 10.970 | val loss 11.927 | Time 10.717 | ETA: 0:02:51.469467\n",
      "lr:  [5.7244226304607204e-05]\n",
      "Epoch 250 | train loss 11.119 | val loss 11.666 | Time 11.050 | ETA: 0:02:45.753322\n",
      "lr:  [8.230394578408373e-05]\n",
      "Epoch 300 | train loss 11.025 | val loss 11.472 | Time 11.066 | ETA: 0:02:34.919000\n",
      "lr:  [0.00011161601526369715]\n",
      "Epoch 350 | train loss 11.704 | val loss 12.027 | Time 11.155 | ETA: 0:02:25.020321\n",
      "lr:  [0.00014445867431167806]\n",
      "Epoch 400 | train loss 11.016 | val loss 11.805 | Time 11.017 | ETA: 0:02:12.204120\n",
      "lr:  [0.00018002322766372895]\n",
      "Epoch 450 | train loss 11.709 | val loss 11.609 | Time 11.086 | ETA: 0:02:01.944707\n",
      "lr:  [0.00021743395798433685]\n",
      "Epoch 500 | train loss 11.375 | val loss 11.448 | Time 9.945 | ETA: 0:01:39.454873\n",
      "lr:  [0.00025576968893391316]\n",
      "Epoch 550 | train loss 11.057 | val loss 12.132 | Time 10.035 | ETA: 0:01:30.317342\n",
      "lr:  [0.0002940864675874819]\n",
      "Epoch 600 | train loss 11.262 | val loss 11.729 | Time 10.031 | ETA: 0:01:20.251831\n",
      "lr:  [0.0003314408076884945]\n",
      "Epoch 650 | train loss 11.104 | val loss 11.548 | Time 9.978 | ETA: 0:01:09.843274\n",
      "lr:  [0.000366912921411718]\n",
      "Epoch 700 | train loss 11.058 | val loss 11.808 | Time 9.964 | ETA: 0:00:59.783522\n",
      "lr:  [0.0003996293675920899]\n",
      "Epoch 750 | train loss 10.990 | val loss 11.913 | Time 10.003 | ETA: 0:00:50.014831\n",
      "lr:  [0.0004287845587449898]\n",
      "Epoch 800 | train loss 11.641 | val loss 11.615 | Time 10.444 | ETA: 0:00:41.777612\n",
      "lr:  [0.0004536605973037015]\n",
      "Epoch 850 | train loss 11.092 | val loss 11.565 | Time 11.003 | ETA: 0:00:33.009245\n",
      "lr:  [0.0004736449526400705]\n",
      "Epoch 900 | train loss 11.679 | val loss 11.915 | Time 11.025 | ETA: 0:00:22.050917\n",
      "lr:  [0.0004882455436014427]\n",
      "Epoch 950 | train loss 11.439 | val loss 11.984 | Time 10.882 | ETA: 0:00:10.882483\n",
      "lr:  [0.0004971028551817645]\n",
      "training loss 11.439 | validation loss: 11.984\n"
     ]
    },
    {
     "data": {
      "image/png": "[encoded data removed]",
      "text/plain": [
       "<Figure size 640x480 with 1 Axes>"
      ]
     },
     "metadata": {},
     "output_type": "display_data"
    }
   ],
   "source": [
    "# Step 4: Train\n",
    "train(\n",
    "    llama,\n",
    "    lora_optimizer,\n",
    "    scheduler,\n",
    "    data=train_data,\n",
    "    config=MASTER_CONFIG,\n",
    "    lora=True,\n",
    "    print_logs=True,\n",
    ")\n",
    "\n",
    "# Step 5: export the params\n",
    "state_dict = llama.state_dict()\n",
    "lora_state_dict = {k: v for k, v in state_dict.items() if name_is_lora(k)}"
   ]
  },
  {
   "cell_type": "code",
   "execution_count": 45,
   "metadata": {},
   "outputs": [],
   "source": [
    "torch.save(llama.state_dict(), \"./llama3/llama.pth\")\n",
    "torch.save(lora_state_dict, \"./llama3/lora.pth\")"
   ]
  },
  {
   "cell_type": "code",
   "execution_count": 46,
   "metadata": {},
   "outputs": [
    {
     "data": {
      "text/plain": [
       "['\" and sees behaved each other and fly. They look mixed and had a daughter. They learned a nice box and the bottleaser. They were yii.',\n",
       " '\" his realized then he get pieces. Hisaffe is good box than him, and eat and sleep. Tom was careful and laugh, but they party,',\n",
       " '\". She wants to the ground, and water. She showed the shop truck, and everyone, a lion money off and sniff with it to cry again',\n",
       " '\",\" Mom said.  gun likes said with her worms. From goodbye, they were Max and angry. They found a big hoped, in herin',\n",
       " '\" hide. She was happy and kite and a ball. I will feel good drive to do\\'s not find his hand away. Tom and the table.']"
      ]
     },
     "execution_count": 46,
     "metadata": {},
     "output_type": "execute_result"
    }
   ],
   "source": [
    "# Loading and Inferencing with LoRA\n",
    "add_lora(llama)\n",
    "\n",
    "_ = llama.load_state_dict(lora_state_dict, strict=False)\n",
    "\n",
    "merge_lora(llama)\n",
    "\n",
    "generate(llama, lora=True)\n",
    "\n",
    "# remove_lora(llama)"
   ]
  },
  {
   "cell_type": "code",
   "execution_count": 47,
   "metadata": {},
   "outputs": [
    {
     "name": "stdout",
     "output_type": "stream",
     "text": [
      "World size: -1\n"
     ]
    },
    {
     "ename": "ProcessRaisedException",
     "evalue": "\n\n-- Process 0 terminated with the following error:\nTraceback (most recent call last):\n  File \"c:\\Users\\chrisb\\.conda\\envs\\chapter_9\\lib\\site-packages\\torch\\multiprocessing\\spawn.py\", line 75, in _wrap\n    fn(i, *args)\n  File \"c:\\Users\\chrisb\\Documents\\GitHub\\LLMs-in-Production\\chapters\\chapter_9\\train_utils.py\", line 689, in fsdp_main\n    dist.init_process_group(\"nccl\", rank=rank, world_size=world_size)\n  File \"c:\\Users\\chrisb\\.conda\\envs\\chapter_9\\lib\\site-packages\\torch\\distributed\\c10d_logger.py\", line 75, in wrapper\n    return func(*args, **kwargs)\n  File \"c:\\Users\\chrisb\\.conda\\envs\\chapter_9\\lib\\site-packages\\torch\\distributed\\c10d_logger.py\", line 89, in wrapper\n    func_return = func(*args, **kwargs)\n  File \"c:\\Users\\chrisb\\.conda\\envs\\chapter_9\\lib\\site-packages\\torch\\distributed\\distributed_c10d.py\", line 1312, in init_process_group\n    default_pg, _ = _new_process_group_helper(\n  File \"c:\\Users\\chrisb\\.conda\\envs\\chapter_9\\lib\\site-packages\\torch\\distributed\\distributed_c10d.py\", line 1513, in _new_process_group_helper\n    raise RuntimeError(\"Distributed package doesn't have NCCL built in\")\nRuntimeError: Distributed package doesn't have NCCL built in\n",
     "output_type": "error",
     "traceback": [
      "\u001b[1;31m---------------------------------------------------------------------------\u001b[0m",
      "\u001b[1;31mProcessRaisedException\u001b[0m                    Traceback (most recent call last)",
      "Cell \u001b[1;32mIn[47], line 14\u001b[0m\n\u001b[0;32m      1\u001b[0m \u001b[38;5;28;01mfrom\u001b[39;00m \u001b[38;5;21;01mtrain_utils\u001b[39;00m \u001b[38;5;28;01mimport\u001b[39;00m FSDP_QLORA\n\u001b[0;32m      3\u001b[0m trainer \u001b[38;5;241m=\u001b[39m FSDP_QLORA(\n\u001b[0;32m      4\u001b[0m     model_name\u001b[38;5;241m=\u001b[39m\u001b[38;5;124m\"\u001b[39m\u001b[38;5;124mmeta-llama/Llama-2-13b-hf\u001b[39m\u001b[38;5;124m\"\u001b[39m,\n\u001b[0;32m      5\u001b[0m     batch_size\u001b[38;5;241m=\u001b[39m\u001b[38;5;241m2\u001b[39m,\n\u001b[1;32m   (...)\u001b[0m\n\u001b[0;32m     11\u001b[0m     reentrant_checkpointing\u001b[38;5;241m=\u001b[39m\u001b[38;5;28;01mTrue\u001b[39;00m,\n\u001b[0;32m     12\u001b[0m )\n\u001b[1;32m---> 14\u001b[0m \u001b[43mtrainer\u001b[49m\u001b[38;5;241;43m.\u001b[39;49m\u001b[43mtrain_qlora\u001b[49m\u001b[43m(\u001b[49m\u001b[43m)\u001b[49m\n",
      "File \u001b[1;32mc:\\Users\\chrisb\\Documents\\GitHub\\LLMs-in-Production\\chapters\\chapter_9\\train_utils.py:1449\u001b[0m, in \u001b[0;36mFSDP_QLORA.train_qlora\u001b[1;34m(self)\u001b[0m\n\u001b[0;32m   1448\u001b[0m \u001b[38;5;28;01mdef\u001b[39;00m \u001b[38;5;21mtrain_qlora\u001b[39m(\u001b[38;5;28mself\u001b[39m):\n\u001b[1;32m-> 1449\u001b[0m     \u001b[43mmp\u001b[49m\u001b[38;5;241;43m.\u001b[39;49m\u001b[43mspawn\u001b[49m\u001b[43m(\u001b[49m\n\u001b[0;32m   1450\u001b[0m \u001b[43m        \u001b[49m\u001b[43mfsdp_main\u001b[49m\u001b[43m,\u001b[49m\n\u001b[0;32m   1451\u001b[0m \u001b[43m        \u001b[49m\u001b[43margs\u001b[49m\u001b[38;5;241;43m=\u001b[39;49m\u001b[43m(\u001b[49m\u001b[38;5;28;43mself\u001b[39;49m\u001b[38;5;241;43m.\u001b[39;49m\u001b[43mworld_size\u001b[49m\u001b[43m,\u001b[49m\u001b[43m \u001b[49m\u001b[38;5;28;43mself\u001b[39;49m\u001b[38;5;241;43m.\u001b[39;49m\u001b[43margs\u001b[49m\u001b[43m)\u001b[49m\u001b[43m,\u001b[49m\n\u001b[0;32m   1452\u001b[0m \u001b[43m        \u001b[49m\u001b[43mnprocs\u001b[49m\u001b[38;5;241;43m=\u001b[39;49m\u001b[43mtorch\u001b[49m\u001b[38;5;241;43m.\u001b[39;49m\u001b[43mcuda\u001b[49m\u001b[38;5;241;43m.\u001b[39;49m\u001b[43mdevice_count\u001b[49m\u001b[43m(\u001b[49m\u001b[43m)\u001b[49m\u001b[43m,\u001b[49m\n\u001b[0;32m   1453\u001b[0m \u001b[43m        \u001b[49m\u001b[43mjoin\u001b[49m\u001b[38;5;241;43m=\u001b[39;49m\u001b[38;5;28;43;01mTrue\u001b[39;49;00m\u001b[43m,\u001b[49m\n\u001b[0;32m   1454\u001b[0m \u001b[43m    \u001b[49m\u001b[43m)\u001b[49m\n",
      "File \u001b[1;32mc:\\Users\\chrisb\\.conda\\envs\\chapter_9\\lib\\site-packages\\torch\\multiprocessing\\spawn.py:281\u001b[0m, in \u001b[0;36mspawn\u001b[1;34m(fn, args, nprocs, join, daemon, start_method)\u001b[0m\n\u001b[0;32m    275\u001b[0m     msg \u001b[38;5;241m=\u001b[39m (\n\u001b[0;32m    276\u001b[0m         \u001b[38;5;124m\"\u001b[39m\u001b[38;5;124mThis method only supports start_method=spawn (got: \u001b[39m\u001b[38;5;132;01m%s\u001b[39;00m\u001b[38;5;124m).\u001b[39m\u001b[38;5;130;01m\\n\u001b[39;00m\u001b[38;5;124m\"\u001b[39m\n\u001b[0;32m    277\u001b[0m         \u001b[38;5;124m\"\u001b[39m\u001b[38;5;124mTo use a different start_method use:\u001b[39m\u001b[38;5;130;01m\\n\u001b[39;00m\u001b[38;5;130;01m\\t\u001b[39;00m\u001b[38;5;130;01m\\t\u001b[39;00m\u001b[38;5;124m\"\u001b[39m\n\u001b[0;32m    278\u001b[0m         \u001b[38;5;124m\"\u001b[39m\u001b[38;5;124m torch.multiprocessing.start_processes(...)\u001b[39m\u001b[38;5;124m\"\u001b[39m \u001b[38;5;241m%\u001b[39m start_method\n\u001b[0;32m    279\u001b[0m     )\n\u001b[0;32m    280\u001b[0m     warnings\u001b[38;5;241m.\u001b[39mwarn(msg)\n\u001b[1;32m--> 281\u001b[0m \u001b[38;5;28;01mreturn\u001b[39;00m \u001b[43mstart_processes\u001b[49m\u001b[43m(\u001b[49m\u001b[43mfn\u001b[49m\u001b[43m,\u001b[49m\u001b[43m \u001b[49m\u001b[43margs\u001b[49m\u001b[43m,\u001b[49m\u001b[43m \u001b[49m\u001b[43mnprocs\u001b[49m\u001b[43m,\u001b[49m\u001b[43m \u001b[49m\u001b[43mjoin\u001b[49m\u001b[43m,\u001b[49m\u001b[43m \u001b[49m\u001b[43mdaemon\u001b[49m\u001b[43m,\u001b[49m\u001b[43m \u001b[49m\u001b[43mstart_method\u001b[49m\u001b[38;5;241;43m=\u001b[39;49m\u001b[38;5;124;43m\"\u001b[39;49m\u001b[38;5;124;43mspawn\u001b[39;49m\u001b[38;5;124;43m\"\u001b[39;49m\u001b[43m)\u001b[49m\n",
      "File \u001b[1;32mc:\\Users\\chrisb\\.conda\\envs\\chapter_9\\lib\\site-packages\\torch\\multiprocessing\\spawn.py:237\u001b[0m, in \u001b[0;36mstart_processes\u001b[1;34m(fn, args, nprocs, join, daemon, start_method)\u001b[0m\n\u001b[0;32m    234\u001b[0m     \u001b[38;5;28;01mreturn\u001b[39;00m context\n\u001b[0;32m    236\u001b[0m \u001b[38;5;66;03m# Loop on join until it returns True or raises an exception.\u001b[39;00m\n\u001b[1;32m--> 237\u001b[0m \u001b[38;5;28;01mwhile\u001b[39;00m \u001b[38;5;129;01mnot\u001b[39;00m \u001b[43mcontext\u001b[49m\u001b[38;5;241;43m.\u001b[39;49m\u001b[43mjoin\u001b[49m\u001b[43m(\u001b[49m\u001b[43m)\u001b[49m:\n\u001b[0;32m    238\u001b[0m     \u001b[38;5;28;01mpass\u001b[39;00m\n",
      "File \u001b[1;32mc:\\Users\\chrisb\\.conda\\envs\\chapter_9\\lib\\site-packages\\torch\\multiprocessing\\spawn.py:188\u001b[0m, in \u001b[0;36mProcessContext.join\u001b[1;34m(self, timeout)\u001b[0m\n\u001b[0;32m    186\u001b[0m msg \u001b[38;5;241m=\u001b[39m \u001b[38;5;124m\"\u001b[39m\u001b[38;5;130;01m\\n\u001b[39;00m\u001b[38;5;130;01m\\n\u001b[39;00m\u001b[38;5;124m-- Process \u001b[39m\u001b[38;5;132;01m%d\u001b[39;00m\u001b[38;5;124m terminated with the following error:\u001b[39m\u001b[38;5;130;01m\\n\u001b[39;00m\u001b[38;5;124m\"\u001b[39m \u001b[38;5;241m%\u001b[39m error_index\n\u001b[0;32m    187\u001b[0m msg \u001b[38;5;241m+\u001b[39m\u001b[38;5;241m=\u001b[39m original_trace\n\u001b[1;32m--> 188\u001b[0m \u001b[38;5;28;01mraise\u001b[39;00m ProcessRaisedException(msg, error_index, failed_process\u001b[38;5;241m.\u001b[39mpid)\n",
      "\u001b[1;31mProcessRaisedException\u001b[0m: \n\n-- Process 0 terminated with the following error:\nTraceback (most recent call last):\n  File \"c:\\Users\\chrisb\\.conda\\envs\\chapter_9\\lib\\site-packages\\torch\\multiprocessing\\spawn.py\", line 75, in _wrap\n    fn(i, *args)\n  File \"c:\\Users\\chrisb\\Documents\\GitHub\\LLMs-in-Production\\chapters\\chapter_9\\train_utils.py\", line 689, in fsdp_main\n    dist.init_process_group(\"nccl\", rank=rank, world_size=world_size)\n  File \"c:\\Users\\chrisb\\.conda\\envs\\chapter_9\\lib\\site-packages\\torch\\distributed\\c10d_logger.py\", line 75, in wrapper\n    return func(*args, **kwargs)\n  File \"c:\\Users\\chrisb\\.conda\\envs\\chapter_9\\lib\\site-packages\\torch\\distributed\\c10d_logger.py\", line 89, in wrapper\n    func_return = func(*args, **kwargs)\n  File \"c:\\Users\\chrisb\\.conda\\envs\\chapter_9\\lib\\site-packages\\torch\\distributed\\distributed_c10d.py\", line 1312, in init_process_group\n    default_pg, _ = _new_process_group_helper(\n  File \"c:\\Users\\chrisb\\.conda\\envs\\chapter_9\\lib\\site-packages\\torch\\distributed\\distributed_c10d.py\", line 1513, in _new_process_group_helper\n    raise RuntimeError(\"Distributed package doesn't have NCCL built in\")\nRuntimeError: Distributed package doesn't have NCCL built in\n"
     ]
    }
   ],
   "source": [
    "from train_utils import FSDP_QLORA\n",
    "\n",
    "#NOTE FSDP will not work on Windows or Mac for the foreseeable future, NCCL is currently Linux-only (or WSL)\n",
    "trainer = FSDP_QLORA(\n",
    "    model_name=\"meta-llama/Llama-2-13b-hf\",\n",
    "    batch_size=2,\n",
    "    context_length=2048,\n",
    "    precision=\"bf16\",\n",
    "    train_type=\"qlora\",\n",
    "    use_gradient_checkpointing=True,\n",
    "    dataset=\"alpaca\",\n",
    "    reentrant_checkpointing=True,\n",
    ")\n",
    "\n",
    "trainer.train_qlora()"
   ]
  },
  {
   "cell_type": "code",
   "execution_count": null,
   "metadata": {},
   "outputs": [],
   "source": [
    "from safetensors import safe_open\n",
    "import torch\n",
    "from transformers import LlamaForCausalLM, BitsAndBytesConfig\n",
    "from peft import get_peft_config, get_peft_model, LoraConfig, TaskType\n",
    "\n",
    "tensors = {}\n",
    "with safe_open(\n",
    "    \"qlora_output/model_state_dict.safetensors\", framework=\"pt\", device=0\n",
    ") as f:\n",
    "    for k in f.keys():\n",
    "        tensors[k] = f.get_tensor(k)\n",
    "\n",
    "for k in tensors:\n",
    "    if \"lora\" not in k:\n",
    "        tensors[k] = None\n",
    "\n",
    "bnb_config = BitsAndBytesConfig(\n",
    "    load_in_4bit=True,\n",
    "    bnb_4bit_quant_type=\"nf4\",\n",
    "    bnb_4bit_use_double_quant=False,\n",
    "    bnb_4bit_compute_dtype=torch.bfloat16,\n",
    ")\n",
    "model = LlamaForCausalLM.from_pretrained(\n",
    "    \"meta-llama/Llama-2-7b-hf\",\n",
    "    use_cache=False,\n",
    "    quantization_config=bnb_config,\n",
    ")\n",
    "\n",
    "for param in model.parameters():\n",
    "    param.requires_grad = False\n",
    "\n",
    "peft_config = LoraConfig(\n",
    "    task_type=TaskType.CAUSAL_LM,\n",
    "    inference_mode=False,\n",
    "    r=64,\n",
    "    lora_alpha=16,\n",
    "    lora_dropout=0.1,\n",
    "    target_modules=[\n",
    "        \"k_proj\",\n",
    "        \"q_proj\",\n",
    "        \"v_proj\",\n",
    "        \"up_proj\",\n",
    "        \"down_proj\",\n",
    "        \"gate_proj\",\n",
    "    ],\n",
    ")\n",
    "model = get_peft_model(model, peft_config)\n",
    "\n",
    "list(model.state_dict().keys())[:10]\n",
    "\n",
    "new_sd = model.state_dict()\n",
    "for k in new_sd:\n",
    "    if \"lora\" in k:\n",
    "        new_sd[k] = tensors[k]\n",
    "\n",
    "model.load_state_dict(new_sd)\n",
    "\n",
    "model.save_pretrained(\"./llama3/lora_adapters\")"
   ]
  },
  {
   "cell_type": "code",
   "execution_count": null,
   "metadata": {},
   "outputs": [],
   "source": [
    "# Create a Gradio app that looks like this:\n",
    "\n",
    "# # Space will need your token to request hardware: set it as a Secret !\n",
    "# HF_TOKEN = os.environ.get(\"HF_TOKEN\")\n",
    "\n",
    "# # Space own repo_id\n",
    "# TRAINING_SPACE_ID = \"your_username/your_repo\"\n",
    "\n",
    "# from huggingface_hub import HfApi, SpaceHardware\n",
    "# api = HfApi(token=HF_TOKEN)\n",
    "\n",
    "# # On Space startup, check if a task is scheduled. If yes, finetune the model. If not,\n",
    "# # display an interface to request a new task.\n",
    "# task = get_task()\n",
    "# if task is None:\n",
    "#     # Start Gradio app\n",
    "#     def gradio_fn(task):\n",
    "#         # On user request, add task and request hardware\n",
    "#         add_task(task)\n",
    "#         api.request_space_hardware(repo_id=TRAINING_SPACE_ID, hardware=SpaceHardware.CPU_BASIC)\n",
    "\n",
    "#     gr.Interface(fn=gradio_fn, ...).launch()\n",
    "# else:\n",
    "#     runtime = api.get_space_runtime(repo_id=TRAINING_SPACE_ID)\n",
    "#     # Check if Space is loaded with a GPU.\n",
    "#     if runtime.hardware == SpaceHardware.CPU_BASIC:\n",
    "#         # If yes, finetune base model on dataset !\n",
    "#         chat_with_user(task)\n",
    "\n",
    "#         # Then, mark the task as \"DONE\"\n",
    "#         mark_as_done(task)\n",
    "\n",
    "#         # DO NOT FORGET: set back CPU hardware\n",
    "#         api.request_space_hardware(repo_id=TRAINING_SPACE_ID, hardware=SpaceHardware.CPU_BASIC)\n",
    "#     else:\n",
    "#         api.request_space_hardware(repo_id=TRAINING_SPACE_ID, hardware=SpaceHardware.CPU_BASIC)"
   ]
  },
  {
   "cell_type": "code",
   "execution_count": null,
   "metadata": {},
   "outputs": [],
   "source": [
    "%pip install huggingface_hub -q\n",
    "\n",
    "from huggingface_hub import notebook_login, HfApi\n",
    "\n",
    "notebook_login()"
   ]
  },
  {
   "cell_type": "code",
   "execution_count": null,
   "metadata": {},
   "outputs": [],
   "source": [
    "api = HfApi()\n",
    "api.create_repo(\n",
    "    repo_id=\"your_username/your_repo\", repo_type=\"space\", space_sdk=\"gradio\"\n",
    ")"
   ]
  },
  {
   "cell_type": "code",
   "execution_count": null,
   "metadata": {},
   "outputs": [],
   "source": [
    "stuff_to_save = [\n",
    "    \"llama.pth\",\n",
    "    \"lora.pth\",\n",
    "    \"special_tokens_map.json\",\n",
    "    \"tokenizer_config.json\",\n",
    "    \"tokenizer.json\",\n",
    "    \"tokenizer.model\",\n",
    "    \"gradio_app.py\",\n",
    "]\n",
    "for thing in stuff_to_save:\n",
    "    api.upload_file(\n",
    "        path_or_fileobj=f\"./llama3/{thing}\",\n",
    "        path_in_repo=thing,\n",
    "        repo_id=\"your_username/your_repo\",\n",
    "        repo_type=\"space\",\n",
    "    )"
   ]
  }
 ],
 "metadata": {
  "kernelspec": {
   "display_name": "llmbook",
   "language": "python",
   "name": "python3"
  },
  "language_info": {
   "codemirror_mode": {
    "name": "ipython",
    "version": 3
   },
   "file_extension": ".py",
   "mimetype": "text/x-python",
   "name": "python",
   "nbconvert_exporter": "python",
   "pygments_lexer": "ipython3",
   "version": "3.10.14"
  }
 },
 "nbformat": 4,
 "nbformat_minor": 2
}
