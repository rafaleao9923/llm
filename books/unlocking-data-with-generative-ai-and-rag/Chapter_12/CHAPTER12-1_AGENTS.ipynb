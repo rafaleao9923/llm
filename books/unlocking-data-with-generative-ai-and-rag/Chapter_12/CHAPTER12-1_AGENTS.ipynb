{
 "cells": [
  {
   "cell_type": "code",
   "execution_count": null,
   "id": "2d124d22-de73-436b-86cd-9b162b469be8",
   "metadata": {
    "id": "2d124d22-de73-436b-86cd-9b162b469be8",
    "scrolled": true
   },
   "outputs": [],
   "source": [
    "%pip install --upgrade pip\n",
    "\n",
    "# Uninstall conflicting packages\n",
    "%pip uninstall -y langchain-core langchain-openai langchain-experimental langchain-community langchain chromadb beautifulsoup4 python-dotenv PyPDF2 rank_bm25 tiktoken langgraph \n",
    "\n",
    "# Install compatible versions of langchain libraries\n",
    "%pip install langchain-core==0.3.6\n",
    "%pip install langchain-openai==0.2.1\n",
    "%pip install langchain-experimental==0.3.2\n",
    "%pip install langchain-community==0.3.1\n",
    "%pip install langchain==0.3.1\n",
    "\n",
    "# Install remaining packages\n",
    "%pip install chromadb==0.5.11\n",
    "%pip install beautifulsoup4==4.12.3\n",
    "%pip install python-dotenv==1.0.1\n",
    "%pip install PyPDF2==3.0.1 -q --user\n",
    "%pip install rank_bm25==0.2.2\n",
    "\n",
    "# new agent-related installs\n",
    "%pip install tiktoken==0.7.0\n",
    "%pip install langgraph==0.2.28\n",
    "\n",
    "# Restart the kernel after installation"
   ]
  },
  {
   "cell_type": "code",
   "execution_count": 1,
   "id": "f884314f-870c-4bfb-b6c1-a5b4801ec172",
   "metadata": {
    "executionInfo": {
     "elapsed": 7390,
     "status": "ok",
     "timestamp": 1715455737041,
     "user": {
      "displayName": "",
      "userId": ""
     },
     "user_tz": 240
    },
    "id": "f884314f-870c-4bfb-b6c1-a5b4801ec172"
   },
   "outputs": [],
   "source": [
    "import os\n",
    "os.environ['USER_AGENT'] = 'RAGUserAgent'\n",
    "import openai\n",
    "from langchain_openai import ChatOpenAI, OpenAIEmbeddings\n",
    "from langchain import hub\n",
    "from langchain_core.output_parsers import StrOutputParser\n",
    "from langchain_core.runnables import RunnablePassthrough\n",
    "import chromadb\n",
    "from langchain_community.vectorstores import Chroma\n",
    "from langchain_core.runnables import RunnableParallel\n",
    "from dotenv import load_dotenv, find_dotenv\n",
    "from langchain_core.prompts import PromptTemplate\n",
    "from PyPDF2 import PdfReader\n",
    "from langchain.text_splitter import RecursiveCharacterTextSplitter\n",
    "from langchain.docstore.document import Document\n",
    "from langchain_community.retrievers import BM25Retriever\n",
    "from langchain.retrievers import EnsembleRetriever"
   ]
  },
  {
   "cell_type": "code",
   "execution_count": 2,
   "id": "eba3468a-d7c2-4a79-8df2-c335542950f2",
   "metadata": {
    "executionInfo": {
     "elapsed": 5,
     "status": "ok",
     "timestamp": 1715455737042,
     "user": {
      "displayName": "",
      "userId": ""
     },
     "user_tz": 240
    },
    "id": "eba3468a-d7c2-4a79-8df2-c335542950f2"
   },
   "outputs": [],
   "source": [
    "# variables\n",
    "_ = load_dotenv(dotenv_path='env.txt')\n",
    "os.environ['OPENAI_API_KEY'] = os.getenv('OPENAI_API_KEY')\n",
    "openai.api_key = os.environ['OPENAI_API_KEY']\n",
    "llm = ChatOpenAI(model_name=\"gpt-4o\", temperature=0, streaming=True)\n",
    "agent_llm = ChatOpenAI(model_name=\"gpt-4o\", temperature=0, streaming=True)\n",
    "embedding_function = OpenAIEmbeddings()\n",
    "pdf_path = \"google-2023-environmental-report.pdf\"\n",
    "collection_name = \"google_environmental_report\"\n",
    "str_output_parser = StrOutputParser()\n",
    "user_query = \"What are Google's environmental initiatives?\""
   ]
  },
  {
   "cell_type": "code",
   "execution_count": 3,
   "id": "d3ad428a-3eb6-40ec-a1a5-62565ead1e5b",
   "metadata": {
    "id": "d3ad428a-3eb6-40ec-a1a5-62565ead1e5b"
   },
   "outputs": [],
   "source": [
    "#### INDEXING ####"
   ]
  },
  {
   "cell_type": "code",
   "execution_count": 4,
   "id": "98ccda2c-0f4c-41c5-804d-2227cdf35aa7",
   "metadata": {
    "executionInfo": {
     "elapsed": 19512,
     "status": "ok",
     "timestamp": 1715455756551,
     "user": {
      "displayName": "",
      "userId": ""
     },
     "user_tz": 240
    },
    "id": "98ccda2c-0f4c-41c5-804d-2227cdf35aa7"
   },
   "outputs": [],
   "source": [
    "# Load the PDF and extract text\n",
    "pdf_reader = PdfReader(pdf_path)\n",
    "text = \"\"\n",
    "for page in pdf_reader.pages:\n",
    "    text += page.extract_text()"
   ]
  },
  {
   "cell_type": "code",
   "execution_count": 5,
   "id": "927a4c65-aa05-486c-8295-2f99673e7c20",
   "metadata": {
    "executionInfo": {
     "elapsed": 12,
     "status": "ok",
     "timestamp": 1715455756552,
     "user": {
      "displayName": "",
      "userId": ""
     },
     "user_tz": 240
    },
    "id": "927a4c65-aa05-486c-8295-2f99673e7c20"
   },
   "outputs": [],
   "source": [
    "# Split\n",
    "character_splitter = RecursiveCharacterTextSplitter(\n",
    "    separators=[\"\\n\\n\", \"\\n\", \". \", \" \", \"\"],\n",
    "    chunk_size=1000,\n",
    "    chunk_overlap=200\n",
    ")\n",
    "splits = character_splitter.split_text(text)"
   ]
  },
  {
   "cell_type": "code",
   "execution_count": 6,
   "id": "34e79382-dbb5-4e53-8d21-c4b4375d5084",
   "metadata": {},
   "outputs": [],
   "source": [
    "dense_documents = [Document(page_content=text, metadata={\"id\": str(i), \"source\": \"dense\"}) for i, text in enumerate(splits)]\n",
    "sparse_documents = [Document(page_content=text, metadata={\"id\": str(i), \"source\": \"sparse\"}) for i, text in enumerate(splits)]"
   ]
  },
  {
   "cell_type": "code",
   "execution_count": 7,
   "id": "6b13568c-d633-464d-8c43-0d55f34cc8c1",
   "metadata": {
    "executionInfo": {
     "elapsed": 9471,
     "status": "ok",
     "timestamp": 1715455766015,
     "user": {
      "displayName": "",
      "userId": ""
     },
     "user_tz": 240
    },
    "id": "6b13568c-d633-464d-8c43-0d55f34cc8c1"
   },
   "outputs": [],
   "source": [
    "# Chroma Vector Store\n",
    "chroma_client = chromadb.Client()\n",
    "vectorstore = Chroma.from_documents(\n",
    "    documents=dense_documents,\n",
    "    embedding=embedding_function,\n",
    "    collection_name=collection_name,\n",
    "    client=chroma_client\n",
    ")"
   ]
  },
  {
   "cell_type": "code",
   "execution_count": 8,
   "id": "6a399c41-0fb0-4a68-a220-88c4ab661e9e",
   "metadata": {},
   "outputs": [],
   "source": [
    "dense_retriever = vectorstore.as_retriever(search_kwargs={\"k\": 10})\n",
    "sparse_retriever = BM25Retriever.from_documents(sparse_documents, k=10)\n",
    "ensemble_retriever = EnsembleRetriever(retrievers=[dense_retriever, sparse_retriever], weights=[0.5, 0.5], c=0)"
   ]
  },
  {
   "cell_type": "code",
   "execution_count": 9,
   "id": "dcfdd5e7-8cfb-4eee-a605-1ecaa5828e5c",
   "metadata": {},
   "outputs": [],
   "source": [
    "#### TOOLS ####"
   ]
  },
  {
   "cell_type": "code",
   "execution_count": 10,
   "id": "ec1783c5-143b-4850-90eb-4a91769661d5",
   "metadata": {},
   "outputs": [],
   "source": [
    "# Tool #1: Web Search"
   ]
  },
  {
   "cell_type": "code",
   "execution_count": 11,
   "id": "013b8878-3a43-43f7-ad8e-dab992aff860",
   "metadata": {},
   "outputs": [],
   "source": [
    "# Tavily Setup\n",
    "# set up your API key at https://tavily.com/\n",
    "# add the API key to your env.txt file\n",
    "from langchain_community.tools.tavily_search import TavilySearchResults\n",
    "\n",
    "_ = load_dotenv(dotenv_path='env.txt')\n",
    "os.environ['TAVILY_API_KEY'] = os.getenv('TAVILY_API_KEY')\n",
    "!export TAVILY_API_KEY=os.environ['TAVILY_API_KEY']\n",
    "web_search = TavilySearchResults(max_results=4)\n",
    "web_search_name = web_search.name"
   ]
  },
  {
   "cell_type": "code",
   "execution_count": 12,
   "id": "bf02c540-c5bb-4af4-bb3d-3629e0ba0075",
   "metadata": {
    "scrolled": true
   },
   "outputs": [
    {
     "data": {
      "text/plain": [
       "[{'url': 'https://sustainability.google/reports/google-2023-environmental-report/',\n",
       "  'content': \"2023 Environmental Report. Google's 2023 Environmental Report outlines how we're driving positive environmental outcomes throughout our business in three key ways: developing products and technology that empower individuals on their journey to a more sustainable life, working together with partners and organizations everywhere to transition ...\"},\n",
       " {'url': 'https://kstatic.googleusercontent.com/files/2a9842aeadbd49aabf60395add74e26a6431ae05a9aa938e3f84a8e97f26e19d4bf5614454da12f2405888122b66948ec8d5c7ac5c4f04bd49b380162a15eb1b',\n",
       "  'content': \"beter devices and services, and empowering users with technology. For more information about our sustainability strategy, see Google's Sustainability website and sustainability reports page. For more information about our overall corporate responsibility initiatives, see Google's commitments, as well as sustainability and related information.\"},\n",
       " {'url': 'https://kstatic.googleusercontent.com/files/b5f7f972d02008d733ba918ebcc5f54124ec01d0fa6f731e276eb187f042d24d77828ecf525d0f264fafffe5d0d178cbd1d609232aac3faf9f23c4173690cecd',\n",
       "  'content': \"In our 2023 Environmental Report, we're highlighting how . these themes of information and innovation run through . much of our work: For information, we'll feature . Google Trends. insights alongside key initiatives to show . how our work is informed by societal trends . and expectations. And for innovation, we'll call out the many\"},\n",
       " {'url': 'https://sustainability.google/reports/google-2021-environmental-report/',\n",
       "  'content': \"2021 Environmental Report. This report outlines how we're driving positive environmental impact throughout our business in five key ways: designing efficient data centers, advancing carbon-free energy, creating sustainable workplaces, building better devices and services, and empowering users with technology.\"}]"
      ]
     },
     "execution_count": 12,
     "metadata": {},
     "output_type": "execute_result"
    }
   ],
   "source": [
    "web_search.invoke(user_query)"
   ]
  },
  {
   "cell_type": "code",
   "execution_count": 13,
   "id": "d88d9ab1-7496-42af-92d7-b12370160c35",
   "metadata": {},
   "outputs": [],
   "source": [
    "# Tool #2: Data Retriever"
   ]
  },
  {
   "cell_type": "code",
   "execution_count": 14,
   "id": "cfb43c44-d394-4ad3-ba83-9270aba9ff35",
   "metadata": {},
   "outputs": [],
   "source": [
    "from langchain.tools.retriever import create_retriever_tool\n",
    "\n",
    "retriever_tool = create_retriever_tool(\n",
    "    ensemble_retriever,\n",
    "    \"retrieve_google_environmental_question_answers\",\n",
    "    \"Extensive information about Google environmental efforts from 2023.\",\n",
    ")\n",
    "retriever_tool_name = retriever_tool.name"
   ]
  },
  {
   "cell_type": "code",
   "execution_count": 15,
   "id": "d0f102d1-612d-43fa-b310-af07e748d182",
   "metadata": {},
   "outputs": [],
   "source": [
    "# Define tools for agent\n",
    "tools = [web_search, retriever_tool]"
   ]
  },
  {
   "cell_type": "code",
   "execution_count": 16,
   "id": "b07ad612-b59d-40a1-bbd7-c2fab4aed25b",
   "metadata": {},
   "outputs": [],
   "source": [
    "from typing import Annotated, Literal, Sequence, TypedDict\n",
    "from langchain_core.messages import BaseMessage\n",
    "from langgraph.graph.message import add_messages\n",
    "\n",
    "class AgentState(TypedDict):\n",
    "    messages: Annotated[Sequence[BaseMessage], add_messages]"
   ]
  },
  {
   "cell_type": "code",
   "execution_count": 17,
   "id": "1819a56d-b376-4055-be1c-b3fa4441ba1e",
   "metadata": {},
   "outputs": [
    {
     "name": "stderr",
     "output_type": "stream",
     "text": [
      "/opt/conda/lib/python3.11/site-packages/IPython/core/interactiveshell.py:3526: LangChainDeprecationWarning: As of langchain-core 0.3.0, LangChain uses pydantic v2 internally. The langchain_core.pydantic_v1 module was a compatibility shim for pydantic v1, and should no longer be used. Please update the code to import from Pydantic directly.\n",
      "\n",
      "For example, replace imports like: `from langchain_core.pydantic_v1 import BaseModel`\n",
      "with: `from pydantic import BaseModel`\n",
      "or the v1 compatibility namespace if you are working in a code base that has not been fully upgraded to pydantic 2 yet. \tfrom pydantic.v1 import BaseModel\n",
      "\n",
      "  exec(code_obj, self.user_global_ns, self.user_ns)\n"
     ]
    }
   ],
   "source": [
    "from langchain_core.messages import HumanMessage\n",
    "from langchain_core.pydantic_v1 import BaseModel, Field\n",
    "from langgraph.prebuilt import tools_condition"
   ]
  },
  {
   "cell_type": "code",
   "execution_count": 18,
   "id": "ac0ef771-7a67-4469-915c-58239c3dd9ac",
   "metadata": {},
   "outputs": [],
   "source": [
    "generation_prompt = PromptTemplate.from_template(\n",
    "    \"\"\"You are an assistant for question-answering tasks. \n",
    "    Use the following pieces of retrieved context to answer \n",
    "    the question. If you don't know the answer, just say \n",
    "    that you don't know. Provide a thorough description to \n",
    "    fully answer the question, utilizing any relevant \n",
    "    information you find.\n",
    "    \n",
    "    Question: {question} \n",
    "    Context: {context} \n",
    "    \n",
    "    Answer:\"\"\"\n",
    ")"
   ]
  },
  {
   "cell_type": "code",
   "execution_count": 19,
   "id": "2cbbd119-fc4f-412b-8935-1616a7d847a6",
   "metadata": {},
   "outputs": [],
   "source": [
    "### Edges - determines whether the retrieved documents are relevant to the question.\n",
    "def score_documents(state) -> Literal[\"generate\", \"improve\"]:\n",
    "\n",
    "    print(\"---CHECK RELEVANCE---\")\n",
    "\n",
    "    # Data model - returns a binary score for the relevance check\n",
    "    class scoring(BaseModel):\n",
    "        binary_score: str = Field(description=\"Relevance score 'yes' or 'no'\")\n",
    "\n",
    "    # LLM with tool and validation\n",
    "    llm_with_tool = llm.with_structured_output(scoring)\n",
    "\n",
    "    # Prompt\n",
    "    prompt = PromptTemplate(\n",
    "        template=\"\"\"\n",
    "        You are assessing relevance of a retrieved document to a user question with a binary grade. \\n \n",
    "        \n",
    "        Here is the retrieved document: \\n\\n {context} \\n\\n\n",
    "        Here is the user question: {question} \\n\n",
    "        \n",
    "        If the document contains keyword(s) or semantic meaning related to the user question, grade it as relevant. \\n\n",
    "        Give a binary score 'yes' or 'no' score to indicate whether the document is relevant to the question.\n",
    "        \"\"\",\n",
    "        input_variables=[\"context\", \"question\"],\n",
    "    )\n",
    "\n",
    "    # Chain\n",
    "    chain = prompt | llm_with_tool\n",
    "\n",
    "    messages = state[\"messages\"]\n",
    "    last_message = messages[-1]\n",
    "    question = messages[0].content\n",
    "    docs = last_message.content\n",
    "\n",
    "    scored_result = chain.invoke({\"question\": question, \"context\": docs})\n",
    "    score = scored_result.binary_score\n",
    "\n",
    "    if score == \"yes\":\n",
    "        print(\"---DECISION: DOCS RELEVANT---\")\n",
    "        return \"generate\"\n",
    "\n",
    "    else:\n",
    "        print(\"---DECISION: DOCS NOT RELEVANT---\")\n",
    "        print(score)\n",
    "        return \"improve\""
   ]
  },
  {
   "cell_type": "code",
   "execution_count": 20,
   "id": "dadfd63e-c526-4897-a426-9f248fea3f27",
   "metadata": {},
   "outputs": [],
   "source": [
    "### Nodes"
   ]
  },
  {
   "cell_type": "code",
   "execution_count": 21,
   "id": "6f8d2842-590e-441a-bafd-e4f8370c1d89",
   "metadata": {},
   "outputs": [],
   "source": [
    "# Agent node - invokes the agent model to generate a response based on the current state. \n",
    "# Decision choices (given the question): retrieve using the retriever tool, web_search tool, both, or end.\n",
    "def agent(state):\n",
    "    print(\"---CALL AGENT---\")\n",
    "    messages = state[\"messages\"]\n",
    "    llm = agent_llm.bind_tools(tools)\n",
    "    response = llm.invoke(messages)\n",
    "    return {\"messages\": [response]} # Return list, will get added to existing list"
   ]
  },
  {
   "cell_type": "code",
   "execution_count": 22,
   "id": "587b5ea9-16d0-4f1e-b0a9-ecf481c8a209",
   "metadata": {},
   "outputs": [],
   "source": [
    "# Improve node - transform the query to produce a better question.\n",
    "def improve(state):\n",
    "    print(\"---TRANSFORM QUERY---\")\n",
    "    messages = state[\"messages\"]\n",
    "    question = messages[0].content\n",
    "\n",
    "    msg = [\n",
    "        HumanMessage(content=f\"\"\"\\n \n",
    "            Look at the input and try to reason about the underlying semantic intent / meaning. \\n \n",
    "            Here is the initial question:\n",
    "            \\n ------- \\n\n",
    "            {question} \n",
    "            \\n ------- \\n\n",
    "            Formulate an improved question: \n",
    "            \"\"\",\n",
    "        )\n",
    "    ]\n",
    "\n",
    "    # Scoring\n",
    "    response = llm.invoke(msg)\n",
    "    return {\"messages\": [response]}"
   ]
  },
  {
   "cell_type": "code",
   "execution_count": 23,
   "id": "bdfd3ec6-bc33-464b-a47c-f0054d2688ec",
   "metadata": {},
   "outputs": [],
   "source": [
    "# Generate node - generate answer\n",
    "def generate(state):\n",
    "    print(\"---GENERATE---\")\n",
    "    messages = state[\"messages\"]\n",
    "    question = messages[0].content\n",
    "    last_message = messages[-1]\n",
    "\n",
    "    question = messages[0].content\n",
    "    docs = last_message.content\n",
    "\n",
    "    # Chain\n",
    "    rag_chain = generation_prompt | llm | str_output_parser\n",
    "\n",
    "    # Run\n",
    "    response = rag_chain.invoke({\"context\": docs, \"question\": question})\n",
    "    return {\"messages\": [response]}"
   ]
  },
  {
   "cell_type": "code",
   "execution_count": 24,
   "id": "d4b36d98-a2ac-453e-b97e-db6cd2ce474c",
   "metadata": {},
   "outputs": [],
   "source": [
    "# Cyclical Graph Setup\n",
    "from langgraph.graph import END, StateGraph\n",
    "from langgraph.prebuilt import ToolNode\n",
    "\n",
    "# Define a new graph\n",
    "workflow = StateGraph(AgentState)\n",
    "\n",
    "# Define the nodes we will cycle between\n",
    "workflow.add_node(\"agent\", agent)  # agent\n",
    "retrieve = ToolNode(tools)\n",
    "workflow.add_node(\"retrieve\", retrieve)  # retrieval from web and or retriever\n",
    "workflow.add_node(\"improve\", improve)  # Improving the question for better retrieval\n",
    "workflow.add_node(\"generate\", generate)  # Generating a response after we know the documents are relevant\n",
    "\n",
    "# Call agent node to decide to retrieve or not\n",
    "workflow.set_entry_point(\"agent\")\n",
    "\n",
    "# Decide whether to retrieve (assess agent decision)\n",
    "workflow.add_conditional_edges(\"agent\", tools_condition, \n",
    "    # Translate the condition outputs to nodes in our graph\n",
    "    {\n",
    "        \"tools\": \"retrieve\",\n",
    "        END: END,\n",
    "    },\n",
    ")\n",
    "\n",
    "# Edges taken after the `action` node is called (assess agent decision)\n",
    "workflow.add_conditional_edges(\"retrieve\", score_documents)\n",
    "workflow.add_edge(\"generate\", END)\n",
    "workflow.add_edge(\"improve\", \"agent\")\n",
    "\n",
    "# Compile\n",
    "graph = workflow.compile()"
   ]
  },
  {
   "cell_type": "code",
   "execution_count": 25,
   "id": "44402c63-207d-4669-93ad-062abd9685e4",
   "metadata": {},
   "outputs": [
    {
     "data": {
      "image/jpeg": "[encoded data removed]",
      "text/plain": [
       "<IPython.core.display.Image object>"
      ]
     },
     "metadata": {},
     "output_type": "display_data"
    }
   ],
   "source": [
    "from IPython.display import Image, display\n",
    "\n",
    "try:\n",
    "    display(Image(graph.get_graph(xray=True).draw_mermaid_png()))\n",
    "except:\n",
    "    pass"
   ]
  },
  {
   "cell_type": "code",
   "execution_count": 26,
   "id": "1cca0689-04c2-45e4-abbf-bf29f96647ff",
   "metadata": {
    "scrolled": true
   },
   "outputs": [
    {
     "name": "stdout",
     "output_type": "stream",
     "text": [
      "---CALL AGENT---\n",
      "\"Output from node 'agent':\"\n",
      "'---'\n",
      "{ 'messages': [ AIMessage(content='', additional_kwargs={'tool_calls': [{'index': 0, 'id': 'call_MNQcPef4I1hGuAEvqRKtLgIg', 'function': {'arguments': '{\"query\": \"Google environmental initiatives\"}', 'name': 'retrieve_google_environmental_question_answers'}, 'type': 'function'}, {'index': 1, 'id': 'call_Ex8q4zPTf6RhnVgYuseO4ZUl', 'function': {'arguments': '{\"query\": \"Google environmental initiatives 2023\"}', 'name': 'tavily_search_results_json'}, 'type': 'function'}]}, response_metadata={'finish_reason': 'tool_calls', 'model_name': 'gpt-4o-2024-05-13', 'system_fingerprint': 'fp_3537616b13'}, id='run-8f59aff2-36f1-4b3f-be5c-e4b4896749c9-0', tool_calls=[{'name': 'retrieve_google_environmental_question_answers', 'args': {'query': 'Google environmental initiatives'}, 'id': 'call_MNQcPef4I1hGuAEvqRKtLgIg', 'type': 'tool_call'}, {'name': 'tavily_search_results_json', 'args': {'query': 'Google environmental initiatives 2023'}, 'id': 'call_Ex8q4zPTf6RhnVgYuseO4ZUl', 'type': 'tool_call'}])]}\n",
      "'\\n---\\n'\n",
      "---CHECK RELEVANCE---\n",
      "---DECISION: DOCS RELEVANT---\n",
      "\"Output from node 'retrieve':\"\n",
      "'---'\n",
      "{ 'messages': [ ToolMessage(content='Protection Agency (EPA), including 3 Google hosted events with EPA Administrator Michael \\nRegan on environmental justice, how Google products promote recycling within the circular \\neconomy, and using AI to identify lead pipes. At the U.S. Department of Energy, Nest continued \\ndialog with both the Loans Program Office about designation as an innovative product, and \\nOffice of the Under Secretary for Science and Innovation. We also met with the White House  \\non multiple projects, and received invitations to summits for our work on lead pipe reduction \\nand home electrification.U.S. SEC comments \\non proposed rule on \\nEnhancement and \\nStandardization of \\nClimate-Related \\nDisclosures for \\nInvestorsIn partnership with nine other peer technology companies, Google provided comments  to \\nthe Securities and Exchange Commission’s (SEC) proposed rule on enhanced climate-related \\ndisclosures. The comments state our support for regular and consistent reporting of climate-\\n\\nSustainable \\nconsumption of \\npublic goods (e.g., \\n“right to repair”)Google submitted comments to the European Commission’s public consultation regarding \\nthe promotion of repair and reuse of goods. We shared our views on the core principles to \\nconsider when introducing policy measures to promote repair and reuse horizontally, and for \\nsmartphones and tablets specifically.\\nBody of European \\nRegulators \\nfor Electronic \\nCommunications \\n(BEREC)Google responded to a questionnaire  by BEREC in view of the development of key performance \\nindicators to characterize the environmental impact of electronic communications, networks, \\ndevices, and services. We provided information about our environmental reporting practices \\nand suggestions to help identify which indicators would provide relevant environmental \\ninformation.\\nEngagement with coalitions and sustainability initiatives\\nRE-Source PlatformGoogle is a strategic partner and steering committee member of the RE-Source Platform, the\\n\\nThe opportunity we have through our products and \\nplatforms is reflected in our updated environmental sustainability strategy, which focuses on where we can make the most significant positive impact. Our work is organized around three key pillars: empowering individuals to take action, working together with our partners and customers, and operating our business\\xa0sustainably.\\nIn 2022, we reached our goal to help 1 billion people \\nmake more sustainable choices through our products. We achieved this by offering sustainability features like eco-friendly routing in Google Maps, energy efficiency features in Google Nest thermostats, and carbon emissions information in Google Flights. Looking ahead, our aspiration is to help individuals, cities, and other partners collectively reduce 1 gigaton of their carbon equivalent emissions annually by 2030.\\n\\u20092\\n\\nchemistry\\n• Governance and engagement - Risk management; Stakeholder engagement - Supplier \\nengagement\\nEngagement with external targets and initiatives related to sustainable \\nsupply chains • Wor king together - Our approach - Supporting partners - Cloud customers and  \\ncommercial partners\\n• Governance and engagement - PartnershipsC12. Engagement\\nGoals and targets Supplier environmental assessment-related targets• Introd uction - Targets and progress summary\\n• Oper ating sustainably - Circular economy - Our approach - Working with suppliers\\nPerformance indicators New suppliers that were screened using environmental criteria • Governance and engagement - Risk management C12. Engagement\\nSupplier renewable energy• Opera ting sustainably - Net-zero carbon - Our approach - Advancing carbon-free energy - \\nCFE inv estmentsC2. Risks and opportunities\\nNegative environmental impacts in the supply chain and actions taken• Oper ating sustainably - Circular economy - Supply chain\\n\\nin partnership with the Egyptian government and the United Nations, and sent a delegation led  \\nby Chief Sustainability Officer Kate Brandt and VP of Engineering & Research Yossi Matias, along \\nwith a number of senior subject matter experts. Googlers participated in over 50 events and \\nmoments throughout the conference with public sector leaders from the United States, Europe, \\nAfrica, the Middle East, and Asia to call for amplified ambition on climate, and to showcase the  \\nrole that the technology sector can play in enabling climate mitigation and adaptation.\\nUnited States\\nEngagement on U.S. federal sustainability, climate, and energy policy\\nLegislative branch \\nengagementAs detailed in Google’s lobbying disclosure filings , we conducted lobbying efforts regarding \\nU.S. federal sustainability, climate, and energy policy, including on the Clean Energy for \\nAmerica Act, the CLEAN Future Act, the Infrastructure Investment and Jobs Act, the Clean\\n\\nSuppli er engagementC12. Engagement\\nBoard and/or management oversight • Gove rnance and engagement C12. Engagement\\nManagement approachApproach to supply chain risk environmental assessments and audits • Gove rnance and engagement - Stakeholder engagement - Supplier engagement\\nIntegration of environmental factors within procurement policies  \\nand supplier contracts• Operating sustainably - Net-zero carbon - Our approach - Reducing carbon emissions -  \\nSupplier engagement\\n• Governance and engagement - Risk managementC12. Engagement\\nApproach to supplier capacity building, training, and corrective  \\naction plans• Operating sustainably - Net-zero carbon - Our approach - Reducing carbon emissions - \\nSupplier engagement; Circular economy - Our approach - Working with suppliers - Safer \\nchemistry\\n• Governance and engagement - Risk management; Stakeholder engagement - Supplier \\nengagement\\nEngagement with external targets and initiatives related to sustainable\\n\\nIn 2022, we audited a subset of our suppliers to verify \\ncompliance for the following environmental criteria: implementation of environmental management systems, environmental permits and reporting, product content restrictions, and resource efficiency, as well as management of hazardous substances, wastewater,  solid waste, and air emissions.\\nGooglers chat among indoor plants at our Pier 57 office in New York City.   79\\n2023 Environmental Report  Public policy and advocacy\\nWe know that strong public policy action is critical to \\ncreating prosperous, equitable, and resilient low-carbon economies around the world. \\nThe United Nations Framework Convention on Climate \\nChange (UNFCCC)’s 2015 Paris Agreement states that humanity must “keep global temperature rise this century well below 2°C above pre-industrial levels.”\\n\\u2009143 Google\\n\\nthe United States for pre-owned products, such as used and refurbished products. The journey \\nahead\\nWhile a single individual’s actions may seem small, when \\nbillions of people have the tools to make more sustainable decisions, they add up to have a meaningful impact on their communities and the entire planet. \\nWe’re excited by the opportunity to enable climate and \\nenvironmental action far beyond Google’s direct impact, through information and innovation.\\nLEARN MORE\\n • Empowering with technology\\n • Google Maps eco-friendly routing\\n • Searching for sustainability with Google\\n • Supporting a clean energy future with Nest Renew\\n • The search for sustainability   20\\n2023 Environmental Report  Working \\ntogether\\nWe’re working together with our \\npartners and customers to advance technology for sustainabilityOur ambition\\nOur approach\\nSupporting partners\\nInvesting in breakthrough \\ninnovation\\nCreating ecosystems for \\ncollaboration\\nThe journey ahead\\n   21\\n2023 Environmental Report  Our ambition\\n\\nC3. Business strategy Strategy: C\\nIntegration of climate-related risks and scenario analysis  \\ninto overall risk management and resiliency planning • Governance and engagement - Risk management - Climate-related risks C2. Risks and opportunities Risk management: C\\nIntegration of environmental risks in data center planning• Operating sustainably - Net-zero carbon - Our approach - Reducing carbon emissions -  \\nEnergy-efficient and low-carbon facilities - Data centersC2. Risks and opportunities Risk management: BTC-IM-130a.3\\nTC-SI-130a.3\\nValue chain engagement on climate change • Operating sustainably - Net-zero carbon - Reducing carbon emissions - Supplier engagement; \\nAdvancing carbon-free energy - CFE investmentsC12. Engagement\\nEngagement with external targets and initiatives related to net zero • Operating sustainably - Net-zero carbon - Advancing carbon-free energy -  \\nTransforming the energy system through partnerships and advocacy\\n\\nuse; Benefiting watersheds and communities - Our water replenishment projectsC3. Business strategyTC-IM-130a.2\\nTC-SI-130a.2\\nIntegration of environmental considerations into data center strategic planning• Opera ting sustainably - Water stewardship - Our approach - Advancing responsible water \\nuse - Data centersC3. Business strategyTC-IM-130a.3\\nTC-SI-130a.3\\nInteractions with water as a shared resource• Oper ating sustainably - Water stewardship - Our approach - Benefiting watersheds and \\ncomm unities\\nValue chain engagement on water-related issues• Oper ating sustainably - Water stewardship - Our approach - Advancing responsible water \\nuse - S upply chainC12. Engagement\\nEngagement with external targets and initiatives related to water stewardship• Operating  sustainably - Water stewardship - Our approach - Benefiting watersheds  \\nand communities; Supporting water security with technology\\n• Working together - Our approach - Supporting partners - Adaptation support  \\nfor communities\\n\\nU.S. federal sustainability, climate, and energy policy, including on the Clean Energy for \\nAmerica Act, the CLEAN Future Act, the Infrastructure Investment and Jobs Act, the Clean \\nElectricity Performance Program provisions of the Build Back Better Act, the wholesale market \\nexpansion and reform provisions of the Energy and Water Development and Related Agencies \\nAppropriations Act 2022, and the energy provisions of the Inflation Reduction Act (IRA), all of \\nwhich align with our advocacy for ambitious federal climate and clean energy policies. Google \\nexecutives expressed support  for the clean energy and climate provisions in the IRA.\\nExecutive branch \\nengagement Google had multiple engagements with staff and leadership in the U.S. Environmental \\nProtection Agency (EPA), including 3 Google hosted events with EPA Administrator Michael \\nRegan on environmental justice, how Google products promote recycling within the circular\\n\\nThrough our Product Restricted Substances Specification  \\nand Manufacturer Restricted Substances List, we restrict \\nmany hazardous substances and ensure our suppliers have processes in place to detect and prevent them from entering the manufacturing process. We’ve laid  a solid foundation  as we pursue our next level goals in \\nsafer chemistry.\\nIn 2022, we shared more details about our comprehensive \\nResponsible Chemical Management program  that \\nincludes assessments, guidance, and training resources to help suppliers better mitigate occupational and environmental risks related to the chemicals they use. Recent initiatives have included in-depth assessment programs with greater levels of detail and transparency, extensive supplier training and guidance materials to more proactively manage risk, and new industry partnerships that al\\nlow us to share best practices intended to  \\nadvance the industry at large.\\nWe continue to enroll suppliers into e-learning courses,\\n\\nand to detect methane leaks in cities since 2011.\\nEuropean 24/7 HubGoogle supported the launch of the European 24/7 Hub with Eurelectric, which provides education on the  \\n“what, why, and how” of 24/7 carbon-free energy buyers and suppliers in Europe. Google spoke at the  \\nlaunch event during European Sustainable Energy Week.\\nEuropean Climate PactGoogle was among the leading businesses that joined the European Climate Pact in its inaugural year to share our commitment to help achieve a climate neutral Europe.\\nEuropean Green Digital Coalition (EGDC)Google is an active member of the EGDC—a group of technology companies committed to supporting the  \\ngreen and digital transformation of the EU. As a member, Google participates in the initiative, designed to harness the emission-reducing potential of digital solutions for all other sectors, and support green and digital transformations in the EU.Organization Details\\n\\n95 That’s why we’re supporting the development \\nand commercialization of emerging carbon removal technologies, as well as the development of initiatives to ensure the integrity and climate impact of CDR solutions. \\nStarting in 2022, we began funding the development of \\nnature-based and technology-based carbon removal solutions. At the World Economic Forum Annual Meeting in 2022, Google joined the First Movers Coalition . As a \\nchampion for the Carbon Dioxide Removal sector, Google committed to contract for durable and scalable net carbon dioxide removal to be achieved by the end of 2030.\\nIn 2022, we contributed $200 million towards a $925 million \\ntotal pledge to Frontier , an advanced market commitment\\n\\nClimate Neutral Data Centre Pact (CNDCP)Google helped establish the Climate Neutral Data Centre Pact, a coalition of European data center operators who commit to a set of voluntary sustainability targets to set them on a path toward climate neutrality.\\nEllen MacArthur Foundation (EMF)Google is a partner of the Ellen MacArthur Foundation, having joined the foundation’s network in 2015, and has co-authored a number of thought leadership white papers and case studies in areas such as safer chemistry,  \\nthe deconstruction and reuse of commercial office buildings, electronics, and AI.\\nEnvironmental Defense Fund (EDF) Google has partnered  with EDF to map air quality using Street View cars in the U.S., Europe, and Southeast Asia, \\nand to detect methane leaks in cities since 2011.\\nEuropean 24/7 HubGoogle supported the launch of the European 24/7 Hub with Eurelectric, which provides education on the\\n\\nTidal testing its technology at a fish farm north of the Arctic Circle.   29\\n2023 Environmental Report  Creating ecosystems for collaboration\\nBeyond our own tools and programs, we continue to \\ninvest in promising initiatives that aim to create scalable, high-impact collaboration ecosystems for climate change and sustainability.\\nGoogle.org\\nGoogle.org  aims to bring the best of Google to help solve \\nsome of humanity’s biggest challenges. This includes combining funding, innovation, and technical expertise to support underserved communities, provide opportunity for everyone, and help address a number of sustainability challenges. \\nLaunched in 2022, the Google.org Impact Challenge on \\nClimate Innovation  allocates up to $30 million to support \\nbreakthrough projects that use data and technology to accelerate climate action . Selected organizations will\\n\\nof over 140 partner organizations.\\nThe Google.org Impact Challenge on Climate Innovation supports breakthrough projects that use data and technology to \\naccelerate climate action.\\nThe journey ahead\\nFrom measuring and monitoring changes on the Earth’s surface, improving forecast and prediction models for flooding and wildfires, optimizing operations, combining disparate data sources, and designing more efficient products, we continue to leverage our expertise in technology and apply the latest advancements to help solve global challenges.\\nWe believe that by working together with our partners and \\ncustomers, we can make a real difference in addressing the challenges of climate change and ecosystem degradation. LEARN MORE\\n• Data Commons\\n• Environmental Insights Explorer\\n• Google Cloud sustainability\\n• Google Earth Engine\\n• Sustainability-focused accelerators   31\\n2023 Environmental Report  Operating \\nsustainably\\nWe’re showing the way forward \\nthrough our own operationsOur ambition\\n\\niMasons Climate AccordGoogle is a founding member and part of the governing body of the iMasons Climate Accord, a coalition united on carbon reduction in digital infrastructure.\\nReFEDIn 2022, to activate industry-wide change, Google provided anchor funding to kickstart the ReFED Catalytic Grant Fund, with the goal of accelerating and scaling food waste solutions.\\nThe Nature Conservancy (TNC)In 2022, Google supported three of the Nature Conservancy’s watershed projects in Chile and the United States, and Google.org supported a three-phased approach to catalyze active reforestation of kelp at impactful scales. Google.org also provided a grant to TNC to develop a machine-learning-powered timber-tracing API to stop deforestation in the Amazon at scale; a team of Google engineers is working full-time for six months with TNC to develop this product as part of the Google.org Fellowship Program.\\n\\ninformation.\\nEngagement with coalitions and sustainability initiatives\\nRE-Source PlatformGoogle is a strategic partner and steering committee member of the RE-Source Platform, the \\nEuropean platform for corporate renewable energy sourcing. Through its policy advocacy \\nand resources for renewable energy buyers, RE-Source seeks to remove barriers to corporate \\npurchasing of renewable energy in support of Europe’s climate and energy goals.Asia-Pacific\\nAsia Clean Energy \\nCoalition (ACEC)As a founding member, Google helped launch ACEC  at COP-27 to work together with other \\ncompanies and organizations to accelerate corporate clean energy sourcing and help \\ndecarbonize electrical grids in the region.\\nAsia-Pacific Economic \\nCooperation (APEC)Google supported an APEC Energy Working Group project, sponsored by the U.S. Department \\nof Energy and the Pacific Northwest National Laboratory. The project led to a report  that', name='retrieve_google_environmental_question_answers', id='71262ac1-5c65-47c0-932e-5b9ee2e7015f', tool_call_id='call_MNQcPef4I1hGuAEvqRKtLgIg'),\n",
      "                ToolMessage(content='[{\"url\": \"https://kstatic.googleusercontent.com/files/b5f7f972d02008d733ba918ebcc5f54124ec01d0fa6f731e276eb187f042d24d77828ecf525d0f264fafffe5d0d178cbd1d609232aac3faf9f23c4173690cecd\", \"content\": \"Google\\'s 2023 Environmental Report provides an overview of our environmental sustainability strategy and targets and our annual progress towards them. 1. ... insights alongside key initiatives to show . how our work is informed by societal trends . and expectations. And for innovation, we\\'ll call out the many ...\"}, {\"url\": \"https://sustainability.google/reports/google-2024-environmental-report/\", \"content\": \"Google\\'s 2024 Environmental Report covers its environmental sustainability strategy and progress from 2023 fiscal year and first half of 2024. Download the report to learn about its targets, initiatives, and insights for others.\"}, {\"url\": \"https://sustainability.google/reports/google-2023-environmental-report/\", \"content\": \"Google\\'s 2023 Environmental Report shows how it develops products and technology, works with partners, and operates sustainably. It covers data, performance, and progress from the 2022 fiscal year (January 1 to December 31, 2022).\"}, {\"url\": \"https://blog.google/outreach-initiatives/sustainability/sustainable-with-google-2023-collection/\", \"content\": \"Outreach & initiatives Arts & Culture Education ... Oct 10, 2023 4 articles 10 Oct, 2023 ... Google\\'s Green Light uses AI to optimize traffic lights, saving fuel and reducing emissions. By Yossi Matias - Oct 10, 2023. Sustainability ...\"}]', name='tavily_search_results_json', id='7b757a8b-8180-483d-abf0-f7953fc973e8', tool_call_id='call_Ex8q4zPTf6RhnVgYuseO4ZUl', artifact={'query': 'Google environmental initiatives 2023', 'follow_up_questions': None, 'answer': None, 'images': [], 'results': [{'title': 'Environmental - Googleusercontent', 'url': 'https://kstatic.googleusercontent.com/files/b5f7f972d02008d733ba918ebcc5f54124ec01d0fa6f731e276eb187f042d24d77828ecf525d0f264fafffe5d0d178cbd1d609232aac3faf9f23c4173690cecd', 'content': \"Google's 2023 Environmental Report provides an overview of our environmental sustainability strategy and targets and our annual progress towards them. 1. ... insights alongside key initiatives to show . how our work is informed by societal trends . and expectations. And for innovation, we'll call out the many ...\", 'score': 0.9990854, 'raw_content': None}, {'title': '2024 Environmental Report - Google Sustainability', 'url': 'https://sustainability.google/reports/google-2024-environmental-report/', 'content': \"Google's 2024 Environmental Report covers its environmental sustainability strategy and progress from 2023 fiscal year and first half of 2024. Download the report to learn about its targets, initiatives, and insights for others.\", 'score': 0.9974291, 'raw_content': None}, {'title': '2023 Environmental Report - Google Sustainability', 'url': 'https://sustainability.google/reports/google-2023-environmental-report/', 'content': \"Google's 2023 Environmental Report shows how it develops products and technology, works with partners, and operates sustainably. It covers data, performance, and progress from the 2022 fiscal year (January 1 to December 31, 2022).\", 'score': 0.9973061, 'raw_content': None}, {'title': 'Sustainable with Google 2023 - The Keyword', 'url': 'https://blog.google/outreach-initiatives/sustainability/sustainable-with-google-2023-collection/', 'content': \"Outreach & initiatives Arts & Culture Education ... Oct 10, 2023 4 articles 10 Oct, 2023 ... Google's Green Light uses AI to optimize traffic lights, saving fuel and reducing emissions. By Yossi Matias - Oct 10, 2023. Sustainability ...\", 'score': 0.99565166, 'raw_content': None}], 'response_time': 4.02})]}\n",
      "'\\n---\\n'\n",
      "---GENERATE---\n",
      "\"Output from node 'generate':\"\n",
      "'---'\n",
      "{ 'messages': [ 'Google has several environmental initiatives aimed at '\n",
      "                'promoting sustainability and reducing its environmental '\n",
      "                'impact. Here are some key aspects of their efforts based on '\n",
      "                'the provided contexts:\\n'\n",
      "                '\\n'\n",
      "                '1. **Environmental Sustainability Strategy and Targets**: '\n",
      "                \"Google's environmental reports, such as the 2023 and 2024 \"\n",
      "                'Environmental Reports, outline their sustainability strategy, '\n",
      "                'targets, and annual progress. These reports provide insights '\n",
      "                'into how Google develops products and technology, '\n",
      "                'collaborates with partners, and operates sustainably.\\n'\n",
      "                '\\n'\n",
      "                '2. **Green Light Initiative**: One specific initiative '\n",
      "                \"mentioned is Google's Green Light project, which uses \"\n",
      "                'artificial intelligence (AI) to optimize traffic lights. This '\n",
      "                'initiative aims to save fuel and reduce emissions by '\n",
      "                'improving traffic flow and reducing idle times at '\n",
      "                'intersections.\\n'\n",
      "                '\\n'\n",
      "                '3. **Annual Progress and Performance**: The reports cover '\n",
      "                'data, performance, and progress from previous fiscal years, '\n",
      "                'indicating a commitment to transparency and continuous '\n",
      "                'improvement in their environmental impact.\\n'\n",
      "                '\\n'\n",
      "                '4. **Innovation and Societal Trends**: Google’s work is '\n",
      "                'informed by societal trends and expectations, and they '\n",
      "                'emphasize innovation in their approach to sustainability. '\n",
      "                'This includes developing new technologies and solutions that '\n",
      "                'contribute to environmental goals.\\n'\n",
      "                '\\n'\n",
      "                \"These initiatives reflect Google's broader commitment to \"\n",
      "                'environmental sustainability, leveraging technology and '\n",
      "                'innovation to address environmental challenges. For more '\n",
      "                'detailed information, one can refer to their annual '\n",
      "                'environmental reports available on their sustainability '\n",
      "                'website.']}\n",
      "'\\n---\\n'\n"
     ]
    }
   ],
   "source": [
    "import pprint\n",
    "\n",
    "inputs = {\n",
    "    \"messages\": [\n",
    "        (\"user\", user_query),\n",
    "    ]\n",
    "}\n",
    "final_answer = ''\n",
    "for output in graph.stream(inputs):\n",
    "    for key, value in output.items():\n",
    "        pprint.pprint(f\"Output from node '{key}':\")\n",
    "        pprint.pprint(\"---\")\n",
    "        pprint.pprint(value, indent=2, width=80, depth=None)\n",
    "        final_answer = value\n",
    "    pprint.pprint(\"\\n---\\n\")"
   ]
  },
  {
   "cell_type": "code",
   "execution_count": 27,
   "id": "6c9ebf7a-ccd5-4946-8daf-985f8cd6736f",
   "metadata": {
    "scrolled": true
   },
   "outputs": [
    {
     "data": {
      "text/plain": [
       "\"Google has several environmental initiatives aimed at promoting sustainability and reducing its environmental impact. Here are some key aspects of their efforts based on the provided contexts:\\n\\n1. **Environmental Sustainability Strategy and Targets**: Google's environmental reports, such as the 2023 and 2024 Environmental Reports, outline their sustainability strategy, targets, and annual progress. These reports provide insights into how Google develops products and technology, collaborates with partners, and operates sustainably.\\n\\n2. **Green Light Initiative**: One specific initiative mentioned is Google's Green Light project, which uses artificial intelligence (AI) to optimize traffic lights. This initiative aims to save fuel and reduce emissions by improving traffic flow and reducing idle times at intersections.\\n\\n3. **Annual Progress and Performance**: The reports cover data, performance, and progress from previous fiscal years, indicating a commitment to transparency and continuous improvement in their environmental impact.\\n\\n4. **Innovation and Societal Trends**: Google’s work is informed by societal trends and expectations, and they emphasize innovation in their approach to sustainability. This includes developing new technologies and solutions that contribute to environmental goals.\\n\\nThese initiatives reflect Google's broader commitment to environmental sustainability, leveraging technology and innovation to address environmental challenges. For more detailed information, one can refer to their annual environmental reports available on their sustainability website.\""
      ]
     },
     "execution_count": 27,
     "metadata": {},
     "output_type": "execute_result"
    }
   ],
   "source": [
    "final_answer['messages'][0]"
   ]
  },
  {
   "cell_type": "markdown",
   "id": "58da5c40-fdbc-458f-800f-4089d01b4030",
   "metadata": {},
   "source": [
    "*Formatted:*\n",
    "\n",
    "Google has a comprehensive and multifaceted approach to environmental sustainability, encompassing various initiatives aimed at reducing carbon emissions, promoting sustainable practices, and leveraging technology for environmental benefits. Here are some key aspects of Google's environmental initiatives:\n",
    "\n",
    "1. **Carbon Reduction and Renewable Energy**:  \n",
    "- **iMasons Climate Accord**: Google is a founding member and part of the governing body of this coalition focused on reducing carbon emissions in digital infrastructure.\n",
    "- **Net-Zero Carbon**: Google is committed to operating sustainably with a focus on achieving net-zero carbon emissions. This includes investments in carbon-free energy and energy-efficient facilities, such as their all-electric, net water-positive Bay View campus.\n",
    "\n",
    "2. **Sustainable Consumption and Circular Economy**:\n",
    "- **Right to Repair**: Google has engaged with the European Commission to promote the repair and reuse of goods, particularly smartphones and tablets.\n",
    "- **Circular Economy**: Google works with suppliers to ensure environmental criteria are met, including the management of hazardous substances and resource efficiency. They also promote recycling and the use of refurbished products.\n",
    "\n",
    "3. **Water Stewardship**:\n",
    "- Google supports watershed projects and responsible water use, including initiatives in Chile and the United States. Their Bay View campus incorporates stormwater retention and other water-positive features.\n",
    "\n",
    "4. **Food Waste Reduction**:\n",
    "- **ReFED**: Google provided anchor funding to the ReFED Catalytic Grant Fund to accelerate and scale food waste solutions.\n",
    "\n",
    "5. **Reforestation and Biodiversity**:\n",
    "- **The Nature Conservancy (TNC)**: Google supports reforestation projects and the development of technology to stop deforestation in the Amazon. They also work on kelp reforestation and other biodiversity initiatives.\n",
    "\n",
    "6. **Technology and Data for Environmental Action**:\n",
    "- **Google Earth Engine**: Provides access to data for monitoring environmental changes.\n",
    "- **Environmental Insights Explorer**: Helps cities and organizations measure and reduce their carbon footprint.\n",
    "- **Google Maps Eco-Friendly Routing**: Offers routes that reduce carbon emissions, helping users make more sustainable travel choices.\n",
    "\n",
    "7. **Public Policy and Advocacy**:\n",
    "- Google engages in public policy advocacy to support clean energy and climate action, including comments on the U.S. Department of Energy's Clean Hydrogen Production Standard and participation in the First Movers Coalition for carbon dioxide removal.\n",
    "\n",
    "8. **Partnerships and Coalitions**:\n",
    "- Google collaborates with various organizations, including the World Business Council for Sustainable Development (WBCSD) and the World Resources Institute (WRI), to promote sustainability and address climate change.\n",
    "\n",
    "9. **Empowering Individuals and Communities**:\n",
    "- Google aims to help 1 billion people make more sustainable choices through their products by 2030. This includes features like energy-efficient Google Nest thermostats and carbon emissions information in Google Flights.\n",
    "\n",
    "Overall, Google's environmental initiatives are extensive and integrated into their business operations, product development, and community engagement, reflecting their commitment to sustainability and climate action."
   ]
  },
  {
   "cell_type": "code",
   "execution_count": null,
   "id": "a7419cb3-32ed-4f19-8a2a-e27155f9a628",
   "metadata": {},
   "outputs": [],
   "source": []
  }
 ],
 "metadata": {
  "colab": {
   "name": "CHAPTER8-2_HYBRID-ENSEMBLE.ipynb",
   "provenance": []
  },
  "kernelspec": {
   "display_name": "Python 3 (ipykernel)",
   "language": "python",
   "name": "python3"
  },
  "language_info": {
   "codemirror_mode": {
    "name": "ipython",
    "version": 3
   },
   "file_extension": ".py",
   "mimetype": "text/x-python",
   "name": "python",
   "nbconvert_exporter": "python",
   "pygments_lexer": "ipython3",
   "version": "3.11.6"
  }
 },
 "nbformat": 4,
 "nbformat_minor": 5
}
