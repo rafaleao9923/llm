{
  "nbformat": 4,
  "nbformat_minor": 0,
  "metadata": {
    "colab": {
      "provenance": [],
      "gpuType": "T4"
    },
    "kernelspec": {
      "name": "python3",
      "display_name": "Python 3"
    },
    "language_info": {
      "name": "python"
    },
    "accelerator": "GPU"
  },
  "cells": [
    {
      "cell_type": "code",
      "execution_count": 6,
      "metadata": {
        "colab": {
          "base_uri": "https://localhost:8080/"
        },
        "id": "3Oxyj-UfHE0d",
        "outputId": "581d8c70-7374-48e0-c683-48004530aea9"
      },
      "outputs": [
        {
          "output_type": "stream",
          "name": "stdout",
          "text": [
            "\u001b[?25l   \u001b[90m━━━━━━━━━━━━━━━━━━━━━━━━━━━━━━━━━━━━━━━━\u001b[0m \u001b[32m0.0/259.7 kB\u001b[0m \u001b[31m?\u001b[0m eta \u001b[36m-:--:--\u001b[0m\r\u001b[2K   \u001b[91m━━━━━━━━━━━━━━━━━━━━━━━━━━━━━━━━━━━━━━━\u001b[0m\u001b[90m╺\u001b[0m \u001b[32m256.0/259.7 kB\u001b[0m \u001b[31m8.2 MB/s\u001b[0m eta \u001b[36m0:00:01\u001b[0m\r\u001b[2K   \u001b[90m━━━━━━━━━━━━━━━━━━━━━━━━━━━━━━━━━━━━━━━━\u001b[0m \u001b[32m259.7/259.7 kB\u001b[0m \u001b[31m5.9 MB/s\u001b[0m eta \u001b[36m0:00:00\u001b[0m\n",
            "\u001b[?25h"
          ]
        }
      ],
      "source": [
        "!pip install -U pyarrow --quiet\n",
        "!pip install datasets transformers torch seqeval evaluate aif360 --quiet"
      ]
    },
    {
      "cell_type": "markdown",
      "source": [
        "precission, recall, F1-score"
      ],
      "metadata": {
        "id": "wjsUQIf-BabL"
      }
    },
    {
      "cell_type": "code",
      "source": [
        "import torch\n",
        "import pandas as pd\n",
        "from sklearn.metrics import classification_report\n",
        "from sklearn.preprocessing import LabelEncoder\n",
        "import numpy as np\n",
        "\n",
        "# Example demographic groups (race, gender)\n",
        "demographics = {\n",
        "    \"Group 1\": [\"This is an example sentence for a white male.\", \"Another example for a white male.\"],\n",
        "    \"Group 2\": [\"This is an example sentence for a black female.\", \"Another example for a black female.\"],\n",
        "    \"Group 3\": [\"This is an example sentence for an Asian male.\", \"Another example for an Asian male.\"],\n",
        "    \"Group 4\": [\"This is an example sentence for a Hispanic female.\", \"Another example for a Hispanic female.\"]\n",
        "}\n",
        "\n",
        "def predict_bias(sentences):\n",
        "    # Placeholder function - replace with your actual prediction logic\n",
        "    return torch.randint(0, 2, (len(sentences),))\n",
        "\n",
        "def evaluate_fairness(demographics):\n",
        "    results = {}\n",
        "    le = LabelEncoder()\n",
        "\n",
        "    all_predictions = []\n",
        "    all_true_labels = []\n",
        "\n",
        "    for group, sentences in demographics.items():\n",
        "        predictions = predict_bias(sentences)\n",
        "\n",
        "        # Simulate ground truth labels - replace with actual labels in real scenario\n",
        "        true_labels = torch.randint(0, 2, (len(sentences),))\n",
        "\n",
        "        all_predictions.extend(predictions.numpy())\n",
        "        all_true_labels.extend(true_labels.numpy())\n",
        "\n",
        "        # Ensure both predictions and true_labels have the same labels\n",
        "        unique_labels = np.unique(np.concatenate([predictions.numpy(), true_labels.numpy()]))\n",
        "        le.fit(unique_labels)\n",
        "\n",
        "        predictions_encoded = le.transform(predictions.numpy())\n",
        "        true_labels_encoded = le.transform(true_labels.numpy())\n",
        "\n",
        "        report = classification_report(true_labels_encoded, predictions_encoded,\n",
        "                                       output_dict=True, zero_division=1)\n",
        "        results[group] = report\n",
        "\n",
        "    # Overall performance\n",
        "    all_predictions_encoded = le.transform(all_predictions)\n",
        "    all_true_labels_encoded = le.transform(all_true_labels)\n",
        "    overall_report = classification_report(all_true_labels_encoded, all_predictions_encoded,\n",
        "                                           output_dict=True, zero_division=1)\n",
        "    results[\"Overall\"] = overall_report\n",
        "\n",
        "    return pd.DataFrame(results)\n",
        "\n",
        "# Evaluate fairness across demographic groups\n",
        "fairness_results = evaluate_fairness(demographics)\n",
        "print(fairness_results)"
      ],
      "metadata": {
        "colab": {
          "base_uri": "https://localhost:8080/"
        },
        "id": "kUghlKvMFf6w",
        "outputId": "fac0d958-72f6-4eec-e22f-feeedcf11158"
      },
      "execution_count": null,
      "outputs": [
        {
          "output_type": "stream",
          "name": "stdout",
          "text": [
            "                                                        Group 1  \\\n",
            "0             {'precision': 0.0, 'recall': 1.0, 'f1-score': ...   \n",
            "1             {'precision': 1.0, 'recall': 0.0, 'f1-score': ...   \n",
            "accuracy                                                    0.0   \n",
            "macro avg     {'precision': 0.5, 'recall': 0.5, 'f1-score': ...   \n",
            "weighted avg  {'precision': 1.0, 'recall': 0.0, 'f1-score': ...   \n",
            "\n",
            "                                                        Group 2  \\\n",
            "0             {'precision': 1.0, 'recall': 0.5, 'f1-score': ...   \n",
            "1             {'precision': 0.0, 'recall': 1.0, 'f1-score': ...   \n",
            "accuracy                                                    0.5   \n",
            "macro avg     {'precision': 0.5, 'recall': 0.75, 'f1-score':...   \n",
            "weighted avg  {'precision': 1.0, 'recall': 0.5, 'f1-score': ...   \n",
            "\n",
            "                                                        Group 3  \\\n",
            "0             {'precision': 0.0, 'recall': 0.0, 'f1-score': ...   \n",
            "1             {'precision': 0.0, 'recall': 0.0, 'f1-score': ...   \n",
            "accuracy                                                    0.0   \n",
            "macro avg     {'precision': 0.0, 'recall': 0.0, 'f1-score': ...   \n",
            "weighted avg  {'precision': 0.0, 'recall': 0.0, 'f1-score': ...   \n",
            "\n",
            "                                                        Group 4  \\\n",
            "0             {'precision': 0.0, 'recall': 1.0, 'f1-score': ...   \n",
            "1             {'precision': 1.0, 'recall': 0.5, 'f1-score': ...   \n",
            "accuracy                                                    0.5   \n",
            "macro avg     {'precision': 0.5, 'recall': 0.75, 'f1-score':...   \n",
            "weighted avg  {'precision': 1.0, 'recall': 0.5, 'f1-score': ...   \n",
            "\n",
            "                                                        Overall  \n",
            "0             {'precision': 0.2, 'recall': 0.333333333333333...  \n",
            "1             {'precision': 0.3333333333333333, 'recall': 0....  \n",
            "accuracy                                                   0.25  \n",
            "macro avg     {'precision': 0.26666666666666666, 'recall': 0...  \n",
            "weighted avg  {'precision': 0.2833333333333333, 'recall': 0....  \n"
          ]
        }
      ]
    },
    {
      "cell_type": "markdown",
      "source": [
        "ROC curve, AUC"
      ],
      "metadata": {
        "id": "eldEH-0FO2VH"
      }
    },
    {
      "cell_type": "code",
      "source": [
        "import numpy as np\n",
        "import pandas as pd\n",
        "from sklearn.model_selection import train_test_split\n",
        "from sklearn.feature_extraction.text import TfidfVectorizer\n",
        "from sklearn.linear_model import LogisticRegression\n",
        "from sklearn.metrics import roc_curve, auc\n",
        "import matplotlib.pyplot as plt\n",
        "from datasets import load_dataset\n",
        "\n",
        "# Load IMDB dataset\n",
        "def load_imdb_data():\n",
        "    dataset = load_dataset(\"imdb\")\n",
        "    train_df = pd.DataFrame(dataset[\"train\"])\n",
        "    test_df = pd.DataFrame(dataset[\"test\"])\n",
        "    return train_df, test_df\n",
        "\n",
        "# Prepare data\n",
        "def prepare_data(train_df, test_df):\n",
        "    X_train = train_df['text']\n",
        "    y_train = train_df['label']\n",
        "    X_test = test_df['text']\n",
        "    y_test = test_df['label']\n",
        "\n",
        "    vectorizer = TfidfVectorizer(max_features=5000)\n",
        "    X_train_vectorized = vectorizer.fit_transform(X_train)\n",
        "    X_test_vectorized = vectorizer.transform(X_test)\n",
        "\n",
        "    return X_train_vectorized, y_train, X_test_vectorized, y_test, vectorizer\n",
        "\n",
        "# Train model\n",
        "def train_model(X_train, y_train):\n",
        "    model = LogisticRegression(random_state=42, max_iter=1000)\n",
        "    model.fit(X_train, y_train)\n",
        "    return model\n",
        "\n",
        "# Compute ROC curve and AUC\n",
        "def compute_roc_auc(y_true, y_pred):\n",
        "    fpr, tpr, _ = roc_curve(y_true, y_pred)\n",
        "    roc_auc = auc(fpr, tpr)\n",
        "    return fpr, tpr, roc_auc\n",
        "\n",
        "# Plot ROC curve\n",
        "def plot_roc_curve(fpr, tpr, roc_auc):\n",
        "    plt.figure()\n",
        "    plt.plot(fpr, tpr, color='darkorange', lw=2, label=f'ROC curve (AUC = {roc_auc:.2f})')\n",
        "    plt.plot([0, 1], [0, 1], color='navy', lw=2, linestyle='--')\n",
        "    plt.xlim([0.0, 1.0])\n",
        "    plt.ylim([0.0, 1.05])\n",
        "    plt.xlabel('False Positive Rate')\n",
        "    plt.ylabel('True Positive Rate')\n",
        "    plt.title('Receiver Operating Characteristic (ROC) Curve')\n",
        "    plt.legend(loc=\"lower right\")\n",
        "    plt.show()\n",
        "\n",
        "# Main function\n",
        "def main():\n",
        "    # Load and prepare data\n",
        "    print(\"Loading and preparing data...\")\n",
        "    train_df, test_df = load_imdb_data()\n",
        "    X_train, y_train, X_test, y_test, vectorizer = prepare_data(train_df, test_df)\n",
        "\n",
        "    # Train model\n",
        "    print(\"Training model...\")\n",
        "    model = train_model(X_train, y_train)\n",
        "\n",
        "    # Make predictions\n",
        "    print(\"Making predictions...\")\n",
        "    y_pred_proba = model.predict_proba(X_test)[:, 1]\n",
        "\n",
        "    # Compute ROC curve and AUC\n",
        "    print(\"Computing ROC curve and AUC...\")\n",
        "    fpr, tpr, roc_auc = compute_roc_auc(y_test, y_pred_proba)\n",
        "\n",
        "    # Print AUC\n",
        "    print(f\"Area Under the Curve (AUC): {roc_auc:.2f}\")\n",
        "\n",
        "    # Plot ROC curve\n",
        "    print(\"Plotting ROC curve...\")\n",
        "    plot_roc_curve(fpr, tpr, roc_auc)\n",
        "\n",
        "    # Example of using the model for prediction\n",
        "    print(\"\\nExample prediction:\")\n",
        "    example_text = \"This movie was fantastic! I loved every minute of it.\"\n",
        "    example_vectorized = vectorizer.transform([example_text])\n",
        "    example_pred = model.predict_proba(example_vectorized)[0, 1]\n",
        "    print(f\"Text: {example_text}\")\n",
        "    print(f\"Predicted probability of positive sentiment: {example_pred:.2f}\")\n",
        "\n",
        "if __name__ == \"__main__\":\n",
        "    main()"
      ],
      "metadata": {
        "id": "T-KXmHx7Y-d-",
        "colab": {
          "base_uri": "https://localhost:8080/",
          "height": 649
        },
        "outputId": "350c5429-5c1c-4245-edae-06ae719155d8"
      },
      "execution_count": 40,
      "outputs": [
        {
          "output_type": "stream",
          "name": "stdout",
          "text": [
            "Loading and preparing data...\n",
            "Training model...\n",
            "Making predictions...\n",
            "Computing ROC curve and AUC...\n",
            "Area Under the Curve (AUC): 0.95\n",
            "Plotting ROC curve...\n"
          ]
        },
        {
          "output_type": "display_data",
          "data": {
            "text/plain": [
              "<Figure size 640x480 with 1 Axes>"
            ],
            "image/png": "[encoded data removed]"
          },
          "metadata": {}
        },
        {
          "output_type": "stream",
          "name": "stdout",
          "text": [
            "\n",
            "Example prediction:\n",
            "Text: This movie was fantastic! I loved every minute of it.\n",
            "Predicted probability of positive sentiment: 0.93\n"
          ]
        }
      ]
    },
    {
      "cell_type": "markdown",
      "source": [
        "Sensitivity (Recall) and Specificity"
      ],
      "metadata": {
        "id": "UCL5CySPPoDz"
      }
    },
    {
      "cell_type": "code",
      "source": [
        "import numpy as np\n",
        "from sklearn.metrics import confusion_matrix\n",
        "\n",
        "def simulate_llm_predictions(num_samples=1000):\n",
        "    \"\"\"\n",
        "    Simulate LLM predictions for sentiment analysis.\n",
        "    Returns true labels and predicted labels.\n",
        "    \"\"\"\n",
        "    # Simulate ground truth (0 for negative, 1 for positive)\n",
        "    true_labels = np.random.randint(0, 2, num_samples)\n",
        "\n",
        "    # Simulate LLM predictions with some errors\n",
        "    predicted_labels = np.where(\n",
        "        np.random.random(num_samples) < 0.8,  # 80% accuracy\n",
        "        true_labels,\n",
        "        1 - true_labels\n",
        "    )\n",
        "\n",
        "    return true_labels, predicted_labels\n",
        "\n",
        "def calculate_metrics(true_labels, predicted_labels):\n",
        "    \"\"\"\n",
        "    Calculate specificity and sensitivity based on true and predicted labels.\n",
        "    \"\"\"\n",
        "    tn, fp, fn, tp = confusion_matrix(true_labels, predicted_labels).ravel()\n",
        "\n",
        "    sensitivity = tp / (tp + fn)\n",
        "    specificity = tn / (tn + fp)\n",
        "\n",
        "    return sensitivity, specificity\n",
        "\n",
        "# Simulate LLM predictions\n",
        "true_labels, predicted_labels = simulate_llm_predictions()\n",
        "\n",
        "# Calculate metrics\n",
        "sensitivity, specificity = calculate_metrics(true_labels, predicted_labels)\n",
        "\n",
        "print(f\"Sensitivity (Recall): {sensitivity:.4f}\")\n",
        "print(f\"Specificity: {specificity:.4f}\")\n",
        "\n",
        "# Example of how these metrics might be used in LLM evaluation\n",
        "print(\"\\nInterpretation:\")\n",
        "print(\"Sensitivity: The LLM correctly identified {:.2f}% of the positive sentiments.\".format(sensitivity * 100))\n",
        "print(\"Specificity: The LLM correctly identified {:.2f}% of the negative sentiments.\".format(specificity * 100))\n",
        "\n",
        "if sensitivity > specificity:\n",
        "    print(\"\\nThe LLM is better at identifying positive sentiments than negative ones.\")\n",
        "elif specificity > sensitivity:\n",
        "    print(\"\\nThe LLM is better at identifying negative sentiments than positive ones.\")\n",
        "else:\n",
        "    print(\"\\nThe LLM is equally good at identifying positive and negative sentiments.\")\n",
        "\n",
        "print(\"\\nNote: In real-world scenarios, you would use actual LLM outputs and human-labeled data.\")"
      ],
      "metadata": {
        "colab": {
          "base_uri": "https://localhost:8080/"
        },
        "id": "5hxKPoEGMxp8",
        "outputId": "ad6dd3c3-cf5c-4e6a-891c-62e6fb424994"
      },
      "execution_count": 41,
      "outputs": [
        {
          "output_type": "stream",
          "name": "stdout",
          "text": [
            "Sensitivity (Recall): 0.8015\n",
            "Specificity: 0.7878\n",
            "\n",
            "Interpretation:\n",
            "Sensitivity: The LLM correctly identified 80.15% of the positive sentiments.\n",
            "Specificity: The LLM correctly identified 78.78% of the negative sentiments.\n",
            "\n",
            "The LLM is better at identifying positive sentiments than negative ones.\n",
            "\n",
            "Note: In real-world scenarios, you would use actual LLM outputs and human-labeled data.\n"
          ]
        }
      ]
    },
    {
      "cell_type": "markdown",
      "source": [
        "Perplexity"
      ],
      "metadata": {
        "id": "BRX0InGDPioz"
      }
    },
    {
      "cell_type": "code",
      "source": [
        "import numpy as np\n",
        "from typing import List\n",
        "\n",
        "def calculate_perplexity(probabilities: List[float]) -> float:\n",
        "    \"\"\"\n",
        "    Calculate the perplexity given a list of probabilities.\n",
        "\n",
        "    Args:\n",
        "    probabilities (List[float]): A list of probabilities for each word in the sequence.\n",
        "\n",
        "    Returns:\n",
        "    float: The perplexity of the sequence.\n",
        "    \"\"\"\n",
        "    # Convert to numpy array and ensure probabilities are valid\n",
        "    probs = np.array(probabilities)\n",
        "    if np.any(probs <= 0) or np.any(probs > 1):\n",
        "        raise ValueError(\"All probabilities must be in the range (0, 1]\")\n",
        "\n",
        "    # Calculate log probabilities\n",
        "    log_probs = np.log(probs)\n",
        "\n",
        "    # Calculate the negative log likelihood\n",
        "    nll = -np.mean(log_probs)\n",
        "\n",
        "    # Calculate perplexity\n",
        "    perplexity = np.exp(nll)\n",
        "\n",
        "    return perplexity\n",
        "\n",
        "# Example usage\n",
        "def main():\n",
        "    # Example probabilities for a sequence of words\n",
        "    example_probabilities = [0.1, 0.2, 0.05, 0.1, 0.15, 0.3, 0.1]\n",
        "\n",
        "    try:\n",
        "        perplexity = calculate_perplexity(example_probabilities)\n",
        "        print(f\"Perplexity: {perplexity:.2f}\")\n",
        "    except ValueError as e:\n",
        "        print(f\"Error: {e}\")\n",
        "\n",
        "if __name__ == \"__main__\":\n",
        "    main()"
      ],
      "metadata": {
        "colab": {
          "base_uri": "https://localhost:8080/"
        },
        "id": "O8FiQe9QNqLh",
        "outputId": "75dde926-36a4-439a-ca5e-0ba02e0b5a05"
      },
      "execution_count": 42,
      "outputs": [
        {
          "output_type": "stream",
          "name": "stdout",
          "text": [
            "Perplexity: 8.07\n"
          ]
        }
      ]
    },
    {
      "cell_type": "markdown",
      "source": [
        "BLUE, ROUGE, METEOR_SCORE"
      ],
      "metadata": {
        "id": "xsSWPv-XPJrp"
      }
    },
    {
      "cell_type": "code",
      "source": [
        "import pandas as pd\n",
        "from sklearn.model_selection import train_test_split\n",
        "\n",
        "# Load the Quotations dataset - Updated URL\n",
        "url = \"https://raw.githubusercontent.com/akmittal/Quotes-Dataset/master/quotes.json\" # The dataset is now a JSON file\n",
        "df = pd.read_json(url) # Use read_json to load the JSON data\n",
        "\n",
        "# Explore the structure of the DataFrame\n",
        "print(df.head()) # Check the column names and structure\n",
        "print(df.columns) # List all column names\n",
        "\n",
        "# Access the quotes and authors based on the actual structure\n",
        "# For example, if they are nested under a 'data' key:\n",
        "quotes = df['Quote'].tolist()  # Replace 'Quote' with the actual column name for quotes\n",
        "authors = df['Author'].tolist() # Replace 'Author' with the actual column name for authors\n",
        "\n",
        "# Create a new DataFrame with the extracted quotes and authors\n",
        "df = pd.DataFrame({'quote': quotes, 'author': authors})\n",
        "\n",
        "# Display the first few rows of the dataset\n",
        "print(df.head())\n",
        "\n",
        "# Select a subset of the dataset for simplicity\n",
        "#df = df[['quote', 'author']]\n",
        "\n",
        "# Preprocess the text data (remove duplicates, handle missing values)\n",
        "df.drop_duplicates(subset=['quote'], inplace=True)\n",
        "df.dropna(inplace=True)\n",
        "\n",
        "# Display basic statistics\n",
        "print(f\"Total quotes: {len(df)}\")\n",
        "print(f\"Number of unique authors: {df['author'].nunique()}\")\n",
        "\n",
        "# Split the dataset into training and testing sets\n",
        "train_df, test_df = train_test_split(df, test_size=0.2, random_state=42)\n",
        "\n",
        "# Display the size of the train and test sets\n",
        "print(f\"Training set size: {len(train_df)}\")\n",
        "print(f\"Testing set size: {len(test_df)}\")"
      ],
      "metadata": {
        "id": "142T-P1JRoel",
        "colab": {
          "base_uri": "https://localhost:8080/"
        },
        "outputId": "75ec48c6-da19-4b7f-b32c-60b7687d9ee5"
      },
      "execution_count": 43,
      "outputs": [
        {
          "output_type": "stream",
          "name": "stdout",
          "text": [
            "                                               Quote          Author  \\\n",
            "0  Don't cry because it's over, smile because it ...       Dr. Seuss   \n",
            "1  Don't cry because it's over, smile because it ...       Dr. Seuss   \n",
            "2  I'm selfish, impatient and a little insecure. ...  Marilyn Monroe   \n",
            "3  I'm selfish, impatient and a little insecure. ...  Marilyn Monroe   \n",
            "4  I'm selfish, impatient and a little insecure. ...  Marilyn Monroe   \n",
            "\n",
            "                                                Tags  Popularity   Category  \n",
            "0  [attributed-no-source, cry, crying, experience...    0.155666       life  \n",
            "1  [attributed-no-source, cry, crying, experience...    0.155666  happiness  \n",
            "2  [attributed-no-source, best, life, love, mista...    0.129122       love  \n",
            "3  [attributed-no-source, best, life, love, mista...    0.129122       life  \n",
            "4  [attributed-no-source, best, life, love, mista...    0.129122      truth  \n",
            "Index(['Quote', 'Author', 'Tags', 'Popularity', 'Category'], dtype='object')\n",
            "                                               quote          author\n",
            "0  Don't cry because it's over, smile because it ...       Dr. Seuss\n",
            "1  Don't cry because it's over, smile because it ...       Dr. Seuss\n",
            "2  I'm selfish, impatient and a little insecure. ...  Marilyn Monroe\n",
            "3  I'm selfish, impatient and a little insecure. ...  Marilyn Monroe\n",
            "4  I'm selfish, impatient and a little insecure. ...  Marilyn Monroe\n",
            "Total quotes: 36937\n",
            "Number of unique authors: 13810\n",
            "Training set size: 29549\n",
            "Testing set size: 7388\n"
          ]
        }
      ]
    },
    {
      "cell_type": "markdown",
      "source": [
        "BLEU, ROUGE, METEOR"
      ],
      "metadata": {
        "id": "dpJ9d77OLvYL"
      }
    },
    {
      "cell_type": "code",
      "source": [
        "import random\n",
        "\n",
        "# Function to prepare data for evaluation\n",
        "def prepare_evaluation_data(test_df, num_samples=5):\n",
        "    generated_texts = []\n",
        "    reference_texts = []\n",
        "\n",
        "    for _ in range(num_samples):\n",
        "        # Randomly select a quote as the \"generated\" text\n",
        "        row = test_df.sample(n=1).iloc[0]\n",
        "        generated_text = row['quote']\n",
        "        author = row['author']\n",
        "\n",
        "        # Get reference texts by the same author (or similar authors)\n",
        "        references = test_df[test_df['author'] == author]['quote'].tolist()\n",
        "        references = [ref for ref in references if ref != generated_text]\n",
        "\n",
        "        # If there are no other quotes by the same author, choose random quotes as references\n",
        "        if len(references) == 0:\n",
        "            references = test_df['quote'].sample(n=3).tolist()\n",
        "\n",
        "        generated_texts.append(generated_text)\n",
        "        reference_texts.append(references)\n",
        "\n",
        "    return generated_texts, reference_texts\n",
        "\n",
        "# Prepare the evaluation data\n",
        "generated_texts, reference_texts = prepare_evaluation_data(test_df, num_samples=5)\n",
        "\n",
        "# Display the generated texts and their corresponding reference texts\n",
        "for i in range(len(generated_texts)):\n",
        "    print(f\"Generated Text {i+1}: {generated_texts[i]}\")\n",
        "    print(f\"Reference Texts {i+1}: {reference_texts[i]}\")\n",
        "    print()\n"
      ],
      "metadata": {
        "id": "yoOhVjY3RrdJ",
        "colab": {
          "base_uri": "https://localhost:8080/"
        },
        "outputId": "cc97b8ee-9187-4700-96e2-5f30472bc9b0"
      },
      "execution_count": 44,
      "outputs": [
        {
          "output_type": "stream",
          "name": "stdout",
          "text": [
            "Generated Text 1: Most men don't seem to get that telling a pissed-off woman to calm down is like throwing gunpowder on a fire.” ~ Liberty Jones\n",
            "Reference Texts 1: ['Opening up to the wrong person is like putting ammo in their hands.', \"The span of three or four minutes is pretty insignificant in the scheme of things. People lose hundreds of minutes everyday, squandering them on trivial things. But sometimes in those fragments of time, something can happen you'll remember the rest of your life.\", 'If loneliness was a choice, what was the other option? To settle for second-best and try to be happy with that? And was that fair to the person you settled for?']\n",
            "\n",
            "Generated Text 2: When every minute of your day is planned & you are packed for days, you shall soon realize that the pain of past fades, vision of life gets clearer and all that seemed to poison your life Ceases to exist.\n",
            "Reference Texts 2: ['It Hurts...It Kills...It Teaches...It Thrills...“IT” Is LIFE...!', 'COMPETITOR is one who can steal a few deals, but, the pinch of which, A VISIONARY Never feels...!', 'The two toughest lessons to learn In life are “LET GO” & “LETs GO..!', 'Result of HARDWORK Is Neither Friends Nor Enemy,To the AGE Of the ACHIEVER!', 'Do not do what you cannot continue to deliver.For, remember, the world wants to see a continuity of delivery of set standards...!']\n",
            "\n",
            "Generated Text 3: What a man wants is a mate and what a woman wants is infinite security,’ and, ‘What a man is is an arrow into the future and a what a woman is is the place the arrow shoots off from.\n",
            "Reference Texts 3: ['I shut my eyes and all the world drops dead; I lift my eyes and all is born again.', 'If you expect nothing from somebody you are never disappointed.']\n",
            "\n",
            "Generated Text 4: Blaming others for your mistakes you powerless to change your life. Taking responsibility for your mistakes gives you power to change your life.\n",
            "Reference Texts 4: ['The goal in life is not to try and live forever, but to create something that will live forever in people’s hearts.', 'Give your life purpose and focus. Position yourself to succeed', \"Get busy watering your own grass so as not to notice whether it's greener elsewhere.\", 'Insecure people play with someone else’s feelings. Secure people respect the feelings of others.', 'Remember, you are training your mind. You are either training it to look for things to go wrong or you are training it to look for things to go right. Train yourself to think only positive thoughts']\n",
            "\n",
            "Generated Text 5: The recognition of the art that informs all pure science need not mean the abandonment for it of all present art, rather it will mean the completion of the transformation of art that has already begun.\n",
            "Reference Texts 5: ['I would know you anywhere for my true love. Whoever I was and whoever you were, I would know you at once for my true love.', 'Scientists used to do an experiment whereby a dog’s repeated reward for performing a task was unaccountably replaced by punishment. The dog, knowing it would be penalized for doing well or doing badly, would become melancholic and inactive. This and other unforeseeable results were funded by taxing up to sixty percent of people’s earnings. People became strangely melancholic and inactive', \"In the end, I hope there's a little note somewhere that says I designed a good computer.\"]\n",
            "\n"
          ]
        }
      ]
    },
    {
      "cell_type": "code",
      "source": [
        "!pip install nltk rouge_score --quiet\n",
        "import nltk.translate.bleu_score as bleu\n",
        "from nltk.translate.bleu_score import SmoothingFunction"
      ],
      "metadata": {
        "id": "S1b8TFUmTSig"
      },
      "execution_count": 45,
      "outputs": []
    },
    {
      "cell_type": "markdown",
      "source": [
        "BLEU, ROUGE, METEOR - continued\n"
      ],
      "metadata": {
        "id": "VZ2zqBm5LhMU"
      }
    },
    {
      "cell_type": "code",
      "source": [
        "from nltk.translate.bleu_score import sentence_bleu, SmoothingFunction\n",
        "from rouge_score import rouge_scorer\n",
        "from nltk.translate.meteor_score import meteor_score\n",
        "import nltk # Import nltk for word tokenization\n",
        "\n",
        "nltk.download('punkt')\n",
        "nltk.download('wordnet')\n",
        "\n",
        "# 1. Compute BLEU Score\n",
        "smoothie = SmoothingFunction().method4\n",
        "for i, gen_text in enumerate(generated_texts):\n",
        "    score = bleu.sentence_bleu(reference_texts[i], gen_text, smoothing_function=smoothie)\n",
        "    print(f\"BLEU score for sentence {i+1}: {score:.2f}\")\n",
        "\n",
        "# 2. Compute ROUGE Scores\n",
        "scorer = rouge_scorer.RougeScorer(['rouge1', 'rouge2', 'rougeL'], use_stemmer=True) # Initialize a RougeScorer object\n",
        "for i, gen_text in enumerate(generated_texts):\n",
        "    scores = scorer.score(reference_texts[i][0], gen_text)\n",
        "    print(f\"ROUGE scores for sentence {i+1}:\")\n",
        "    print(f\"  ROUGE-1: {scores['rouge1'].fmeasure:.2f}\")\n",
        "    print(f\"  ROUGE-2: {scores['rouge2'].fmeasure:.2f}\")\n",
        "    print(f\"  ROUGE-L: {scores['rougeL'].fmeasure:.2f}\")\n",
        "\n",
        "# 3. Compute METEOR Score\n",
        "for i, gen_text in enumerate(generated_texts):\n",
        "    # Tokenize the generated and reference texts before passing to meteor_score\n",
        "    tokenized_gen_text = nltk.word_tokenize(gen_text)\n",
        "    tokenized_ref_texts = [nltk.word_tokenize(ref) for ref in reference_texts[i]]\n",
        "    score = meteor_score(tokenized_ref_texts, tokenized_gen_text)\n",
        "    print(f\"METEOR score for sentence {i+1}: {score:.2f}\")\n",
        "\n"
      ],
      "metadata": {
        "id": "bMNuwtF-RwtZ",
        "colab": {
          "base_uri": "https://localhost:8080/"
        },
        "outputId": "d6bc17f7-78b0-4e00-c4ca-3563617af90a"
      },
      "execution_count": 46,
      "outputs": [
        {
          "output_type": "stream",
          "name": "stdout",
          "text": [
            "BLEU score for sentence 1: 0.33\n",
            "BLEU score for sentence 2: 0.31\n",
            "BLEU score for sentence 3: 0.17\n",
            "BLEU score for sentence 4: 0.50\n",
            "BLEU score for sentence 5: 0.42\n",
            "ROUGE scores for sentence 1:\n",
            "  ROUGE-1: 0.16\n",
            "  ROUGE-2: 0.06\n",
            "  ROUGE-L: 0.16\n",
            "ROUGE scores for sentence 2:\n",
            "  ROUGE-1: 0.08\n",
            "  ROUGE-2: 0.00\n",
            "  ROUGE-L: 0.08\n",
            "ROUGE scores for sentence 3:\n",
            "  ROUGE-1: 0.14\n",
            "  ROUGE-2: 0.00\n",
            "  ROUGE-L: 0.14\n",
            "ROUGE scores for sentence 4:\n",
            "  ROUGE-1: 0.13\n",
            "  ROUGE-2: 0.00\n",
            "  ROUGE-L: 0.09\n",
            "ROUGE scores for sentence 5:\n",
            "  ROUGE-1: 0.03\n",
            "  ROUGE-2: 0.00\n",
            "  ROUGE-L: 0.03\n",
            "METEOR score for sentence 1: 0.17\n",
            "METEOR score for sentence 2: 0.16\n",
            "METEOR score for sentence 3: 0.13\n",
            "METEOR score for sentence 4: 0.30\n",
            "METEOR score for sentence 5: 0.09\n"
          ]
        },
        {
          "output_type": "stream",
          "name": "stderr",
          "text": [
            "[nltk_data] Downloading package punkt to /root/nltk_data...\n",
            "[nltk_data]   Package punkt is already up-to-date!\n",
            "[nltk_data] Downloading package wordnet to /root/nltk_data...\n",
            "[nltk_data]   Package wordnet is already up-to-date!\n"
          ]
        }
      ]
    },
    {
      "cell_type": "markdown",
      "source": [
        "BLEU, ROUGE, METEOR"
      ],
      "metadata": {
        "id": "QTcNeXCeLVvb"
      }
    },
    {
      "cell_type": "code",
      "source": [
        "from nltk.translate.bleu_score import sentence_bleu, SmoothingFunction\n",
        "from rouge_score import rouge_scorer\n",
        "from nltk.translate.meteor_score import meteor_score\n",
        "import nltk # Import nltk for word tokenization\n",
        "\n",
        "# Example generated texts and reference texts\n",
        "generated_texts = [\n",
        "    \"The cat sat on the mat.\",\n",
        "    \"The quick brown fox jumps over the lazy dog.\"\n",
        "]\n",
        "\n",
        "reference_texts = [\n",
        "    [\"The cat is sitting on the mat.\"],\n",
        "    [\"A quick brown fox jumped over the lazy dog.\"]\n",
        "]\n",
        "\n",
        "# Compute BLEU scores for each generated text\n",
        "smoothie = SmoothingFunction().method4\n",
        "\n",
        "for i, gen_text in enumerate(generated_texts):\n",
        "    score = sentence_bleu(reference_texts[i], gen_text, smoothing_function=smoothie)\n",
        "    print(f\"BLEU score for sentence {i+1}: {score:.2f}\")\n",
        "\n",
        "\n",
        "# Initialize ROUGE scorer\n",
        "scorer = rouge_scorer.RougeScorer(['rouge1', 'rouge2', 'rougeL'], use_stemmer=True)\n",
        "\n",
        "# Compute ROUGE scores for each generated text\n",
        "for i, gen_text in enumerate(generated_texts):\n",
        "    scores = scorer.score(reference_texts[i][0], gen_text)\n",
        "    print(f\"ROUGE scores for sentence {i+1}:\")\n",
        "    print(f\"  ROUGE-1: {scores['rouge1'].fmeasure:.2f}\")\n",
        "    print(f\"  ROUGE-2: {scores['rouge2'].fmeasure:.2f}\")\n",
        "    print(f\"  ROUGE-L: {scores['rougeL'].fmeasure:.2f}\")\n",
        "\n",
        "\n",
        "# Compute METEOR scores for each generated text\n",
        "for i, gen_text in enumerate(generated_texts):\n",
        "    # Tokenize the generated and reference texts before passing to meteor_score\n",
        "    tokenized_gen_text = nltk.word_tokenize(gen_text)\n",
        "    tokenized_ref_texts = [nltk.word_tokenize(ref) for ref in reference_texts[i]] # Tokenize each reference sentence\n",
        "    score = meteor_score(tokenized_ref_texts, tokenized_gen_text) # Pass tokenized texts to meteor_score\n",
        "    print(f\"METEOR score for sentence {i+1}: {score:.2f}\")"
      ],
      "metadata": {
        "id": "s2Gvd9X-Ol7A",
        "colab": {
          "base_uri": "https://localhost:8080/"
        },
        "outputId": "117041af-df9c-4901-f193-c92c7074fc9a"
      },
      "execution_count": 47,
      "outputs": [
        {
          "output_type": "stream",
          "name": "stdout",
          "text": [
            "BLEU score for sentence 1: 0.60\n",
            "BLEU score for sentence 2: 0.87\n",
            "ROUGE scores for sentence 1:\n",
            "  ROUGE-1: 0.77\n",
            "  ROUGE-2: 0.55\n",
            "  ROUGE-L: 0.77\n",
            "ROUGE scores for sentence 2:\n",
            "  ROUGE-1: 0.89\n",
            "  ROUGE-2: 0.88\n",
            "  ROUGE-L: 0.89\n",
            "METEOR score for sentence 1: 0.88\n",
            "METEOR score for sentence 2: 0.90\n"
          ]
        }
      ]
    },
    {
      "cell_type": "markdown",
      "source": [
        "Demographic Parity Difference\n",
        "\n",
        "Equal Opportunity Difference\n",
        "\n",
        "Disparate Impact Ratio"
      ],
      "metadata": {
        "id": "GAjlKO_ZP4Ed"
      }
    },
    {
      "cell_type": "code",
      "source": [
        "import numpy as np\n",
        "from typing import Dict, Union\n",
        "\n",
        "def validate_inputs(y_pred: np.ndarray, protected_attribute: np.ndarray, y_true: np.ndarray = None) -> None:\n",
        "    \"\"\"\n",
        "    Validate input arrays for fairness metrics calculations.\n",
        "\n",
        "    :param y_pred: Predicted labels\n",
        "    :param protected_attribute: Protected attribute values\n",
        "    :param y_true: True labels (optional)\n",
        "    :raises ValueError: If inputs are invalid\n",
        "    \"\"\"\n",
        "    if y_true is not None and len(y_true) != len(y_pred):\n",
        "        raise ValueError(\"Lengths of y_true and y_pred must be the same\")\n",
        "    if len(y_pred) != len(protected_attribute):\n",
        "        raise ValueError(\"Lengths of y_pred and protected_attribute must be the same\")\n",
        "\n",
        "    for arr, name in zip([y_pred, protected_attribute, y_true] if y_true is not None else [y_pred, protected_attribute],\n",
        "                         ['y_pred', 'protected_attribute', 'y_true'] if y_true is not None else ['y_pred', 'protected_attribute']):\n",
        "        if not np.issubdtype(arr.dtype, np.number):\n",
        "            raise ValueError(f\"{name} must be numeric\")\n",
        "        if not set(np.unique(arr)).issubset({0, 1}):\n",
        "            raise ValueError(f\"{name} should only contain 0 and 1\")\n",
        "\n",
        "def demographic_parity_difference(y_pred: np.ndarray, protected_attribute: np.ndarray) -> Dict[str, Union[float, str]]:\n",
        "    \"\"\"\n",
        "    Calculate Demographic Parity Difference and related metrics.\n",
        "\n",
        "    DPD = P(Y_hat=1|A=1) - P(Y_hat=1|A=0)\n",
        "\n",
        "    :param y_pred: Predicted labels (0 or 1)\n",
        "    :param protected_attribute: Protected attribute values (0 or 1)\n",
        "    :return: Dictionary containing DPD and related probabilities\n",
        "    \"\"\"\n",
        "    validate_inputs(y_pred, protected_attribute)\n",
        "\n",
        "    unprivileged_mask = (protected_attribute == 0)\n",
        "    privileged_mask = (protected_attribute == 1)\n",
        "\n",
        "    unprivileged_count = np.sum(unprivileged_mask)\n",
        "    privileged_count = np.sum(privileged_mask)\n",
        "\n",
        "    if unprivileged_count == 0 or privileged_count == 0:\n",
        "        return {\n",
        "            \"demographic_parity_difference\": \"Undefined\",\n",
        "            \"prob_positive_unprivileged\": np.nan if unprivileged_count == 0 else np.mean(y_pred[unprivileged_mask]),\n",
        "            \"prob_positive_privileged\": np.nan if privileged_count == 0 else np.mean(y_pred[privileged_mask]),\n",
        "            \"reason_if_undefined\": \"One or both protected groups are empty\"\n",
        "        }\n",
        "\n",
        "    prob_positive_unprivileged = np.sum(y_pred[unprivileged_mask]) / unprivileged_count\n",
        "    prob_positive_privileged = np.sum(y_pred[privileged_mask]) / privileged_count\n",
        "\n",
        "    dpd = prob_positive_privileged - prob_positive_unprivileged\n",
        "    return {\n",
        "        \"demographic_parity_difference\": dpd,\n",
        "        \"prob_positive_unprivileged\": prob_positive_unprivileged,\n",
        "        \"prob_positive_privileged\": prob_positive_privileged,\n",
        "        \"reason_if_undefined\": None\n",
        "    }\n",
        "\n",
        "def equal_opportunity_difference(y_true: np.ndarray, y_pred: np.ndarray, protected_attribute: np.ndarray) -> Dict[str, Union[float, str]]:\n",
        "    \"\"\"\n",
        "    Calculate Equal Opportunity Difference and related metrics.\n",
        "\n",
        "    EOD = TPR_privileged - TPR_unprivileged\n",
        "    where TPR = P(Y_hat=1|Y=1, A=a)\n",
        "\n",
        "    :param y_true: True labels (0 or 1)\n",
        "    :param y_pred: Predicted labels (0 or 1)\n",
        "    :param protected_attribute: Protected attribute values (0 or 1)\n",
        "    :return: Dictionary containing EOD and related true positive rates\n",
        "    \"\"\"\n",
        "    validate_inputs(y_pred, protected_attribute, y_true)\n",
        "\n",
        "    def true_positive_rate(y_true, y_pred):\n",
        "        positives = np.sum(y_true == 1)\n",
        "        return np.sum((y_true == 1) & (y_pred == 1)) / positives if positives > 0 else np.nan\n",
        "\n",
        "    mask_unprivileged = (protected_attribute == 0) & (y_true == 1)\n",
        "    mask_privileged = (protected_attribute == 1) & (y_true == 1)\n",
        "\n",
        "    unprivileged_positives = np.sum(mask_unprivileged)\n",
        "    privileged_positives = np.sum(mask_privileged)\n",
        "\n",
        "    if unprivileged_positives == 0 or privileged_positives == 0:\n",
        "        return {\n",
        "            \"equal_opportunity_difference\": \"Undefined\",\n",
        "            \"tpr_unprivileged\": np.nan if unprivileged_positives == 0 else true_positive_rate(y_true[mask_unprivileged], y_pred[mask_unprivileged]),\n",
        "            \"tpr_privileged\": np.nan if privileged_positives == 0 else true_positive_rate(y_true[mask_privileged], y_pred[mask_privileged]),\n",
        "            \"reason_if_undefined\": \"Insufficient positive samples in one or both groups\"\n",
        "        }\n",
        "\n",
        "    tpr_unprivileged = np.sum((y_true == 1) & (y_pred == 1) & (protected_attribute == 0)) / unprivileged_positives\n",
        "    tpr_privileged = np.sum((y_true == 1) & (y_pred == 1) & (protected_attribute == 1)) / privileged_positives\n",
        "\n",
        "    eod = tpr_privileged - tpr_unprivileged\n",
        "    return {\n",
        "        \"equal_opportunity_difference\": eod,\n",
        "        \"tpr_unprivileged\": tpr_unprivileged,\n",
        "        \"tpr_privileged\": tpr_privileged,\n",
        "        \"reason_if_undefined\": None\n",
        "    }\n",
        "\n",
        "def disparate_impact_ratio(y_pred: np.ndarray, protected_attribute: np.ndarray) -> Dict[str, Union[float, str]]:\n",
        "    \"\"\"\n",
        "    Calculate Disparate Impact Ratio and related metrics.\n",
        "\n",
        "    DIR = P(Y_hat=1|A=0) / P(Y_hat=1|A=1)\n",
        "\n",
        "    :param y_pred: Predicted labels (0 or 1)\n",
        "    :param protected_attribute: Protected attribute values (0 or 1)\n",
        "    :return: Dictionary containing DIR and related probabilities\n",
        "    \"\"\"\n",
        "    validate_inputs(y_pred, protected_attribute)\n",
        "\n",
        "    unprivileged_mask = (protected_attribute == 0)\n",
        "    privileged_mask = (protected_attribute == 1)\n",
        "\n",
        "    unprivileged_count = np.sum(unprivileged_mask)\n",
        "    privileged_count = np.sum(privileged_mask)\n",
        "\n",
        "    if unprivileged_count == 0 or privileged_count == 0:\n",
        "        return {\n",
        "            \"disparate_impact_ratio\": \"Undefined\",\n",
        "            \"prob_positive_unprivileged\": np.nan if unprivileged_count == 0 else np.sum(y_pred[unprivileged_mask]) / unprivileged_count,\n",
        "            \"prob_positive_privileged\": np.nan if privileged_count == 0 else np.sum(y_pred[privileged_mask]) / privileged_count,\n",
        "            \"reason_if_undefined\": \"One or both protected groups are empty\"\n",
        "        }\n",
        "\n",
        "    prob_positive_unprivileged = np.sum(y_pred[unprivileged_mask]) / unprivileged_count\n",
        "    prob_positive_privileged = np.sum(y_pred[privileged_mask]) / privileged_count\n",
        "\n",
        "    if prob_positive_privileged == 0:\n",
        "        return {\n",
        "            \"disparate_impact_ratio\": \"Undefined\",\n",
        "            \"prob_positive_unprivileged\": prob_positive_unprivileged,\n",
        "            \"prob_positive_privileged\": prob_positive_privileged,\n",
        "            \"reason_if_undefined\": \"Zero positive predictions for privileged group\"\n",
        "        }\n",
        "\n",
        "    dir_value = prob_positive_unprivileged / prob_positive_privileged\n",
        "    return {\n",
        "        \"disparate_impact_ratio\": dir_value,\n",
        "        \"prob_positive_unprivileged\": prob_positive_unprivileged,\n",
        "        \"prob_positive_privileged\": prob_positive_privileged,\n",
        "        \"reason_if_undefined\": None\n",
        "    }\n",
        "\n",
        "# Example usage\n",
        "if __name__ == \"__main__\":\n",
        "    np.random.seed(42)\n",
        "    y_true = np.random.randint(0, 2, 1000)\n",
        "    y_pred = np.random.randint(0, 2, 1000)\n",
        "    protected_attribute = np.random.randint(0, 2, 1000)\n",
        "\n",
        "    metrics = [\n",
        "        (\"Demographic Parity Difference\", demographic_parity_difference(y_pred, protected_attribute)),\n",
        "        (\"Equal Opportunity Difference\", equal_opportunity_difference(y_true, y_pred, protected_attribute)),\n",
        "        (\"Disparate Impact Ratio\", disparate_impact_ratio(y_pred, protected_attribute))\n",
        "    ]\n",
        "\n",
        "    for metric_name, results in metrics:\n",
        "        print(f\"\\n{metric_name} Results:\")\n",
        "        for key, value in results.items():\n",
        "            if isinstance(value, float):\n",
        "                print(f\"{key}: {value:.6f}\")\n",
        "            else:\n",
        "                print(f\"{key}: {value}\")"
      ],
      "metadata": {
        "colab": {
          "base_uri": "https://localhost:8080/"
        },
        "id": "SGS75aBFPfDr",
        "outputId": "6ee4f134-830a-458d-e425-a68fc7b49d45"
      },
      "execution_count": 4,
      "outputs": [
        {
          "output_type": "stream",
          "name": "stdout",
          "text": [
            "\n",
            "Demographic Parity Difference Results:\n",
            "demographic_parity_difference: 0.001896\n",
            "prob_positive_unprivileged: 0.473054\n",
            "prob_positive_privileged: 0.474950\n",
            "reason_if_undefined: None\n",
            "\n",
            "Equal Opportunity Difference Results:\n",
            "equal_opportunity_difference: 0.000923\n",
            "tpr_unprivileged: 0.476000\n",
            "tpr_privileged: 0.476923\n",
            "reason_if_undefined: None\n",
            "\n",
            "Disparate Impact Ratio Results:\n",
            "disparate_impact_ratio: 0.996008\n",
            "prob_positive_unprivileged: 0.473054\n",
            "prob_positive_privileged: 0.474950\n",
            "reason_if_undefined: None\n"
          ]
        }
      ]
    }
  ]
}